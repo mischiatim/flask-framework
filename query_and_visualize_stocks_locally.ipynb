{
 "cells": [
  {
   "cell_type": "code",
   "execution_count": 101,
   "metadata": {},
   "outputs": [],
   "source": [
    "import requests\n",
    "import json "
   ]
  },
  {
   "cell_type": "code",
   "execution_count": 102,
   "metadata": {},
   "outputs": [],
   "source": [
    "from dotenv import dotenv_values"
   ]
  },
  {
   "cell_type": "code",
   "execution_count": 103,
   "metadata": {},
   "outputs": [],
   "source": [
    "import pandas as pd"
   ]
  },
  {
   "cell_type": "code",
   "execution_count": 104,
   "metadata": {},
   "outputs": [],
   "source": [
    "#Will need to deal with this with Heroku's config vars for deployment\n",
    "config = dotenv_values('.env')\n",
    "key = config['ALPHA_API_KEY']"
   ]
  },
  {
   "cell_type": "code",
   "execution_count": 105,
   "metadata": {},
   "outputs": [],
   "source": [
    "ticker = 'FB' "
   ]
  },
  {
   "cell_type": "code",
   "execution_count": 106,
   "metadata": {},
   "outputs": [],
   "source": [
    "url = 'https://www.alphavantage.co/query?function=TIME_SERIES_DAILY_ADJUSTED&symbol={}&apikey={}'.format(ticker, key)"
   ]
  },
  {
   "cell_type": "code",
   "execution_count": 107,
   "metadata": {},
   "outputs": [],
   "source": [
    "response = requests.get(url)"
   ]
  },
  {
   "cell_type": "code",
   "execution_count": 108,
   "metadata": {},
   "outputs": [],
   "source": [
    "response_data = response.json() "
   ]
  },
  {
   "cell_type": "code",
   "execution_count": 109,
   "metadata": {},
   "outputs": [
    {
     "data": {
      "text/plain": [
       "2"
      ]
     },
     "execution_count": 109,
     "metadata": {},
     "output_type": "execute_result"
    }
   ],
   "source": [
    "len(response_data)"
   ]
  },
  {
   "cell_type": "code",
   "execution_count": 110,
   "metadata": {},
   "outputs": [
    {
     "data": {
      "text/plain": [
       "dict_keys(['Meta Data', 'Time Series (Daily)'])"
      ]
     },
     "execution_count": 110,
     "metadata": {},
     "output_type": "execute_result"
    }
   ],
   "source": [
    "response_data.keys()"
   ]
  },
  {
   "cell_type": "code",
   "execution_count": 111,
   "metadata": {},
   "outputs": [
    {
     "data": {
      "text/plain": [
       "{'1. Information': 'Daily Time Series with Splits and Dividend Events',\n",
       " '2. Symbol': 'FB',\n",
       " '3. Last Refreshed': '2021-09-17',\n",
       " '4. Output Size': 'Compact',\n",
       " '5. Time Zone': 'US/Eastern'}"
      ]
     },
     "execution_count": 111,
     "metadata": {},
     "output_type": "execute_result"
    }
   ],
   "source": [
    "response_data['Meta Data']"
   ]
  },
  {
   "cell_type": "code",
   "execution_count": 112,
   "metadata": {},
   "outputs": [
    {
     "data": {
      "text/plain": [
       "5"
      ]
     },
     "execution_count": 112,
     "metadata": {},
     "output_type": "execute_result"
    }
   ],
   "source": [
    "len(response_data['Meta Data'])"
   ]
  },
  {
   "cell_type": "code",
   "execution_count": 113,
   "metadata": {},
   "outputs": [
    {
     "data": {
      "text/plain": [
       "100"
      ]
     },
     "execution_count": 113,
     "metadata": {},
     "output_type": "execute_result"
    }
   ],
   "source": [
    "len(response_data['Time Series (Daily)'])"
   ]
  },
  {
   "cell_type": "code",
   "execution_count": 114,
   "metadata": {},
   "outputs": [
    {
     "name": "stdout",
     "output_type": "stream",
     "text": [
      "{'Meta Data': {'1. Information': 'Daily Time Series with Splits and Dividend Events', '2. Symbol': 'FB', '3. Last Refreshed': '2021-09-17', '4. Output Size': 'Compact', '5. Time Zone': 'US/Eastern'}, 'Time Series (Daily)': {'2021-09-17': {'1. open': '371.405', '2. high': '371.41', '3. low': '361.59', '4. close': '364.72', '5. adjusted close': '364.72', '6. volume': '26298966', '7. dividend amount': '0.0000', '8. split coefficient': '1.0'}, '2021-09-16': {'1. open': '372.79', '2. high': '373.56', '3. low': '369.71', '4. close': '373.06', '5. adjusted close': '373.06', '6. volume': '11934217', '7. dividend amount': '0.0000', '8. split coefficient': '1.0'}, '2021-09-15': {'1. open': '377.0', '2. high': '377.555', '3. low': '367.67', '4. close': '373.92', '5. adjusted close': '373.92', '6. volume': '17940297', '7. dividend amount': '0.0000', '8. split coefficient': '1.0'}, '2021-09-14': {'1. open': '377.4', '2. high': '378.59', '3. low': '375.11', '4. close': '376.53', '5. adjusted close': '376.53', '6. volume': '8711569', '7. dividend amount': '0.0000', '8. split coefficient': '1.0'}, '2021-09-13': {'1. open': '381.68', '2. high': '381.75', '3. low': '374.3451', '4. close': '376.51', '5. adjusted close': '376.51', '6. volume': '13026275', '7. dividend amount': '0.0000', '8. split coefficient': '1.0'}, '2021-09-10': {'1. open': '381.361', '2. high': '383.79', '3. low': '378.26', '4. close': '378.69', '5. adjusted close': '378.69', '6. volume': '11549595', '7. dividend amount': '0.0000', '8. split coefficient': '1.0'}, '2021-09-09': {'1. open': '377.64', '2. high': '379.83', '3. low': '376.565', '4. close': '378.0', '5. adjusted close': '378.0', '6. volume': '9098941', '7. dividend amount': '0.0000', '8. split coefficient': '1.0'}, '2021-09-08': {'1. open': '380.16', '2. high': '380.87', '3. low': '374.79', '4. close': '377.57', '5. adjusted close': '377.57', '6. volume': '11067166', '7. dividend amount': '0.0000', '8. split coefficient': '1.0'}, '2021-09-07': {'1. open': '375.88', '2. high': '382.96', '3. low': '373.15', '4. close': '382.18', '5. adjusted close': '382.18', '6. volume': '10798920', '7. dividend amount': '0.0000', '8. split coefficient': '1.0'}, '2021-09-03': {'1. open': '374.75', '2. high': '377.16', '3. low': '373.11', '4. close': '376.26', '5. adjusted close': '376.26', '6. volume': '7511356', '7. dividend amount': '0.0000', '8. split coefficient': '1.0'}, '2021-09-02': {'1. open': '381.5', '2. high': '381.75', '3. low': '374.06', '4. close': '375.28', '5. adjusted close': '375.28', '6. volume': '14838274', '7. dividend amount': '0.0000', '8. split coefficient': '1.0'}, '2021-09-01': {'1. open': '379.59', '2. high': '384.33', '3. low': '378.81', '4. close': '382.05', '5. adjusted close': '382.05', '6. volume': '11567163', '7. dividend amount': '0.0000', '8. split coefficient': '1.0'}, '2021-08-31': {'1. open': '379.95', '2. high': '382.759', '3. low': '378.8', '4. close': '379.38', '5. adjusted close': '379.38', '6. volume': '12345350', '7. dividend amount': '0.0000', '8. split coefficient': '1.0'}, '2021-08-30': {'1. open': '372.56', '2. high': '381.49', '3. low': '370.52', '4. close': '380.66', '5. adjusted close': '380.66', '6. volume': '13547261', '7. dividend amount': '0.0000', '8. split coefficient': '1.0'}, '2021-08-27': {'1. open': '365.1', '2. high': '373.74', '3. low': '364.08', '4. close': '372.63', '5. adjusted close': '372.63', '6. volume': '11219142', '7. dividend amount': '0.0000', '8. split coefficient': '1.0'}, '2021-08-26': {'1. open': '368.375', '2. high': '369.44', '3. low': '364.13', '4. close': '364.38', '5. adjusted close': '364.38', '6. volume': '7888683', '7. dividend amount': '0.0000', '8. split coefficient': '1.0'}, '2021-08-25': {'1. open': '365.6', '2. high': '370.86', '3. low': '365.4', '4. close': '368.39', '5. adjusted close': '368.39', '6. volume': '9684519', '7. dividend amount': '0.0000', '8. split coefficient': '1.0'}, '2021-08-24': {'1. open': '363.66', '2. high': '367.9559', '3. low': '361.84', '4. close': '365.51', '5. adjusted close': '365.51', '6. volume': '9235148', '7. dividend amount': '0.0000', '8. split coefficient': '1.0'}, '2021-08-23': {'1. open': '359.44', '2. high': '365.69', '3. low': '359.1', '4. close': '363.35', '5. adjusted close': '363.35', '6. volume': '10942007', '7. dividend amount': '0.0000', '8. split coefficient': '1.0'}, '2021-08-20': {'1. open': '354.6', '2. high': '359.9898', '3. low': '353.31', '4. close': '359.37', '5. adjusted close': '359.37', '6. volume': '8697667', '7. dividend amount': '0.0000', '8. split coefficient': '1.0'}, '2021-08-19': {'1. open': '351.345', '2. high': '357.57', '3. low': '351.0', '4. close': '355.12', '5. adjusted close': '355.12', '6. volume': '12004535', '7. dividend amount': '0.0000', '8. split coefficient': '1.0'}, '2021-08-18': {'1. open': '356.25', '2. high': '359.86', '3. low': '355.15', '4. close': '355.45', '5. adjusted close': '355.45', '6. volume': '10042381', '7. dividend amount': '0.0000', '8. split coefficient': '1.0'}, '2021-08-17': {'1. open': '362.98', '2. high': '364.67', '3. low': '355.07', '4. close': '358.45', '5. adjusted close': '358.45', '6. volume': '12328737', '7. dividend amount': '0.0000', '8. split coefficient': '1.0'}, '2021-08-16': {'1. open': '362.52', '2. high': '366.95', '3. low': '357.38', '4. close': '366.56', '5. adjusted close': '366.56', '6. volume': '11232269', '7. dividend amount': '0.0000', '8. split coefficient': '1.0'}, '2021-08-13': {'1. open': '362.97', '2. high': '364.6607', '3. low': '361.48', '4. close': '363.18', '5. adjusted close': '363.18', '6. volume': '7184414', '7. dividend amount': '0.0000', '8. split coefficient': '1.0'}, '2021-08-12': {'1. open': '358.45', '2. high': '363.0', '3. low': '357.11', '4. close': '362.65', '5. adjusted close': '362.65', '6. volume': '7175206', '7. dividend amount': '0.0000', '8. split coefficient': '1.0'}, '2021-08-11': {'1. open': '362.1', '2. high': '362.36', '3. low': '357.81', '4. close': '359.96', '5. adjusted close': '359.96', '6. volume': '8400332', '7. dividend amount': '0.0000', '8. split coefficient': '1.0'}, '2021-08-10': {'1. open': '361.825', '2. high': '364.1', '3. low': '359.0435', '4. close': '361.13', '5. adjusted close': '361.13', '6. volume': '7469878', '7. dividend amount': '0.0000', '8. split coefficient': '1.0'}, '2021-08-09': {'1. open': '363.7623', '2. high': '365.775', '3. low': '360.75', '4. close': '361.61', '5. adjusted close': '361.61', '6. volume': '7798872', '7. dividend amount': '0.0000', '8. split coefficient': '1.0'}, '2021-08-06': {'1. open': '361.4', '2. high': '365.15', '3. low': '361.395', '4. close': '363.51', '5. adjusted close': '363.51', '6. volume': '8925017', '7. dividend amount': '0.0000', '8. split coefficient': '1.0'}, '2021-08-05': {'1. open': '359.64', '2. high': '363.9', '3. low': '356.9', '4. close': '362.97', '5. adjusted close': '362.97', '6. volume': '10247207', '7. dividend amount': '0.0000', '8. split coefficient': '1.0'}, '2021-08-04': {'1. open': '352.42', '2. high': '360.48', '3. low': '351.51', '4. close': '358.92', '5. adjusted close': '358.92', '6. volume': '14180572', '7. dividend amount': '0.0000', '8. split coefficient': '1.0'}, '2021-08-03': {'1. open': '352.73', '2. high': '353.7699', '3. low': '347.7', '4. close': '351.24', '5. adjusted close': '351.24', '6. volume': '12406054', '7. dividend amount': '0.0000', '8. split coefficient': '1.0'}, '2021-08-02': {'1. open': '358.1', '2. high': '359.4', '3. low': '350.74', '4. close': '351.95', '5. adjusted close': '351.95', '6. volume': '13180439', '7. dividend amount': '0.0000', '8. split coefficient': '1.0'}, '2021-07-30': {'1. open': '354.0', '2. high': '360.73', '3. low': '352.94', '4. close': '356.3', '5. adjusted close': '356.3', '6. volume': '15976179', '7. dividend amount': '0.0000', '8. split coefficient': '1.0'}, '2021-07-29': {'1. open': '361.0', '2. high': '365.52', '3. low': '356.74', '4. close': '358.32', '5. adjusted close': '358.32', '6. volume': '32210926', '7. dividend amount': '0.0000', '8. split coefficient': '1.0'}, '2021-07-28': {'1. open': '374.56', '2. high': '377.5499', '3. low': '366.93', '4. close': '373.28', '5. adjusted close': '373.28', '6. volume': '29676910', '7. dividend amount': '0.0000', '8. split coefficient': '1.0'}, '2021-07-27': {'1. open': '371.91', '2. high': '373.15', '3. low': '364.55', '4. close': '367.81', '5. adjusted close': '367.81', '6. volume': '15705447', '7. dividend amount': '0.0000', '8. split coefficient': '1.0'}, '2021-07-26': {'1. open': '369.58', '2. high': '374.44', '3. low': '368.22', '4. close': '372.46', '5. adjusted close': '372.46', '6. volume': '14925222', '7. dividend amount': '0.0000', '8. split coefficient': '1.0'}, '2021-07-23': {'1. open': '360.91', '2. high': '375.33', '3. low': '357.19', '4. close': '369.79', '5. adjusted close': '369.79', '6. volume': '33694328', '7. dividend amount': '0.0000', '8. split coefficient': '1.0'}, '2021-07-22': {'1. open': '346.68', '2. high': '351.54', '3. low': '345.21', '4. close': '351.19', '5. adjusted close': '351.19', '6. volume': '12385441', '7. dividend amount': '0.0000', '8. split coefficient': '1.0'}, '2021-07-21': {'1. open': '341.5', '2. high': '346.52', '3. low': '341.25', '4. close': '346.23', '5. adjusted close': '346.23', '6. volume': '9279657', '7. dividend amount': '0.0000', '8. split coefficient': '1.0'}, '2021-07-20': {'1. open': '338.8', '2. high': '343.45', '3. low': '334.5', '4. close': '341.66', '5. adjusted close': '341.66', '6. volume': '11024277', '7. dividend amount': '0.0000', '8. split coefficient': '1.0'}, '2021-07-19': {'1. open': '337.57', '2. high': '339.79', '3. low': '334.54', '4. close': '336.95', '5. adjusted close': '336.95', '6. volume': '14372345', '7. dividend amount': '0.0000', '8. split coefficient': '1.0'}, '2021-07-16': {'1. open': '344.91', '2. high': '345.9899', '3. low': '340.14', '4. close': '341.16', '5. adjusted close': '341.16', '6. volume': '11026093', '7. dividend amount': '0.0000', '8. split coefficient': '1.0'}, '2021-07-15': {'1. open': '349.2348', '2. high': '349.2348', '3. low': '340.22', '4. close': '344.46', '5. adjusted close': '344.46', '6. volume': '14781594', '7. dividend amount': '0.0000', '8. split coefficient': '1.0'}, '2021-07-14': {'1. open': '354.56', '2. high': '355.2', '3. low': '346.73', '4. close': '347.63', '5. adjusted close': '347.63', '6. volume': '13894221', '7. dividend amount': '0.0000', '8. split coefficient': '1.0'}, '2021-07-13': {'1. open': '351.5', '2. high': '358.49', '3. low': '348.8', '4. close': '352.09', '5. adjusted close': '352.09', '6. volume': '11455963', '7. dividend amount': '0.0000', '8. split coefficient': '1.0'}, '2021-07-12': {'1. open': '351.23', '2. high': '354.19', '3. low': '349.64', '4. close': '353.16', '5. adjusted close': '353.16', '6. volume': '10018624', '7. dividend amount': '0.0000', '8. split coefficient': '1.0'}, '2021-07-09': {'1. open': '345.32', '2. high': '350.71', '3. low': '345.265', '4. close': '350.42', '5. adjusted close': '350.42', '6. volume': '13018694', '7. dividend amount': '0.0000', '8. split coefficient': '1.0'}, '2021-07-08': {'1. open': '345.73', '2. high': '348.33', '3. low': '342.56', '4. close': '345.65', '5. adjusted close': '345.65', '6. volume': '14406457', '7. dividend amount': '0.0000', '8. split coefficient': '1.0'}, '2021-07-07': {'1. open': '355.26', '2. high': '356.49', '3. low': '350.0', '4. close': '350.49', '5. adjusted close': '350.49', '6. volume': '14218866', '7. dividend amount': '0.0000', '8. split coefficient': '1.0'}, '2021-07-06': {'1. open': '356.5', '2. high': '358.79', '3. low': '349.18', '4. close': '352.78', '5. adjusted close': '352.78', '6. volume': '13488455', '7. dividend amount': '0.0000', '8. split coefficient': '1.0'}, '2021-07-02': {'1. open': '355.1', '2. high': '356.44', '3. low': '352.62', '4. close': '354.7', '5. adjusted close': '354.7', '6. volume': '11524614', '7. dividend amount': '0.0000', '8. split coefficient': '1.0'}, '2021-07-01': {'1. open': '346.82', '2. high': '354.6699', '3. low': '346.5', '4. close': '354.39', '5. adjusted close': '354.39', '6. volume': '17137021', '7. dividend amount': '0.0000', '8. split coefficient': '1.0'}, '2021-06-30': {'1. open': '352.165', '2. high': '352.92', '3. low': '347.17', '4. close': '347.71', '5. adjusted close': '347.71', '6. volume': '15107514', '7. dividend amount': '0.0000', '8. split coefficient': '1.0'}, '2021-06-29': {'1. open': '356.27', '2. high': '356.74', '3. low': '349.05', '4. close': '351.89', '5. adjusted close': '351.89', '6. volume': '21417305', '7. dividend amount': '0.0000', '8. split coefficient': '1.0'}, '2021-06-28': {'1. open': '342.46', '2. high': '358.14', '3. low': '341.77', '4. close': '355.64', '5. adjusted close': '355.64', '6. volume': '29156132', '7. dividend amount': '0.0000', '8. split coefficient': '1.0'}, '2021-06-25': {'1. open': '342.59', '2. high': '344.12', '3. low': '339.68', '4. close': '341.37', '5. adjusted close': '341.37', '6. volume': '14594444', '7. dividend amount': '0.0000', '8. split coefficient': '1.0'}, '2021-06-24': {'1. open': '341.85', '2. high': '344.9', '3. low': '341.79', '4. close': '343.18', '5. adjusted close': '343.18', '6. volume': '12329096', '7. dividend amount': '0.0000', '8. split coefficient': '1.0'}, '2021-06-23': {'1. open': '339.35', '2. high': '343.4199', '3. low': '338.2', '4. close': '340.59', '5. adjusted close': '340.59', '6. volume': '14817824', '7. dividend amount': '0.0000', '8. split coefficient': '1.0'}, '2021-06-22': {'1. open': '332.685', '2. high': '339.92', '3. low': '332.6', '4. close': '339.03', '5. adjusted close': '339.03', '6. volume': '15345299', '7. dividend amount': '0.0000', '8. split coefficient': '1.0'}, '2021-06-21': {'1. open': '331.09', '2. high': '332.92', '3. low': '327.65', '4. close': '332.29', '5. adjusted close': '332.29', '6. volume': '11337522', '7. dividend amount': '0.0000', '8. split coefficient': '1.0'}, '2021-06-18': {'1. open': '334.53', '2. high': '336.15', '3. low': '329.0', '4. close': '329.66', '5. adjusted close': '329.66', '6. volume': '23039457', '7. dividend amount': '0.0000', '8. split coefficient': '1.0'}, '2021-06-17': {'1. open': '330.49', '2. high': '337.98', '3. low': '330.15', '4. close': '336.51', '5. adjusted close': '336.51', '6. volume': '17794080', '7. dividend amount': '0.0000', '8. split coefficient': '1.0'}, '2021-06-16': {'1. open': '336.695', '2. high': '337.55', '3. low': '328.72', '4. close': '331.08', '5. adjusted close': '331.08', '6. volume': '17031281', '7. dividend amount': '0.0000', '8. split coefficient': '1.0'}, '2021-06-15': {'1. open': '336.99', '2. high': '339.92', '3. low': '335.03', '4. close': '336.75', '5. adjusted close': '336.75', '6. volume': '15795226', '7. dividend amount': '0.0000', '8. split coefficient': '1.0'}, '2021-06-14': {'1. open': '331.9', '2. high': '336.82', '3. low': '329.81', '4. close': '336.77', '5. adjusted close': '336.77', '6. volume': '12250799', '7. dividend amount': '0.0000', '8. split coefficient': '1.0'}, '2021-06-11': {'1. open': '332.58', '2. high': '332.83', '3. low': '328.93', '4. close': '331.26', '5. adjusted close': '331.26', '6. volume': '13587916', '7. dividend amount': '0.0000', '8. split coefficient': '1.0'}, '2021-06-10': {'1. open': '330.785', '2. high': '333.94', '3. low': '328.545', '4. close': '332.46', '5. adjusted close': '332.46', '6. volume': '13240229', '7. dividend amount': '0.0000', '8. split coefficient': '1.0'}, '2021-06-09': {'1. open': '335.74', '2. high': '336.8', '3. low': '330.0', '4. close': '330.25', '5. adjusted close': '330.25', '6. volume': '13727946', '7. dividend amount': '0.0000', '8. split coefficient': '1.0'}, '2021-06-08': {'1. open': '336.7', '2. high': '338.2999', '3. low': '332.24', '4. close': '333.68', '5. adjusted close': '333.68', '6. volume': '14580464', '7. dividend amount': '0.0000', '8. split coefficient': '1.0'}, '2021-06-07': {'1. open': '329.48', '2. high': '337.69', '3. low': '328.93', '4. close': '336.58', '5. adjusted close': '336.58', '6. volume': '20136707', '7. dividend amount': '0.0000', '8. split coefficient': '1.0'}, '2021-06-04': {'1. open': '325.9', '2. high': '332.455', '3. low': '325.18', '4. close': '330.35', '5. adjusted close': '330.35', '6. volume': '13289383', '7. dividend amount': '0.0000', '8. split coefficient': '1.0'}, '2021-06-03': {'1. open': '325.78', '2. high': '327.375', '3. low': '323.48', '4. close': '326.04', '5. adjusted close': '326.04', '6. volume': '12610788', '7. dividend amount': '0.0000', '8. split coefficient': '1.0'}, '2021-06-02': {'1. open': '330.38', '2. high': '331.87', '3. low': '327.1215', '4. close': '329.15', '5. adjusted close': '329.15', '6. volume': '11654275', '7. dividend amount': '0.0000', '8. split coefficient': '1.0'}, '2021-06-01': {'1. open': '330.15', '2. high': '331.42', '3. low': '326.64', '4. close': '329.13', '5. adjusted close': '329.13', '6. volume': '11765906', '7. dividend amount': '0.0000', '8. split coefficient': '1.0'}, '2021-05-28': {'1. open': '331.0', '2. high': '332.8684', '3. low': '328.33', '4. close': '328.73', '5. adjusted close': '328.73', '6. volume': '12037430', '7. dividend amount': '0.0000', '8. split coefficient': '1.0'}, '2021-05-27': {'1. open': '328.0', '2. high': '333.78', '3. low': '326.76', '4. close': '332.75', '5. adjusted close': '332.75', '6. volume': '20477726', '7. dividend amount': '0.0000', '8. split coefficient': '1.0'}, '2021-05-26': {'1. open': '328.35', '2. high': '329.8299', '3. low': '325.82', '4. close': '327.66', '5. adjusted close': '327.66', '6. volume': '9686917', '7. dividend amount': '0.0000', '8. split coefficient': '1.0'}, '2021-05-25': {'1. open': '327.08', '2. high': '329.18', '3. low': '324.8', '4. close': '327.79', '5. adjusted close': '327.79', '6. volume': '16436965', '7. dividend amount': '0.0000', '8. split coefficient': '1.0'}, '2021-05-24': {'1. open': '318.21', '2. high': '325.95', '3. low': '318.03', '4. close': '324.63', '5. adjusted close': '324.63', '6. volume': '16445356', '7. dividend amount': '0.0000', '8. split coefficient': '1.0'}, '2021-05-21': {'1. open': '319.29', '2. high': '319.93', '3. low': '315.8101', '4. close': '316.23', '5. adjusted close': '316.23', '6. volume': '13600901', '7. dividend amount': '0.0000', '8. split coefficient': '1.0'}, '2021-05-20': {'1. open': '313.58', '2. high': '319.25', '3. low': '313.16', '4. close': '318.61', '5. adjusted close': '318.61', '6. volume': '17320241', '7. dividend amount': '0.0000', '8. split coefficient': '1.0'}, '2021-05-19': {'1. open': '304.185', '2. high': '314.66', '3. low': '303.57', '4. close': '313.59', '5. adjusted close': '313.59', '6. volume': '19106244', '7. dividend amount': '0.0000', '8. split coefficient': '1.0'}, '2021-05-18': {'1. open': '315.59', '2. high': '316.5', '3. low': '309.81', '4. close': '309.96', '5. adjusted close': '309.96', '6. volume': '14522403', '7. dividend amount': '0.0000', '8. split coefficient': '1.0'}, '2021-05-17': {'1. open': '313.55', '2. high': '315.68', '3. low': '311.58', '4. close': '315.46', '5. adjusted close': '315.46', '6. volume': '15401343', '7. dividend amount': '0.0000', '8. split coefficient': '1.0'}, '2021-05-14': {'1. open': '309.54', '2. high': '316.85', '3. low': '309.08', '4. close': '315.94', '5. adjusted close': '315.94', '6. volume': '19245724', '7. dividend amount': '0.0000', '8. split coefficient': '1.0'}, '2021-05-13': {'1. open': '306.0833', '2. high': '308.86', '3. low': '302.7701', '4. close': '305.26', '5. adjusted close': '305.26', '6. volume': '18079160', '7. dividend amount': '0.0000', '8. split coefficient': '1.0'}, '2021-05-12': {'1. open': '301.13', '2. high': '304.96', '3. low': '298.19', '4. close': '302.55', '5. adjusted close': '302.55', '6. volume': '24641010', '7. dividend amount': '0.0000', '8. split coefficient': '1.0'}, '2021-05-11': {'1. open': '300.75', '2. high': '306.84', '3. low': '299.69', '4. close': '306.53', '5. adjusted close': '306.53', '6. volume': '18920086', '7. dividend amount': '0.0000', '8. split coefficient': '1.0'}, '2021-05-10': {'1. open': '314.35', '2. high': '314.5786', '3. low': '304.83', '4. close': '305.97', '5. adjusted close': '305.97', '6. volume': '24239170', '7. dividend amount': '0.0000', '8. split coefficient': '1.0'}, '2021-05-07': {'1. open': '322.38', '2. high': '322.935', '3. low': '318.75', '4. close': '319.08', '5. adjusted close': '319.08', '6. volume': '15916743', '7. dividend amount': '0.0000', '8. split coefficient': '1.0'}, '2021-05-06': {'1. open': '314.52', '2. high': '320.24', '3. low': '313.275', '4. close': '320.02', '5. adjusted close': '320.02', '6. volume': '19012241', '7. dividend amount': '0.0000', '8. split coefficient': '1.0'}, '2021-05-05': {'1. open': '318.19', '2. high': '321.06', '3. low': '314.49', '4. close': '315.02', '5. adjusted close': '315.02', '6. volume': '15577605', '7. dividend amount': '0.0000', '8. split coefficient': '1.0'}, '2021-05-04': {'1. open': '320.025', '2. high': '322.19', '3. low': '313.12', '4. close': '318.36', '5. adjusted close': '318.36', '6. volume': '24032557', '7. dividend amount': '0.0000', '8. split coefficient': '1.0'}, '2021-05-03': {'1. open': '326.17', '2. high': '328.55', '3. low': '321.84', '4. close': '322.58', '5. adjusted close': '322.58', '6. volume': '18719462', '7. dividend amount': '0.0000', '8. split coefficient': '1.0'}, '2021-04-30': {'1. open': '326.1435', '2. high': '329.82', '3. low': '324.5', '4. close': '325.08', '5. adjusted close': '325.08', '6. volume': '26332423', '7. dividend amount': '0.0000', '8. split coefficient': '1.0'}, '2021-04-29': {'1. open': '330.12', '2. high': '331.81', '3. low': '321.61', '4. close': '329.51', '5. adjusted close': '329.51', '6. volume': '56526771', '7. dividend amount': '0.0000', '8. split coefficient': '1.0'}, '2021-04-28': {'1. open': '307.36', '2. high': '310.92', '3. low': '305.37', '4. close': '307.1', '5. adjusted close': '307.1', '6. volume': '33907210', '7. dividend amount': '0.0000', '8. split coefficient': '1.0'}}}\n"
     ]
    }
   ],
   "source": [
    "print(response_data)"
   ]
  },
  {
   "cell_type": "code",
   "execution_count": 115,
   "metadata": {},
   "outputs": [],
   "source": [
    "ticker_df = pd.DataFrame.from_dict(response_data['Time Series (Daily)'],orient='index',dtype='float')"
   ]
  },
  {
   "cell_type": "code",
   "execution_count": 116,
   "metadata": {},
   "outputs": [
    {
     "data": {
      "text/html": [
       "<div>\n",
       "<style scoped>\n",
       "    .dataframe tbody tr th:only-of-type {\n",
       "        vertical-align: middle;\n",
       "    }\n",
       "\n",
       "    .dataframe tbody tr th {\n",
       "        vertical-align: top;\n",
       "    }\n",
       "\n",
       "    .dataframe thead th {\n",
       "        text-align: right;\n",
       "    }\n",
       "</style>\n",
       "<table border=\"1\" class=\"dataframe\">\n",
       "  <thead>\n",
       "    <tr style=\"text-align: right;\">\n",
       "      <th></th>\n",
       "      <th>1. open</th>\n",
       "      <th>2. high</th>\n",
       "      <th>3. low</th>\n",
       "      <th>4. close</th>\n",
       "      <th>5. adjusted close</th>\n",
       "      <th>6. volume</th>\n",
       "      <th>7. dividend amount</th>\n",
       "      <th>8. split coefficient</th>\n",
       "    </tr>\n",
       "  </thead>\n",
       "  <tbody>\n",
       "    <tr>\n",
       "      <th>2021-09-17</th>\n",
       "      <td>371.405</td>\n",
       "      <td>371.410</td>\n",
       "      <td>361.5900</td>\n",
       "      <td>364.72</td>\n",
       "      <td>364.72</td>\n",
       "      <td>26298966.0</td>\n",
       "      <td>0.0</td>\n",
       "      <td>1.0</td>\n",
       "    </tr>\n",
       "    <tr>\n",
       "      <th>2021-09-16</th>\n",
       "      <td>372.790</td>\n",
       "      <td>373.560</td>\n",
       "      <td>369.7100</td>\n",
       "      <td>373.06</td>\n",
       "      <td>373.06</td>\n",
       "      <td>11934217.0</td>\n",
       "      <td>0.0</td>\n",
       "      <td>1.0</td>\n",
       "    </tr>\n",
       "    <tr>\n",
       "      <th>2021-09-15</th>\n",
       "      <td>377.000</td>\n",
       "      <td>377.555</td>\n",
       "      <td>367.6700</td>\n",
       "      <td>373.92</td>\n",
       "      <td>373.92</td>\n",
       "      <td>17940297.0</td>\n",
       "      <td>0.0</td>\n",
       "      <td>1.0</td>\n",
       "    </tr>\n",
       "    <tr>\n",
       "      <th>2021-09-14</th>\n",
       "      <td>377.400</td>\n",
       "      <td>378.590</td>\n",
       "      <td>375.1100</td>\n",
       "      <td>376.53</td>\n",
       "      <td>376.53</td>\n",
       "      <td>8711569.0</td>\n",
       "      <td>0.0</td>\n",
       "      <td>1.0</td>\n",
       "    </tr>\n",
       "    <tr>\n",
       "      <th>2021-09-13</th>\n",
       "      <td>381.680</td>\n",
       "      <td>381.750</td>\n",
       "      <td>374.3451</td>\n",
       "      <td>376.51</td>\n",
       "      <td>376.51</td>\n",
       "      <td>13026275.0</td>\n",
       "      <td>0.0</td>\n",
       "      <td>1.0</td>\n",
       "    </tr>\n",
       "  </tbody>\n",
       "</table>\n",
       "</div>"
      ],
      "text/plain": [
       "            1. open  2. high    3. low  4. close  5. adjusted close  \\\n",
       "2021-09-17  371.405  371.410  361.5900    364.72             364.72   \n",
       "2021-09-16  372.790  373.560  369.7100    373.06             373.06   \n",
       "2021-09-15  377.000  377.555  367.6700    373.92             373.92   \n",
       "2021-09-14  377.400  378.590  375.1100    376.53             376.53   \n",
       "2021-09-13  381.680  381.750  374.3451    376.51             376.51   \n",
       "\n",
       "             6. volume  7. dividend amount  8. split coefficient  \n",
       "2021-09-17  26298966.0                 0.0                   1.0  \n",
       "2021-09-16  11934217.0                 0.0                   1.0  \n",
       "2021-09-15  17940297.0                 0.0                   1.0  \n",
       "2021-09-14   8711569.0                 0.0                   1.0  \n",
       "2021-09-13  13026275.0                 0.0                   1.0  "
      ]
     },
     "execution_count": 116,
     "metadata": {},
     "output_type": "execute_result"
    }
   ],
   "source": [
    "ticker_df.head()"
   ]
  },
  {
   "cell_type": "code",
   "execution_count": 117,
   "metadata": {},
   "outputs": [
    {
     "data": {
      "text/plain": [
       "Index(['1. open', '2. high', '3. low', '4. close', '5. adjusted close',\n",
       "       '6. volume', '7. dividend amount', '8. split coefficient'],\n",
       "      dtype='object')"
      ]
     },
     "execution_count": 117,
     "metadata": {},
     "output_type": "execute_result"
    }
   ],
   "source": [
    "ticker_df.columns"
   ]
  },
  {
   "cell_type": "code",
   "execution_count": 118,
   "metadata": {},
   "outputs": [
    {
     "data": {
      "text/plain": [
       "Index(['2021-09-17', '2021-09-16', '2021-09-15', '2021-09-14', '2021-09-13',\n",
       "       '2021-09-10', '2021-09-09', '2021-09-08', '2021-09-07', '2021-09-03',\n",
       "       '2021-09-02', '2021-09-01', '2021-08-31', '2021-08-30', '2021-08-27',\n",
       "       '2021-08-26', '2021-08-25', '2021-08-24', '2021-08-23', '2021-08-20',\n",
       "       '2021-08-19', '2021-08-18', '2021-08-17', '2021-08-16', '2021-08-13',\n",
       "       '2021-08-12', '2021-08-11', '2021-08-10', '2021-08-09', '2021-08-06',\n",
       "       '2021-08-05', '2021-08-04', '2021-08-03', '2021-08-02', '2021-07-30',\n",
       "       '2021-07-29', '2021-07-28', '2021-07-27', '2021-07-26', '2021-07-23',\n",
       "       '2021-07-22', '2021-07-21', '2021-07-20', '2021-07-19', '2021-07-16',\n",
       "       '2021-07-15', '2021-07-14', '2021-07-13', '2021-07-12', '2021-07-09',\n",
       "       '2021-07-08', '2021-07-07', '2021-07-06', '2021-07-02', '2021-07-01',\n",
       "       '2021-06-30', '2021-06-29', '2021-06-28', '2021-06-25', '2021-06-24',\n",
       "       '2021-06-23', '2021-06-22', '2021-06-21', '2021-06-18', '2021-06-17',\n",
       "       '2021-06-16', '2021-06-15', '2021-06-14', '2021-06-11', '2021-06-10',\n",
       "       '2021-06-09', '2021-06-08', '2021-06-07', '2021-06-04', '2021-06-03',\n",
       "       '2021-06-02', '2021-06-01', '2021-05-28', '2021-05-27', '2021-05-26',\n",
       "       '2021-05-25', '2021-05-24', '2021-05-21', '2021-05-20', '2021-05-19',\n",
       "       '2021-05-18', '2021-05-17', '2021-05-14', '2021-05-13', '2021-05-12',\n",
       "       '2021-05-11', '2021-05-10', '2021-05-07', '2021-05-06', '2021-05-05',\n",
       "       '2021-05-04', '2021-05-03', '2021-04-30', '2021-04-29', '2021-04-28'],\n",
       "      dtype='object')"
      ]
     },
     "execution_count": 118,
     "metadata": {},
     "output_type": "execute_result"
    }
   ],
   "source": [
    "ticker_df.index"
   ]
  },
  {
   "cell_type": "code",
   "execution_count": 119,
   "metadata": {},
   "outputs": [],
   "source": [
    "#switch to increasing chronological order and to datetime format\n",
    "ticker_df = ticker_df.iloc[::-1]"
   ]
  },
  {
   "cell_type": "code",
   "execution_count": 120,
   "metadata": {},
   "outputs": [],
   "source": [
    "ticker_df.index = pd.to_datetime(ticker_df.index)"
   ]
  },
  {
   "cell_type": "code",
   "execution_count": 121,
   "metadata": {},
   "outputs": [],
   "source": [
    "#try a different ticker\n",
    "ticker_new = 'AAPL'\n",
    "url = 'https://www.alphavantage.co/query?function=TIME_SERIES_DAILY_ADJUSTED&symbol={}&apikey={}'.format(ticker_new, key)\n",
    "response_new = requests.get(url)\n",
    "response_data_new = response_new.json() "
   ]
  },
  {
   "cell_type": "code",
   "execution_count": 122,
   "metadata": {},
   "outputs": [
    {
     "data": {
      "text/plain": [
       "2"
      ]
     },
     "execution_count": 122,
     "metadata": {},
     "output_type": "execute_result"
    }
   ],
   "source": [
    "len(response_data_new)"
   ]
  },
  {
   "cell_type": "code",
   "execution_count": 123,
   "metadata": {},
   "outputs": [
    {
     "data": {
      "text/plain": [
       "5"
      ]
     },
     "execution_count": 123,
     "metadata": {},
     "output_type": "execute_result"
    }
   ],
   "source": [
    "len(response_data_new['Meta Data'])"
   ]
  },
  {
   "cell_type": "code",
   "execution_count": 124,
   "metadata": {},
   "outputs": [
    {
     "data": {
      "text/plain": [
       "100"
      ]
     },
     "execution_count": 124,
     "metadata": {},
     "output_type": "execute_result"
    }
   ],
   "source": [
    "len(response_data_new['Time Series (Daily)'])"
   ]
  },
  {
   "cell_type": "code",
   "execution_count": 125,
   "metadata": {},
   "outputs": [
    {
     "data": {
      "text/plain": [
       "{'1. Information': 'Daily Time Series with Splits and Dividend Events',\n",
       " '2. Symbol': 'AAPL',\n",
       " '3. Last Refreshed': '2021-09-17',\n",
       " '4. Output Size': 'Compact',\n",
       " '5. Time Zone': 'US/Eastern'}"
      ]
     },
     "execution_count": 125,
     "metadata": {},
     "output_type": "execute_result"
    }
   ],
   "source": [
    "response_data_new['Meta Data']"
   ]
  },
  {
   "cell_type": "code",
   "execution_count": 126,
   "metadata": {},
   "outputs": [
    {
     "data": {
      "text/plain": [
       "{'1. open': '150.35',\n",
       " '2. high': '151.07',\n",
       " '3. low': '146.91',\n",
       " '4. close': '148.12',\n",
       " '5. adjusted close': '148.12',\n",
       " '6. volume': '109296295',\n",
       " '7. dividend amount': '0.0000',\n",
       " '8. split coefficient': '1.0'}"
      ]
     },
     "execution_count": 126,
     "metadata": {},
     "output_type": "execute_result"
    }
   ],
   "source": [
    "response_data_new['Time Series (Daily)']['2021-09-14']"
   ]
  },
  {
   "cell_type": "code",
   "execution_count": 127,
   "metadata": {},
   "outputs": [],
   "source": [
    "ticker_df_new = pd.DataFrame.from_dict(response_data_new['Time Series (Daily)'],orient='index',dtype='float')"
   ]
  },
  {
   "cell_type": "code",
   "execution_count": 128,
   "metadata": {},
   "outputs": [
    {
     "data": {
      "text/html": [
       "<div>\n",
       "<style scoped>\n",
       "    .dataframe tbody tr th:only-of-type {\n",
       "        vertical-align: middle;\n",
       "    }\n",
       "\n",
       "    .dataframe tbody tr th {\n",
       "        vertical-align: top;\n",
       "    }\n",
       "\n",
       "    .dataframe thead th {\n",
       "        text-align: right;\n",
       "    }\n",
       "</style>\n",
       "<table border=\"1\" class=\"dataframe\">\n",
       "  <thead>\n",
       "    <tr style=\"text-align: right;\">\n",
       "      <th></th>\n",
       "      <th>1. open</th>\n",
       "      <th>2. high</th>\n",
       "      <th>3. low</th>\n",
       "      <th>4. close</th>\n",
       "      <th>5. adjusted close</th>\n",
       "      <th>6. volume</th>\n",
       "      <th>7. dividend amount</th>\n",
       "      <th>8. split coefficient</th>\n",
       "    </tr>\n",
       "  </thead>\n",
       "  <tbody>\n",
       "    <tr>\n",
       "      <th>2021-09-17</th>\n",
       "      <td>148.82</td>\n",
       "      <td>148.82</td>\n",
       "      <td>145.760</td>\n",
       "      <td>146.06</td>\n",
       "      <td>146.06</td>\n",
       "      <td>129868824.0</td>\n",
       "      <td>0.0</td>\n",
       "      <td>1.0</td>\n",
       "    </tr>\n",
       "    <tr>\n",
       "      <th>2021-09-16</th>\n",
       "      <td>148.44</td>\n",
       "      <td>148.97</td>\n",
       "      <td>147.221</td>\n",
       "      <td>148.79</td>\n",
       "      <td>148.79</td>\n",
       "      <td>68034149.0</td>\n",
       "      <td>0.0</td>\n",
       "      <td>1.0</td>\n",
       "    </tr>\n",
       "    <tr>\n",
       "      <th>2021-09-15</th>\n",
       "      <td>148.56</td>\n",
       "      <td>149.44</td>\n",
       "      <td>146.370</td>\n",
       "      <td>149.03</td>\n",
       "      <td>149.03</td>\n",
       "      <td>83281315.0</td>\n",
       "      <td>0.0</td>\n",
       "      <td>1.0</td>\n",
       "    </tr>\n",
       "    <tr>\n",
       "      <th>2021-09-14</th>\n",
       "      <td>150.35</td>\n",
       "      <td>151.07</td>\n",
       "      <td>146.910</td>\n",
       "      <td>148.12</td>\n",
       "      <td>148.12</td>\n",
       "      <td>109296295.0</td>\n",
       "      <td>0.0</td>\n",
       "      <td>1.0</td>\n",
       "    </tr>\n",
       "    <tr>\n",
       "      <th>2021-09-13</th>\n",
       "      <td>150.63</td>\n",
       "      <td>151.42</td>\n",
       "      <td>148.750</td>\n",
       "      <td>149.55</td>\n",
       "      <td>149.55</td>\n",
       "      <td>102404329.0</td>\n",
       "      <td>0.0</td>\n",
       "      <td>1.0</td>\n",
       "    </tr>\n",
       "  </tbody>\n",
       "</table>\n",
       "</div>"
      ],
      "text/plain": [
       "            1. open  2. high   3. low  4. close  5. adjusted close  \\\n",
       "2021-09-17   148.82   148.82  145.760    146.06             146.06   \n",
       "2021-09-16   148.44   148.97  147.221    148.79             148.79   \n",
       "2021-09-15   148.56   149.44  146.370    149.03             149.03   \n",
       "2021-09-14   150.35   151.07  146.910    148.12             148.12   \n",
       "2021-09-13   150.63   151.42  148.750    149.55             149.55   \n",
       "\n",
       "              6. volume  7. dividend amount  8. split coefficient  \n",
       "2021-09-17  129868824.0                 0.0                   1.0  \n",
       "2021-09-16   68034149.0                 0.0                   1.0  \n",
       "2021-09-15   83281315.0                 0.0                   1.0  \n",
       "2021-09-14  109296295.0                 0.0                   1.0  \n",
       "2021-09-13  102404329.0                 0.0                   1.0  "
      ]
     },
     "execution_count": 128,
     "metadata": {},
     "output_type": "execute_result"
    }
   ],
   "source": [
    "ticker_df_new.head()"
   ]
  },
  {
   "cell_type": "code",
   "execution_count": 129,
   "metadata": {},
   "outputs": [
    {
     "data": {
      "text/plain": [
       "Index(['2021-09-17', '2021-09-16', '2021-09-15', '2021-09-14', '2021-09-13',\n",
       "       '2021-09-10', '2021-09-09', '2021-09-08', '2021-09-07', '2021-09-03',\n",
       "       '2021-09-02', '2021-09-01', '2021-08-31', '2021-08-30', '2021-08-27',\n",
       "       '2021-08-26', '2021-08-25', '2021-08-24', '2021-08-23', '2021-08-20',\n",
       "       '2021-08-19', '2021-08-18', '2021-08-17', '2021-08-16', '2021-08-13',\n",
       "       '2021-08-12', '2021-08-11', '2021-08-10', '2021-08-09', '2021-08-06',\n",
       "       '2021-08-05', '2021-08-04', '2021-08-03', '2021-08-02', '2021-07-30',\n",
       "       '2021-07-29', '2021-07-28', '2021-07-27', '2021-07-26', '2021-07-23',\n",
       "       '2021-07-22', '2021-07-21', '2021-07-20', '2021-07-19', '2021-07-16',\n",
       "       '2021-07-15', '2021-07-14', '2021-07-13', '2021-07-12', '2021-07-09',\n",
       "       '2021-07-08', '2021-07-07', '2021-07-06', '2021-07-02', '2021-07-01',\n",
       "       '2021-06-30', '2021-06-29', '2021-06-28', '2021-06-25', '2021-06-24',\n",
       "       '2021-06-23', '2021-06-22', '2021-06-21', '2021-06-18', '2021-06-17',\n",
       "       '2021-06-16', '2021-06-15', '2021-06-14', '2021-06-11', '2021-06-10',\n",
       "       '2021-06-09', '2021-06-08', '2021-06-07', '2021-06-04', '2021-06-03',\n",
       "       '2021-06-02', '2021-06-01', '2021-05-28', '2021-05-27', '2021-05-26',\n",
       "       '2021-05-25', '2021-05-24', '2021-05-21', '2021-05-20', '2021-05-19',\n",
       "       '2021-05-18', '2021-05-17', '2021-05-14', '2021-05-13', '2021-05-12',\n",
       "       '2021-05-11', '2021-05-10', '2021-05-07', '2021-05-06', '2021-05-05',\n",
       "       '2021-05-04', '2021-05-03', '2021-04-30', '2021-04-29', '2021-04-28'],\n",
       "      dtype='object')"
      ]
     },
     "execution_count": 129,
     "metadata": {},
     "output_type": "execute_result"
    }
   ],
   "source": [
    "ticker_df_new.index"
   ]
  },
  {
   "cell_type": "code",
   "execution_count": 130,
   "metadata": {},
   "outputs": [],
   "source": [
    "#switch to increasing chronological order and to datetime format\n",
    "ticker_df_new = ticker_df_new.iloc[::-1]"
   ]
  },
  {
   "cell_type": "code",
   "execution_count": 131,
   "metadata": {},
   "outputs": [],
   "source": [
    "ticker_df_new.index = pd.to_datetime(ticker_df_new.index)"
   ]
  },
  {
   "cell_type": "code",
   "execution_count": 132,
   "metadata": {},
   "outputs": [],
   "source": [
    "##Optional: specify the timezone\n",
    "#ticker_df_new.index.tz_localize(\"US/Eastern\")"
   ]
  },
  {
   "cell_type": "code",
   "execution_count": 133,
   "metadata": {},
   "outputs": [],
   "source": [
    "#Try to concatenate the two dataframes:"
   ]
  },
  {
   "cell_type": "code",
   "execution_count": 134,
   "metadata": {},
   "outputs": [
    {
     "data": {
      "text/html": [
       "<div>\n",
       "<style scoped>\n",
       "    .dataframe tbody tr th:only-of-type {\n",
       "        vertical-align: middle;\n",
       "    }\n",
       "\n",
       "    .dataframe tbody tr th {\n",
       "        vertical-align: top;\n",
       "    }\n",
       "\n",
       "    .dataframe thead th {\n",
       "        text-align: right;\n",
       "    }\n",
       "</style>\n",
       "<table border=\"1\" class=\"dataframe\">\n",
       "  <thead>\n",
       "    <tr style=\"text-align: right;\">\n",
       "      <th></th>\n",
       "      <th>1. open</th>\n",
       "      <th>2. high</th>\n",
       "      <th>3. low</th>\n",
       "      <th>4. close</th>\n",
       "      <th>5. adjusted close</th>\n",
       "      <th>6. volume</th>\n",
       "      <th>7. dividend amount</th>\n",
       "      <th>8. split coefficient</th>\n",
       "    </tr>\n",
       "  </thead>\n",
       "  <tbody>\n",
       "    <tr>\n",
       "      <th>2021-04-28</th>\n",
       "      <td>134.31</td>\n",
       "      <td>135.0200</td>\n",
       "      <td>133.080</td>\n",
       "      <td>133.58</td>\n",
       "      <td>133.154236</td>\n",
       "      <td>107760097.0</td>\n",
       "      <td>0.0</td>\n",
       "      <td>1.0</td>\n",
       "    </tr>\n",
       "    <tr>\n",
       "      <th>2021-04-29</th>\n",
       "      <td>136.47</td>\n",
       "      <td>137.0700</td>\n",
       "      <td>132.450</td>\n",
       "      <td>133.48</td>\n",
       "      <td>133.054554</td>\n",
       "      <td>151100953.0</td>\n",
       "      <td>0.0</td>\n",
       "      <td>1.0</td>\n",
       "    </tr>\n",
       "    <tr>\n",
       "      <th>2021-04-30</th>\n",
       "      <td>131.78</td>\n",
       "      <td>133.5600</td>\n",
       "      <td>131.065</td>\n",
       "      <td>131.46</td>\n",
       "      <td>131.040993</td>\n",
       "      <td>109839466.0</td>\n",
       "      <td>0.0</td>\n",
       "      <td>1.0</td>\n",
       "    </tr>\n",
       "    <tr>\n",
       "      <th>2021-05-03</th>\n",
       "      <td>132.04</td>\n",
       "      <td>134.0700</td>\n",
       "      <td>131.830</td>\n",
       "      <td>132.54</td>\n",
       "      <td>132.117550</td>\n",
       "      <td>75135100.0</td>\n",
       "      <td>0.0</td>\n",
       "      <td>1.0</td>\n",
       "    </tr>\n",
       "    <tr>\n",
       "      <th>2021-05-04</th>\n",
       "      <td>131.19</td>\n",
       "      <td>131.4899</td>\n",
       "      <td>126.700</td>\n",
       "      <td>127.85</td>\n",
       "      <td>127.442499</td>\n",
       "      <td>137564718.0</td>\n",
       "      <td>0.0</td>\n",
       "      <td>1.0</td>\n",
       "    </tr>\n",
       "  </tbody>\n",
       "</table>\n",
       "</div>"
      ],
      "text/plain": [
       "            1. open   2. high   3. low  4. close  5. adjusted close  \\\n",
       "2021-04-28   134.31  135.0200  133.080    133.58         133.154236   \n",
       "2021-04-29   136.47  137.0700  132.450    133.48         133.054554   \n",
       "2021-04-30   131.78  133.5600  131.065    131.46         131.040993   \n",
       "2021-05-03   132.04  134.0700  131.830    132.54         132.117550   \n",
       "2021-05-04   131.19  131.4899  126.700    127.85         127.442499   \n",
       "\n",
       "              6. volume  7. dividend amount  8. split coefficient  \n",
       "2021-04-28  107760097.0                 0.0                   1.0  \n",
       "2021-04-29  151100953.0                 0.0                   1.0  \n",
       "2021-04-30  109839466.0                 0.0                   1.0  \n",
       "2021-05-03   75135100.0                 0.0                   1.0  \n",
       "2021-05-04  137564718.0                 0.0                   1.0  "
      ]
     },
     "execution_count": 134,
     "metadata": {},
     "output_type": "execute_result"
    }
   ],
   "source": [
    "ticker_df_new.head()"
   ]
  },
  {
   "cell_type": "code",
   "execution_count": 135,
   "metadata": {},
   "outputs": [
    {
     "data": {
      "text/html": [
       "<div>\n",
       "<style scoped>\n",
       "    .dataframe tbody tr th:only-of-type {\n",
       "        vertical-align: middle;\n",
       "    }\n",
       "\n",
       "    .dataframe tbody tr th {\n",
       "        vertical-align: top;\n",
       "    }\n",
       "\n",
       "    .dataframe thead th {\n",
       "        text-align: right;\n",
       "    }\n",
       "</style>\n",
       "<table border=\"1\" class=\"dataframe\">\n",
       "  <thead>\n",
       "    <tr style=\"text-align: right;\">\n",
       "      <th></th>\n",
       "      <th>1. open</th>\n",
       "      <th>2. high</th>\n",
       "      <th>3. low</th>\n",
       "      <th>4. close</th>\n",
       "      <th>5. adjusted close</th>\n",
       "      <th>6. volume</th>\n",
       "      <th>7. dividend amount</th>\n",
       "      <th>8. split coefficient</th>\n",
       "    </tr>\n",
       "  </thead>\n",
       "  <tbody>\n",
       "    <tr>\n",
       "      <th>2021-04-28</th>\n",
       "      <td>307.3600</td>\n",
       "      <td>310.92</td>\n",
       "      <td>305.37</td>\n",
       "      <td>307.10</td>\n",
       "      <td>307.10</td>\n",
       "      <td>33907210.0</td>\n",
       "      <td>0.0</td>\n",
       "      <td>1.0</td>\n",
       "    </tr>\n",
       "    <tr>\n",
       "      <th>2021-04-29</th>\n",
       "      <td>330.1200</td>\n",
       "      <td>331.81</td>\n",
       "      <td>321.61</td>\n",
       "      <td>329.51</td>\n",
       "      <td>329.51</td>\n",
       "      <td>56526771.0</td>\n",
       "      <td>0.0</td>\n",
       "      <td>1.0</td>\n",
       "    </tr>\n",
       "    <tr>\n",
       "      <th>2021-04-30</th>\n",
       "      <td>326.1435</td>\n",
       "      <td>329.82</td>\n",
       "      <td>324.50</td>\n",
       "      <td>325.08</td>\n",
       "      <td>325.08</td>\n",
       "      <td>26332423.0</td>\n",
       "      <td>0.0</td>\n",
       "      <td>1.0</td>\n",
       "    </tr>\n",
       "    <tr>\n",
       "      <th>2021-05-03</th>\n",
       "      <td>326.1700</td>\n",
       "      <td>328.55</td>\n",
       "      <td>321.84</td>\n",
       "      <td>322.58</td>\n",
       "      <td>322.58</td>\n",
       "      <td>18719462.0</td>\n",
       "      <td>0.0</td>\n",
       "      <td>1.0</td>\n",
       "    </tr>\n",
       "    <tr>\n",
       "      <th>2021-05-04</th>\n",
       "      <td>320.0250</td>\n",
       "      <td>322.19</td>\n",
       "      <td>313.12</td>\n",
       "      <td>318.36</td>\n",
       "      <td>318.36</td>\n",
       "      <td>24032557.0</td>\n",
       "      <td>0.0</td>\n",
       "      <td>1.0</td>\n",
       "    </tr>\n",
       "  </tbody>\n",
       "</table>\n",
       "</div>"
      ],
      "text/plain": [
       "             1. open  2. high  3. low  4. close  5. adjusted close  \\\n",
       "2021-04-28  307.3600   310.92  305.37    307.10             307.10   \n",
       "2021-04-29  330.1200   331.81  321.61    329.51             329.51   \n",
       "2021-04-30  326.1435   329.82  324.50    325.08             325.08   \n",
       "2021-05-03  326.1700   328.55  321.84    322.58             322.58   \n",
       "2021-05-04  320.0250   322.19  313.12    318.36             318.36   \n",
       "\n",
       "             6. volume  7. dividend amount  8. split coefficient  \n",
       "2021-04-28  33907210.0                 0.0                   1.0  \n",
       "2021-04-29  56526771.0                 0.0                   1.0  \n",
       "2021-04-30  26332423.0                 0.0                   1.0  \n",
       "2021-05-03  18719462.0                 0.0                   1.0  \n",
       "2021-05-04  24032557.0                 0.0                   1.0  "
      ]
     },
     "execution_count": 135,
     "metadata": {},
     "output_type": "execute_result"
    }
   ],
   "source": [
    "ticker_df.head()"
   ]
  },
  {
   "cell_type": "code",
   "execution_count": 136,
   "metadata": {},
   "outputs": [],
   "source": [
    "ticker_df_all = {}"
   ]
  },
  {
   "cell_type": "code",
   "execution_count": 137,
   "metadata": {},
   "outputs": [],
   "source": [
    "ticker_df_all['FB']=ticker_df"
   ]
  },
  {
   "cell_type": "code",
   "execution_count": 138,
   "metadata": {},
   "outputs": [],
   "source": [
    "ticker_df_all['AAPL']=ticker_df_new"
   ]
  },
  {
   "cell_type": "code",
   "execution_count": 139,
   "metadata": {},
   "outputs": [],
   "source": [
    "ticker_df_all = pd.concat(ticker_df_all,axis=1)"
   ]
  },
  {
   "cell_type": "code",
   "execution_count": 140,
   "metadata": {},
   "outputs": [
    {
     "data": {
      "text/html": [
       "<div>\n",
       "<style scoped>\n",
       "    .dataframe tbody tr th:only-of-type {\n",
       "        vertical-align: middle;\n",
       "    }\n",
       "\n",
       "    .dataframe tbody tr th {\n",
       "        vertical-align: top;\n",
       "    }\n",
       "\n",
       "    .dataframe thead tr th {\n",
       "        text-align: left;\n",
       "    }\n",
       "</style>\n",
       "<table border=\"1\" class=\"dataframe\">\n",
       "  <thead>\n",
       "    <tr>\n",
       "      <th></th>\n",
       "      <th colspan=\"8\" halign=\"left\">FB</th>\n",
       "      <th colspan=\"8\" halign=\"left\">AAPL</th>\n",
       "    </tr>\n",
       "    <tr>\n",
       "      <th></th>\n",
       "      <th>1. open</th>\n",
       "      <th>2. high</th>\n",
       "      <th>3. low</th>\n",
       "      <th>4. close</th>\n",
       "      <th>5. adjusted close</th>\n",
       "      <th>6. volume</th>\n",
       "      <th>7. dividend amount</th>\n",
       "      <th>8. split coefficient</th>\n",
       "      <th>1. open</th>\n",
       "      <th>2. high</th>\n",
       "      <th>3. low</th>\n",
       "      <th>4. close</th>\n",
       "      <th>5. adjusted close</th>\n",
       "      <th>6. volume</th>\n",
       "      <th>7. dividend amount</th>\n",
       "      <th>8. split coefficient</th>\n",
       "    </tr>\n",
       "  </thead>\n",
       "  <tbody>\n",
       "    <tr>\n",
       "      <th>2021-04-28</th>\n",
       "      <td>307.3600</td>\n",
       "      <td>310.92</td>\n",
       "      <td>305.37</td>\n",
       "      <td>307.10</td>\n",
       "      <td>307.10</td>\n",
       "      <td>33907210.0</td>\n",
       "      <td>0.0</td>\n",
       "      <td>1.0</td>\n",
       "      <td>134.31</td>\n",
       "      <td>135.0200</td>\n",
       "      <td>133.080</td>\n",
       "      <td>133.58</td>\n",
       "      <td>133.154236</td>\n",
       "      <td>107760097.0</td>\n",
       "      <td>0.0</td>\n",
       "      <td>1.0</td>\n",
       "    </tr>\n",
       "    <tr>\n",
       "      <th>2021-04-29</th>\n",
       "      <td>330.1200</td>\n",
       "      <td>331.81</td>\n",
       "      <td>321.61</td>\n",
       "      <td>329.51</td>\n",
       "      <td>329.51</td>\n",
       "      <td>56526771.0</td>\n",
       "      <td>0.0</td>\n",
       "      <td>1.0</td>\n",
       "      <td>136.47</td>\n",
       "      <td>137.0700</td>\n",
       "      <td>132.450</td>\n",
       "      <td>133.48</td>\n",
       "      <td>133.054554</td>\n",
       "      <td>151100953.0</td>\n",
       "      <td>0.0</td>\n",
       "      <td>1.0</td>\n",
       "    </tr>\n",
       "    <tr>\n",
       "      <th>2021-04-30</th>\n",
       "      <td>326.1435</td>\n",
       "      <td>329.82</td>\n",
       "      <td>324.50</td>\n",
       "      <td>325.08</td>\n",
       "      <td>325.08</td>\n",
       "      <td>26332423.0</td>\n",
       "      <td>0.0</td>\n",
       "      <td>1.0</td>\n",
       "      <td>131.78</td>\n",
       "      <td>133.5600</td>\n",
       "      <td>131.065</td>\n",
       "      <td>131.46</td>\n",
       "      <td>131.040993</td>\n",
       "      <td>109839466.0</td>\n",
       "      <td>0.0</td>\n",
       "      <td>1.0</td>\n",
       "    </tr>\n",
       "    <tr>\n",
       "      <th>2021-05-03</th>\n",
       "      <td>326.1700</td>\n",
       "      <td>328.55</td>\n",
       "      <td>321.84</td>\n",
       "      <td>322.58</td>\n",
       "      <td>322.58</td>\n",
       "      <td>18719462.0</td>\n",
       "      <td>0.0</td>\n",
       "      <td>1.0</td>\n",
       "      <td>132.04</td>\n",
       "      <td>134.0700</td>\n",
       "      <td>131.830</td>\n",
       "      <td>132.54</td>\n",
       "      <td>132.117550</td>\n",
       "      <td>75135100.0</td>\n",
       "      <td>0.0</td>\n",
       "      <td>1.0</td>\n",
       "    </tr>\n",
       "    <tr>\n",
       "      <th>2021-05-04</th>\n",
       "      <td>320.0250</td>\n",
       "      <td>322.19</td>\n",
       "      <td>313.12</td>\n",
       "      <td>318.36</td>\n",
       "      <td>318.36</td>\n",
       "      <td>24032557.0</td>\n",
       "      <td>0.0</td>\n",
       "      <td>1.0</td>\n",
       "      <td>131.19</td>\n",
       "      <td>131.4899</td>\n",
       "      <td>126.700</td>\n",
       "      <td>127.85</td>\n",
       "      <td>127.442499</td>\n",
       "      <td>137564718.0</td>\n",
       "      <td>0.0</td>\n",
       "      <td>1.0</td>\n",
       "    </tr>\n",
       "  </tbody>\n",
       "</table>\n",
       "</div>"
      ],
      "text/plain": [
       "                  FB                                                         \\\n",
       "             1. open 2. high  3. low 4. close 5. adjusted close   6. volume   \n",
       "2021-04-28  307.3600  310.92  305.37   307.10            307.10  33907210.0   \n",
       "2021-04-29  330.1200  331.81  321.61   329.51            329.51  56526771.0   \n",
       "2021-04-30  326.1435  329.82  324.50   325.08            325.08  26332423.0   \n",
       "2021-05-03  326.1700  328.55  321.84   322.58            322.58  18719462.0   \n",
       "2021-05-04  320.0250  322.19  313.12   318.36            318.36  24032557.0   \n",
       "\n",
       "                                                      AAPL                     \\\n",
       "           7. dividend amount 8. split coefficient 1. open   2. high   3. low   \n",
       "2021-04-28                0.0                  1.0  134.31  135.0200  133.080   \n",
       "2021-04-29                0.0                  1.0  136.47  137.0700  132.450   \n",
       "2021-04-30                0.0                  1.0  131.78  133.5600  131.065   \n",
       "2021-05-03                0.0                  1.0  132.04  134.0700  131.830   \n",
       "2021-05-04                0.0                  1.0  131.19  131.4899  126.700   \n",
       "\n",
       "                                                                       \\\n",
       "           4. close 5. adjusted close    6. volume 7. dividend amount   \n",
       "2021-04-28   133.58        133.154236  107760097.0                0.0   \n",
       "2021-04-29   133.48        133.054554  151100953.0                0.0   \n",
       "2021-04-30   131.46        131.040993  109839466.0                0.0   \n",
       "2021-05-03   132.54        132.117550   75135100.0                0.0   \n",
       "2021-05-04   127.85        127.442499  137564718.0                0.0   \n",
       "\n",
       "                                 \n",
       "           8. split coefficient  \n",
       "2021-04-28                  1.0  \n",
       "2021-04-29                  1.0  \n",
       "2021-04-30                  1.0  \n",
       "2021-05-03                  1.0  \n",
       "2021-05-04                  1.0  "
      ]
     },
     "execution_count": 140,
     "metadata": {},
     "output_type": "execute_result"
    }
   ],
   "source": [
    "ticker_df_all.head()"
   ]
  },
  {
   "cell_type": "code",
   "execution_count": 141,
   "metadata": {},
   "outputs": [
    {
     "data": {
      "text/plain": [
       "2021-04-28    307.3600\n",
       "2021-04-29    330.1200\n",
       "2021-04-30    326.1435\n",
       "2021-05-03    326.1700\n",
       "2021-05-04    320.0250\n",
       "                ...   \n",
       "2021-09-13    381.6800\n",
       "2021-09-14    377.4000\n",
       "2021-09-15    377.0000\n",
       "2021-09-16    372.7900\n",
       "2021-09-17    371.4050\n",
       "Name: (FB, 1. open), Length: 100, dtype: float64"
      ]
     },
     "execution_count": 141,
     "metadata": {},
     "output_type": "execute_result"
    }
   ],
   "source": [
    "ticker_df_all['FB','1. open']"
   ]
  },
  {
   "cell_type": "code",
   "execution_count": 142,
   "metadata": {},
   "outputs": [],
   "source": [
    "#Create custom business day frequency based on Federal holidays in the US\n",
    "from pandas.tseries.holiday import USFederalHolidayCalendar\n",
    "\n",
    "bday_us = pd.offsets.CustomBusinessDay(calendar=USFederalHolidayCalendar())\n"
   ]
  },
  {
   "cell_type": "code",
   "execution_count": 144,
   "metadata": {},
   "outputs": [
    {
     "data": {
      "text/plain": [
       "DatetimeIndex(['2021-04-28', '2021-04-29', '2021-04-30', '2021-05-03',\n",
       "               '2021-05-04', '2021-05-05', '2021-05-06', '2021-05-07',\n",
       "               '2021-05-10', '2021-05-11', '2021-05-12', '2021-05-13',\n",
       "               '2021-05-14', '2021-05-17', '2021-05-18', '2021-05-19',\n",
       "               '2021-05-20', '2021-05-21', '2021-05-24', '2021-05-25',\n",
       "               '2021-05-26', '2021-05-27', '2021-05-28', '2021-06-01',\n",
       "               '2021-06-02', '2021-06-03', '2021-06-04', '2021-06-07',\n",
       "               '2021-06-08', '2021-06-09', '2021-06-10', '2021-06-11',\n",
       "               '2021-06-14', '2021-06-15', '2021-06-16', '2021-06-17',\n",
       "               '2021-06-18', '2021-06-21', '2021-06-22', '2021-06-23',\n",
       "               '2021-06-24', '2021-06-25', '2021-06-28', '2021-06-29',\n",
       "               '2021-06-30', '2021-07-01', '2021-07-02', '2021-07-06',\n",
       "               '2021-07-07', '2021-07-08', '2021-07-09', '2021-07-12',\n",
       "               '2021-07-13', '2021-07-14', '2021-07-15', '2021-07-16',\n",
       "               '2021-07-19', '2021-07-20', '2021-07-21', '2021-07-22',\n",
       "               '2021-07-23', '2021-07-26', '2021-07-27', '2021-07-28',\n",
       "               '2021-07-29', '2021-07-30', '2021-08-02', '2021-08-03',\n",
       "               '2021-08-04', '2021-08-05', '2021-08-06', '2021-08-09',\n",
       "               '2021-08-10', '2021-08-11', '2021-08-12', '2021-08-13',\n",
       "               '2021-08-16', '2021-08-17', '2021-08-18', '2021-08-19',\n",
       "               '2021-08-20', '2021-08-23', '2021-08-24', '2021-08-25',\n",
       "               '2021-08-26', '2021-08-27', '2021-08-30', '2021-08-31',\n",
       "               '2021-09-01', '2021-09-02', '2021-09-03', '2021-09-07',\n",
       "               '2021-09-08', '2021-09-09', '2021-09-10', '2021-09-13',\n",
       "               '2021-09-14', '2021-09-15', '2021-09-16', '2021-09-17'],\n",
       "              dtype='datetime64[ns]', freq='C')"
      ]
     },
     "execution_count": 144,
     "metadata": {},
     "output_type": "execute_result"
    }
   ],
   "source": [
    "check_dates = pd.date_range(start=\"20210428\", end=\"20210917\", freq=bday_us)\n",
    "check_dates"
   ]
  },
  {
   "cell_type": "code",
   "execution_count": 145,
   "metadata": {},
   "outputs": [
    {
     "data": {
      "text/plain": [
       "DatetimeIndex(['2021-04-28', '2021-04-29', '2021-04-30', '2021-05-03',\n",
       "               '2021-05-04', '2021-05-05', '2021-05-06', '2021-05-07',\n",
       "               '2021-05-10', '2021-05-11', '2021-05-12', '2021-05-13',\n",
       "               '2021-05-14', '2021-05-17', '2021-05-18', '2021-05-19',\n",
       "               '2021-05-20', '2021-05-21', '2021-05-24', '2021-05-25',\n",
       "               '2021-05-26', '2021-05-27', '2021-05-28', '2021-06-01',\n",
       "               '2021-06-02', '2021-06-03', '2021-06-04', '2021-06-07',\n",
       "               '2021-06-08', '2021-06-09', '2021-06-10', '2021-06-11',\n",
       "               '2021-06-14', '2021-06-15', '2021-06-16', '2021-06-17',\n",
       "               '2021-06-18', '2021-06-21', '2021-06-22', '2021-06-23',\n",
       "               '2021-06-24', '2021-06-25', '2021-06-28', '2021-06-29',\n",
       "               '2021-06-30', '2021-07-01', '2021-07-02', '2021-07-06',\n",
       "               '2021-07-07', '2021-07-08', '2021-07-09', '2021-07-12',\n",
       "               '2021-07-13', '2021-07-14', '2021-07-15', '2021-07-16',\n",
       "               '2021-07-19', '2021-07-20', '2021-07-21', '2021-07-22',\n",
       "               '2021-07-23', '2021-07-26', '2021-07-27', '2021-07-28',\n",
       "               '2021-07-29', '2021-07-30', '2021-08-02', '2021-08-03',\n",
       "               '2021-08-04', '2021-08-05', '2021-08-06', '2021-08-09',\n",
       "               '2021-08-10', '2021-08-11', '2021-08-12', '2021-08-13',\n",
       "               '2021-08-16', '2021-08-17', '2021-08-18', '2021-08-19',\n",
       "               '2021-08-20', '2021-08-23', '2021-08-24', '2021-08-25',\n",
       "               '2021-08-26', '2021-08-27', '2021-08-30', '2021-08-31',\n",
       "               '2021-09-01', '2021-09-02', '2021-09-03', '2021-09-07',\n",
       "               '2021-09-08', '2021-09-09', '2021-09-10', '2021-09-13',\n",
       "               '2021-09-14', '2021-09-15', '2021-09-16', '2021-09-17'],\n",
       "              dtype='datetime64[ns]', freq=None)"
      ]
     },
     "execution_count": 145,
     "metadata": {},
     "output_type": "execute_result"
    }
   ],
   "source": [
    "ticker_df_all.index"
   ]
  },
  {
   "cell_type": "code",
   "execution_count": 146,
   "metadata": {},
   "outputs": [
    {
     "data": {
      "text/plain": [
       "array([ True,  True,  True,  True,  True,  True,  True,  True,  True,\n",
       "        True,  True,  True,  True,  True,  True,  True,  True,  True,\n",
       "        True,  True,  True,  True,  True,  True,  True,  True,  True,\n",
       "        True,  True,  True,  True,  True,  True,  True,  True,  True,\n",
       "        True,  True,  True,  True,  True,  True,  True,  True,  True,\n",
       "        True,  True,  True,  True,  True,  True,  True,  True,  True,\n",
       "        True,  True,  True,  True,  True,  True,  True,  True,  True,\n",
       "        True,  True,  True,  True,  True,  True,  True,  True,  True,\n",
       "        True,  True,  True,  True,  True,  True,  True,  True,  True,\n",
       "        True,  True,  True,  True,  True,  True,  True,  True,  True,\n",
       "        True,  True,  True,  True,  True,  True,  True,  True,  True,\n",
       "        True])"
      ]
     },
     "execution_count": 146,
     "metadata": {},
     "output_type": "execute_result"
    }
   ],
   "source": [
    "check_dates == ticker_df_all.index"
   ]
  },
  {
   "cell_type": "code",
   "execution_count": 147,
   "metadata": {},
   "outputs": [],
   "source": [
    "#So now I can officially specify that the data is sampled every business (US-based) day   \n",
    "ticker_df_all.index.freq=bday_us"
   ]
  },
  {
   "cell_type": "code",
   "execution_count": 148,
   "metadata": {},
   "outputs": [
    {
     "data": {
      "text/plain": [
       "DatetimeIndex(['2021-04-28', '2021-04-29', '2021-04-30', '2021-05-03',\n",
       "               '2021-05-04', '2021-05-05', '2021-05-06', '2021-05-07',\n",
       "               '2021-05-10', '2021-05-11', '2021-05-12', '2021-05-13',\n",
       "               '2021-05-14', '2021-05-17', '2021-05-18', '2021-05-19',\n",
       "               '2021-05-20', '2021-05-21', '2021-05-24', '2021-05-25',\n",
       "               '2021-05-26', '2021-05-27', '2021-05-28', '2021-06-01',\n",
       "               '2021-06-02', '2021-06-03', '2021-06-04', '2021-06-07',\n",
       "               '2021-06-08', '2021-06-09', '2021-06-10', '2021-06-11',\n",
       "               '2021-06-14', '2021-06-15', '2021-06-16', '2021-06-17',\n",
       "               '2021-06-18', '2021-06-21', '2021-06-22', '2021-06-23',\n",
       "               '2021-06-24', '2021-06-25', '2021-06-28', '2021-06-29',\n",
       "               '2021-06-30', '2021-07-01', '2021-07-02', '2021-07-06',\n",
       "               '2021-07-07', '2021-07-08', '2021-07-09', '2021-07-12',\n",
       "               '2021-07-13', '2021-07-14', '2021-07-15', '2021-07-16',\n",
       "               '2021-07-19', '2021-07-20', '2021-07-21', '2021-07-22',\n",
       "               '2021-07-23', '2021-07-26', '2021-07-27', '2021-07-28',\n",
       "               '2021-07-29', '2021-07-30', '2021-08-02', '2021-08-03',\n",
       "               '2021-08-04', '2021-08-05', '2021-08-06', '2021-08-09',\n",
       "               '2021-08-10', '2021-08-11', '2021-08-12', '2021-08-13',\n",
       "               '2021-08-16', '2021-08-17', '2021-08-18', '2021-08-19',\n",
       "               '2021-08-20', '2021-08-23', '2021-08-24', '2021-08-25',\n",
       "               '2021-08-26', '2021-08-27', '2021-08-30', '2021-08-31',\n",
       "               '2021-09-01', '2021-09-02', '2021-09-03', '2021-09-07',\n",
       "               '2021-09-08', '2021-09-09', '2021-09-10', '2021-09-13',\n",
       "               '2021-09-14', '2021-09-15', '2021-09-16', '2021-09-17'],\n",
       "              dtype='datetime64[ns]', freq='C')"
      ]
     },
     "execution_count": 148,
     "metadata": {},
     "output_type": "execute_result"
    }
   ],
   "source": [
    "ticker_df_all.index"
   ]
  },
  {
   "cell_type": "code",
   "execution_count": 149,
   "metadata": {},
   "outputs": [
    {
     "name": "stdout",
     "output_type": "stream",
     "text": [
      "<class 'pandas.core.frame.DataFrame'>\n",
      "DatetimeIndex: 100 entries, 2021-04-28 to 2021-09-17\n",
      "Freq: C\n",
      "Data columns (total 16 columns):\n",
      " #   Column                        Non-Null Count  Dtype  \n",
      "---  ------                        --------------  -----  \n",
      " 0   (FB, 1. open)                 100 non-null    float64\n",
      " 1   (FB, 2. high)                 100 non-null    float64\n",
      " 2   (FB, 3. low)                  100 non-null    float64\n",
      " 3   (FB, 4. close)                100 non-null    float64\n",
      " 4   (FB, 5. adjusted close)       100 non-null    float64\n",
      " 5   (FB, 6. volume)               100 non-null    float64\n",
      " 6   (FB, 7. dividend amount)      100 non-null    float64\n",
      " 7   (FB, 8. split coefficient)    100 non-null    float64\n",
      " 8   (AAPL, 1. open)               100 non-null    float64\n",
      " 9   (AAPL, 2. high)               100 non-null    float64\n",
      " 10  (AAPL, 3. low)                100 non-null    float64\n",
      " 11  (AAPL, 4. close)              100 non-null    float64\n",
      " 12  (AAPL, 5. adjusted close)     100 non-null    float64\n",
      " 13  (AAPL, 6. volume)             100 non-null    float64\n",
      " 14  (AAPL, 7. dividend amount)    100 non-null    float64\n",
      " 15  (AAPL, 8. split coefficient)  100 non-null    float64\n",
      "dtypes: float64(16)\n",
      "memory usage: 13.3 KB\n"
     ]
    }
   ],
   "source": [
    "ticker_df_all.info()"
   ]
  },
  {
   "cell_type": "code",
   "execution_count": 151,
   "metadata": {},
   "outputs": [
    {
     "data": {
      "text/plain": [
       "FB    1. open                 3.041850e+02\n",
       "      2. high                 3.146600e+02\n",
       "      3. low                  3.035700e+02\n",
       "      4. close                3.135900e+02\n",
       "      5. adjusted close       3.135900e+02\n",
       "      6. volume               1.910624e+07\n",
       "      7. dividend amount      0.000000e+00\n",
       "      8. split coefficient    1.000000e+00\n",
       "AAPL  1. open                 1.231600e+02\n",
       "      2. high                 1.249150e+02\n",
       "      3. low                  1.228600e+02\n",
       "      4. close                1.246900e+02\n",
       "      5. adjusted close       1.245026e+02\n",
       "      6. volume               9.261199e+07\n",
       "      7. dividend amount      0.000000e+00\n",
       "      8. split coefficient    1.000000e+00\n",
       "Name: 2021-05-19 00:00:00, dtype: float64"
      ]
     },
     "execution_count": 151,
     "metadata": {},
     "output_type": "execute_result"
    }
   ],
   "source": [
    "ticker_df_all.loc['2021-05-19']"
   ]
  },
  {
   "cell_type": "code",
   "execution_count": 156,
   "metadata": {},
   "outputs": [
    {
     "data": {
      "image/png": "[encoded data removed]",
      "text/plain": [
       "<Figure size 1728x864 with 1 Axes>"
      ]
     },
     "metadata": {
      "needs_background": "light"
     },
     "output_type": "display_data"
    }
   ],
   "source": [
    "import matplotlib.pyplot as plt\n",
    "%matplotlib inline\n",
    "\n",
    "fig = plt.figure(figsize=[24,12])\n",
    "\n",
    "var_to_show = '5. adjusted close' #'4. close' #'1. open' #'5. adjusted close'\n",
    "\n",
    "tickers_all = ['FB','AAPL']\n",
    "\n",
    "for ticker in tickers_all:\n",
    "    series_to_show = ticker_df_all[ticker,var_to_show] \n",
    "\n",
    "    #normalization\n",
    "    series_to_show = 100*(series_to_show - series_to_show[0])/series_to_show[0]\n",
    "\n",
    "    plt.plot(series_to_show, label=ticker)\n",
    "    \n",
    "plt.xlabel('Month')\n",
    "plt.grid(axis='x', color='0.75')\n",
    "plt.legend()\n",
    "\n",
    "plt.title('{} values for stock tickers {}'.format(var_to_show.split()[1],tickers_all),y=1.00);\n"
   ]
  },
  {
   "cell_type": "code",
   "execution_count": 166,
   "metadata": {},
   "outputs": [
    {
     "data": {
      "text/html": [
       "\n",
       "    <div class=\"bk-root\">\n",
       "        <a href=\"https://bokeh.org\" target=\"_blank\" class=\"bk-logo bk-logo-small bk-logo-notebook\"></a>\n",
       "        <span id=\"2361\">Loading BokehJS ...</span>\n",
       "    </div>"
      ]
     },
     "metadata": {},
     "output_type": "display_data"
    },
    {
     "data": {
      "application/javascript": [
       "\n",
       "(function(root) {\n",
       "  function now() {\n",
       "    return new Date();\n",
       "  }\n",
       "\n",
       "  var force = true;\n",
       "\n",
       "  if (typeof root._bokeh_onload_callbacks === \"undefined\" || force === true) {\n",
       "    root._bokeh_onload_callbacks = [];\n",
       "    root._bokeh_is_loading = undefined;\n",
       "  }\n",
       "\n",
       "  var JS_MIME_TYPE = 'application/javascript';\n",
       "  var HTML_MIME_TYPE = 'text/html';\n",
       "  var EXEC_MIME_TYPE = 'application/vnd.bokehjs_exec.v0+json';\n",
       "  var CLASS_NAME = 'output_bokeh rendered_html';\n",
       "\n",
       "  /**\n",
       "   * Render data to the DOM node\n",
       "   */\n",
       "  function render(props, node) {\n",
       "    var script = document.createElement(\"script\");\n",
       "    node.appendChild(script);\n",
       "  }\n",
       "\n",
       "  /**\n",
       "   * Handle when an output is cleared or removed\n",
       "   */\n",
       "  function handleClearOutput(event, handle) {\n",
       "    var cell = handle.cell;\n",
       "\n",
       "    var id = cell.output_area._bokeh_element_id;\n",
       "    var server_id = cell.output_area._bokeh_server_id;\n",
       "    // Clean up Bokeh references\n",
       "    if (id != null && id in Bokeh.index) {\n",
       "      Bokeh.index[id].model.document.clear();\n",
       "      delete Bokeh.index[id];\n",
       "    }\n",
       "\n",
       "    if (server_id !== undefined) {\n",
       "      // Clean up Bokeh references\n",
       "      var cmd = \"from bokeh.io.state import curstate; print(curstate().uuid_to_server['\" + server_id + \"'].get_sessions()[0].document.roots[0]._id)\";\n",
       "      cell.notebook.kernel.execute(cmd, {\n",
       "        iopub: {\n",
       "          output: function(msg) {\n",
       "            var id = msg.content.text.trim();\n",
       "            if (id in Bokeh.index) {\n",
       "              Bokeh.index[id].model.document.clear();\n",
       "              delete Bokeh.index[id];\n",
       "            }\n",
       "          }\n",
       "        }\n",
       "      });\n",
       "      // Destroy server and session\n",
       "      var cmd = \"import bokeh.io.notebook as ion; ion.destroy_server('\" + server_id + \"')\";\n",
       "      cell.notebook.kernel.execute(cmd);\n",
       "    }\n",
       "  }\n",
       "\n",
       "  /**\n",
       "   * Handle when a new output is added\n",
       "   */\n",
       "  function handleAddOutput(event, handle) {\n",
       "    var output_area = handle.output_area;\n",
       "    var output = handle.output;\n",
       "\n",
       "    // limit handleAddOutput to display_data with EXEC_MIME_TYPE content only\n",
       "    if ((output.output_type != \"display_data\") || (!output.data.hasOwnProperty(EXEC_MIME_TYPE))) {\n",
       "      return\n",
       "    }\n",
       "\n",
       "    var toinsert = output_area.element.find(\".\" + CLASS_NAME.split(' ')[0]);\n",
       "\n",
       "    if (output.metadata[EXEC_MIME_TYPE][\"id\"] !== undefined) {\n",
       "      toinsert[toinsert.length - 1].firstChild.textContent = output.data[JS_MIME_TYPE];\n",
       "      // store reference to embed id on output_area\n",
       "      output_area._bokeh_element_id = output.metadata[EXEC_MIME_TYPE][\"id\"];\n",
       "    }\n",
       "    if (output.metadata[EXEC_MIME_TYPE][\"server_id\"] !== undefined) {\n",
       "      var bk_div = document.createElement(\"div\");\n",
       "      bk_div.innerHTML = output.data[HTML_MIME_TYPE];\n",
       "      var script_attrs = bk_div.children[0].attributes;\n",
       "      for (var i = 0; i < script_attrs.length; i++) {\n",
       "        toinsert[toinsert.length - 1].firstChild.setAttribute(script_attrs[i].name, script_attrs[i].value);\n",
       "        toinsert[toinsert.length - 1].firstChild.textContent = bk_div.children[0].textContent\n",
       "      }\n",
       "      // store reference to server id on output_area\n",
       "      output_area._bokeh_server_id = output.metadata[EXEC_MIME_TYPE][\"server_id\"];\n",
       "    }\n",
       "  }\n",
       "\n",
       "  function register_renderer(events, OutputArea) {\n",
       "\n",
       "    function append_mime(data, metadata, element) {\n",
       "      // create a DOM node to render to\n",
       "      var toinsert = this.create_output_subarea(\n",
       "        metadata,\n",
       "        CLASS_NAME,\n",
       "        EXEC_MIME_TYPE\n",
       "      );\n",
       "      this.keyboard_manager.register_events(toinsert);\n",
       "      // Render to node\n",
       "      var props = {data: data, metadata: metadata[EXEC_MIME_TYPE]};\n",
       "      render(props, toinsert[toinsert.length - 1]);\n",
       "      element.append(toinsert);\n",
       "      return toinsert\n",
       "    }\n",
       "\n",
       "    /* Handle when an output is cleared or removed */\n",
       "    events.on('clear_output.CodeCell', handleClearOutput);\n",
       "    events.on('delete.Cell', handleClearOutput);\n",
       "\n",
       "    /* Handle when a new output is added */\n",
       "    events.on('output_added.OutputArea', handleAddOutput);\n",
       "\n",
       "    /**\n",
       "     * Register the mime type and append_mime function with output_area\n",
       "     */\n",
       "    OutputArea.prototype.register_mime_type(EXEC_MIME_TYPE, append_mime, {\n",
       "      /* Is output safe? */\n",
       "      safe: true,\n",
       "      /* Index of renderer in `output_area.display_order` */\n",
       "      index: 0\n",
       "    });\n",
       "  }\n",
       "\n",
       "  // register the mime type if in Jupyter Notebook environment and previously unregistered\n",
       "  if (root.Jupyter !== undefined) {\n",
       "    var events = require('base/js/events');\n",
       "    var OutputArea = require('notebook/js/outputarea').OutputArea;\n",
       "\n",
       "    if (OutputArea.prototype.mime_types().indexOf(EXEC_MIME_TYPE) == -1) {\n",
       "      register_renderer(events, OutputArea);\n",
       "    }\n",
       "  }\n",
       "\n",
       "  \n",
       "  if (typeof (root._bokeh_timeout) === \"undefined\" || force === true) {\n",
       "    root._bokeh_timeout = Date.now() + 5000;\n",
       "    root._bokeh_failed_load = false;\n",
       "  }\n",
       "\n",
       "  var NB_LOAD_WARNING = {'data': {'text/html':\n",
       "     \"<div style='background-color: #fdd'>\\n\"+\n",
       "     \"<p>\\n\"+\n",
       "     \"BokehJS does not appear to have successfully loaded. If loading BokehJS from CDN, this \\n\"+\n",
       "     \"may be due to a slow or bad network connection. Possible fixes:\\n\"+\n",
       "     \"</p>\\n\"+\n",
       "     \"<ul>\\n\"+\n",
       "     \"<li>re-rerun `output_notebook()` to attempt to load from CDN again, or</li>\\n\"+\n",
       "     \"<li>use INLINE resources instead, as so:</li>\\n\"+\n",
       "     \"</ul>\\n\"+\n",
       "     \"<code>\\n\"+\n",
       "     \"from bokeh.resources import INLINE\\n\"+\n",
       "     \"output_notebook(resources=INLINE)\\n\"+\n",
       "     \"</code>\\n\"+\n",
       "     \"</div>\"}};\n",
       "\n",
       "  function display_loaded() {\n",
       "    var el = document.getElementById(\"2361\");\n",
       "    if (el != null) {\n",
       "      el.textContent = \"BokehJS is loading...\";\n",
       "    }\n",
       "    if (root.Bokeh !== undefined) {\n",
       "      if (el != null) {\n",
       "        el.textContent = \"BokehJS \" + root.Bokeh.version + \" successfully loaded.\";\n",
       "      }\n",
       "    } else if (Date.now() < root._bokeh_timeout) {\n",
       "      setTimeout(display_loaded, 100)\n",
       "    }\n",
       "  }\n",
       "\n",
       "\n",
       "  function run_callbacks() {\n",
       "    try {\n",
       "      root._bokeh_onload_callbacks.forEach(function(callback) {\n",
       "        if (callback != null)\n",
       "          callback();\n",
       "      });\n",
       "    } finally {\n",
       "      delete root._bokeh_onload_callbacks\n",
       "    }\n",
       "    console.debug(\"Bokeh: all callbacks have finished\");\n",
       "  }\n",
       "\n",
       "  function load_libs(css_urls, js_urls, callback) {\n",
       "    if (css_urls == null) css_urls = [];\n",
       "    if (js_urls == null) js_urls = [];\n",
       "\n",
       "    root._bokeh_onload_callbacks.push(callback);\n",
       "    if (root._bokeh_is_loading > 0) {\n",
       "      console.debug(\"Bokeh: BokehJS is being loaded, scheduling callback at\", now());\n",
       "      return null;\n",
       "    }\n",
       "    if (js_urls == null || js_urls.length === 0) {\n",
       "      run_callbacks();\n",
       "      return null;\n",
       "    }\n",
       "    console.debug(\"Bokeh: BokehJS not loaded, scheduling load and callback at\", now());\n",
       "    root._bokeh_is_loading = css_urls.length + js_urls.length;\n",
       "\n",
       "    function on_load() {\n",
       "      root._bokeh_is_loading--;\n",
       "      if (root._bokeh_is_loading === 0) {\n",
       "        console.debug(\"Bokeh: all BokehJS libraries/stylesheets loaded\");\n",
       "        run_callbacks()\n",
       "      }\n",
       "    }\n",
       "\n",
       "    function on_error() {\n",
       "      console.error(\"failed to load \" + url);\n",
       "    }\n",
       "\n",
       "    for (var i = 0; i < css_urls.length; i++) {\n",
       "      var url = css_urls[i];\n",
       "      const element = document.createElement(\"link\");\n",
       "      element.onload = on_load;\n",
       "      element.onerror = on_error;\n",
       "      element.rel = \"stylesheet\";\n",
       "      element.type = \"text/css\";\n",
       "      element.href = url;\n",
       "      console.debug(\"Bokeh: injecting link tag for BokehJS stylesheet: \", url);\n",
       "      document.body.appendChild(element);\n",
       "    }\n",
       "\n",
       "    const hashes = {\"https://cdn.bokeh.org/bokeh/release/bokeh-2.2.3.min.js\": \"T2yuo9Oe71Cz/I4X9Ac5+gpEa5a8PpJCDlqKYO0CfAuEszu1JrXLl8YugMqYe3sM\", \"https://cdn.bokeh.org/bokeh/release/bokeh-widgets-2.2.3.min.js\": \"98GDGJ0kOMCUMUePhksaQ/GYgB3+NH9h996V88sh3aOiUNX3N+fLXAtry6xctSZ6\", \"https://cdn.bokeh.org/bokeh/release/bokeh-tables-2.2.3.min.js\": \"89bArO+nlbP3sgakeHjCo1JYxYR5wufVgA3IbUvDY+K7w4zyxJqssu7wVnfeKCq8\"};\n",
       "\n",
       "    for (var i = 0; i < js_urls.length; i++) {\n",
       "      var url = js_urls[i];\n",
       "      var element = document.createElement('script');\n",
       "      element.onload = on_load;\n",
       "      element.onerror = on_error;\n",
       "      element.async = false;\n",
       "      element.src = url;\n",
       "      if (url in hashes) {\n",
       "        element.crossOrigin = \"anonymous\";\n",
       "        element.integrity = \"sha384-\" + hashes[url];\n",
       "      }\n",
       "      console.debug(\"Bokeh: injecting script tag for BokehJS library: \", url);\n",
       "      document.head.appendChild(element);\n",
       "    }\n",
       "  };\n",
       "\n",
       "  function inject_raw_css(css) {\n",
       "    const element = document.createElement(\"style\");\n",
       "    element.appendChild(document.createTextNode(css));\n",
       "    document.body.appendChild(element);\n",
       "  }\n",
       "\n",
       "  \n",
       "  var js_urls = [\"https://cdn.bokeh.org/bokeh/release/bokeh-2.2.3.min.js\", \"https://cdn.bokeh.org/bokeh/release/bokeh-widgets-2.2.3.min.js\", \"https://cdn.bokeh.org/bokeh/release/bokeh-tables-2.2.3.min.js\"];\n",
       "  var css_urls = [];\n",
       "  \n",
       "\n",
       "  var inline_js = [\n",
       "    function(Bokeh) {\n",
       "      Bokeh.set_log_level(\"info\");\n",
       "    },\n",
       "    function(Bokeh) {\n",
       "    \n",
       "    \n",
       "    }\n",
       "  ];\n",
       "\n",
       "  function run_inline_js() {\n",
       "    \n",
       "    if (root.Bokeh !== undefined || force === true) {\n",
       "      \n",
       "    for (var i = 0; i < inline_js.length; i++) {\n",
       "      inline_js[i].call(root, root.Bokeh);\n",
       "    }\n",
       "    if (force === true) {\n",
       "        display_loaded();\n",
       "      }} else if (Date.now() < root._bokeh_timeout) {\n",
       "      setTimeout(run_inline_js, 100);\n",
       "    } else if (!root._bokeh_failed_load) {\n",
       "      console.log(\"Bokeh: BokehJS failed to load within specified timeout.\");\n",
       "      root._bokeh_failed_load = true;\n",
       "    } else if (force !== true) {\n",
       "      var cell = $(document.getElementById(\"2361\")).parents('.cell').data().cell;\n",
       "      cell.output_area.append_execute_result(NB_LOAD_WARNING)\n",
       "    }\n",
       "\n",
       "  }\n",
       "\n",
       "  if (root._bokeh_is_loading === 0) {\n",
       "    console.debug(\"Bokeh: BokehJS loaded, going straight to plotting\");\n",
       "    run_inline_js();\n",
       "  } else {\n",
       "    load_libs(css_urls, js_urls, function() {\n",
       "      console.debug(\"Bokeh: BokehJS plotting callback run at\", now());\n",
       "      run_inline_js();\n",
       "    });\n",
       "  }\n",
       "}(window));"
      ],
      "application/vnd.bokehjs_load.v0+json": "\n(function(root) {\n  function now() {\n    return new Date();\n  }\n\n  var force = true;\n\n  if (typeof root._bokeh_onload_callbacks === \"undefined\" || force === true) {\n    root._bokeh_onload_callbacks = [];\n    root._bokeh_is_loading = undefined;\n  }\n\n  \n\n  \n  if (typeof (root._bokeh_timeout) === \"undefined\" || force === true) {\n    root._bokeh_timeout = Date.now() + 5000;\n    root._bokeh_failed_load = false;\n  }\n\n  var NB_LOAD_WARNING = {'data': {'text/html':\n     \"<div style='background-color: #fdd'>\\n\"+\n     \"<p>\\n\"+\n     \"BokehJS does not appear to have successfully loaded. If loading BokehJS from CDN, this \\n\"+\n     \"may be due to a slow or bad network connection. Possible fixes:\\n\"+\n     \"</p>\\n\"+\n     \"<ul>\\n\"+\n     \"<li>re-rerun `output_notebook()` to attempt to load from CDN again, or</li>\\n\"+\n     \"<li>use INLINE resources instead, as so:</li>\\n\"+\n     \"</ul>\\n\"+\n     \"<code>\\n\"+\n     \"from bokeh.resources import INLINE\\n\"+\n     \"output_notebook(resources=INLINE)\\n\"+\n     \"</code>\\n\"+\n     \"</div>\"}};\n\n  function display_loaded() {\n    var el = document.getElementById(\"2361\");\n    if (el != null) {\n      el.textContent = \"BokehJS is loading...\";\n    }\n    if (root.Bokeh !== undefined) {\n      if (el != null) {\n        el.textContent = \"BokehJS \" + root.Bokeh.version + \" successfully loaded.\";\n      }\n    } else if (Date.now() < root._bokeh_timeout) {\n      setTimeout(display_loaded, 100)\n    }\n  }\n\n\n  function run_callbacks() {\n    try {\n      root._bokeh_onload_callbacks.forEach(function(callback) {\n        if (callback != null)\n          callback();\n      });\n    } finally {\n      delete root._bokeh_onload_callbacks\n    }\n    console.debug(\"Bokeh: all callbacks have finished\");\n  }\n\n  function load_libs(css_urls, js_urls, callback) {\n    if (css_urls == null) css_urls = [];\n    if (js_urls == null) js_urls = [];\n\n    root._bokeh_onload_callbacks.push(callback);\n    if (root._bokeh_is_loading > 0) {\n      console.debug(\"Bokeh: BokehJS is being loaded, scheduling callback at\", now());\n      return null;\n    }\n    if (js_urls == null || js_urls.length === 0) {\n      run_callbacks();\n      return null;\n    }\n    console.debug(\"Bokeh: BokehJS not loaded, scheduling load and callback at\", now());\n    root._bokeh_is_loading = css_urls.length + js_urls.length;\n\n    function on_load() {\n      root._bokeh_is_loading--;\n      if (root._bokeh_is_loading === 0) {\n        console.debug(\"Bokeh: all BokehJS libraries/stylesheets loaded\");\n        run_callbacks()\n      }\n    }\n\n    function on_error() {\n      console.error(\"failed to load \" + url);\n    }\n\n    for (var i = 0; i < css_urls.length; i++) {\n      var url = css_urls[i];\n      const element = document.createElement(\"link\");\n      element.onload = on_load;\n      element.onerror = on_error;\n      element.rel = \"stylesheet\";\n      element.type = \"text/css\";\n      element.href = url;\n      console.debug(\"Bokeh: injecting link tag for BokehJS stylesheet: \", url);\n      document.body.appendChild(element);\n    }\n\n    const hashes = {\"https://cdn.bokeh.org/bokeh/release/bokeh-2.2.3.min.js\": \"T2yuo9Oe71Cz/I4X9Ac5+gpEa5a8PpJCDlqKYO0CfAuEszu1JrXLl8YugMqYe3sM\", \"https://cdn.bokeh.org/bokeh/release/bokeh-widgets-2.2.3.min.js\": \"98GDGJ0kOMCUMUePhksaQ/GYgB3+NH9h996V88sh3aOiUNX3N+fLXAtry6xctSZ6\", \"https://cdn.bokeh.org/bokeh/release/bokeh-tables-2.2.3.min.js\": \"89bArO+nlbP3sgakeHjCo1JYxYR5wufVgA3IbUvDY+K7w4zyxJqssu7wVnfeKCq8\"};\n\n    for (var i = 0; i < js_urls.length; i++) {\n      var url = js_urls[i];\n      var element = document.createElement('script');\n      element.onload = on_load;\n      element.onerror = on_error;\n      element.async = false;\n      element.src = url;\n      if (url in hashes) {\n        element.crossOrigin = \"anonymous\";\n        element.integrity = \"sha384-\" + hashes[url];\n      }\n      console.debug(\"Bokeh: injecting script tag for BokehJS library: \", url);\n      document.head.appendChild(element);\n    }\n  };\n\n  function inject_raw_css(css) {\n    const element = document.createElement(\"style\");\n    element.appendChild(document.createTextNode(css));\n    document.body.appendChild(element);\n  }\n\n  \n  var js_urls = [\"https://cdn.bokeh.org/bokeh/release/bokeh-2.2.3.min.js\", \"https://cdn.bokeh.org/bokeh/release/bokeh-widgets-2.2.3.min.js\", \"https://cdn.bokeh.org/bokeh/release/bokeh-tables-2.2.3.min.js\"];\n  var css_urls = [];\n  \n\n  var inline_js = [\n    function(Bokeh) {\n      Bokeh.set_log_level(\"info\");\n    },\n    function(Bokeh) {\n    \n    \n    }\n  ];\n\n  function run_inline_js() {\n    \n    if (root.Bokeh !== undefined || force === true) {\n      \n    for (var i = 0; i < inline_js.length; i++) {\n      inline_js[i].call(root, root.Bokeh);\n    }\n    if (force === true) {\n        display_loaded();\n      }} else if (Date.now() < root._bokeh_timeout) {\n      setTimeout(run_inline_js, 100);\n    } else if (!root._bokeh_failed_load) {\n      console.log(\"Bokeh: BokehJS failed to load within specified timeout.\");\n      root._bokeh_failed_load = true;\n    } else if (force !== true) {\n      var cell = $(document.getElementById(\"2361\")).parents('.cell').data().cell;\n      cell.output_area.append_execute_result(NB_LOAD_WARNING)\n    }\n\n  }\n\n  if (root._bokeh_is_loading === 0) {\n    console.debug(\"Bokeh: BokehJS loaded, going straight to plotting\");\n    run_inline_js();\n  } else {\n    load_libs(css_urls, js_urls, function() {\n      console.debug(\"Bokeh: BokehJS plotting callback run at\", now());\n      run_inline_js();\n    });\n  }\n}(window));"
     },
     "metadata": {},
     "output_type": "display_data"
    },
    {
     "data": {
      "text/html": [
       "\n",
       "\n",
       "\n",
       "\n",
       "\n",
       "\n",
       "  <div class=\"bk-root\" id=\"4ed26779-e4b3-4e02-a93d-91bbaf2fa664\" data-root-id=\"2362\"></div>\n"
      ]
     },
     "metadata": {},
     "output_type": "display_data"
    },
    {
     "data": {
      "application/javascript": [
       "(function(root) {\n",
       "  function embed_document(root) {\n",
       "    \n",
       "  var docs_json = {\"2532196c-24fa-4fbd-be84-ef8e54b2be4a\":{\"roots\":{\"references\":[{\"attributes\":{\"below\":[{\"id\":\"2373\"}],\"center\":[{\"id\":\"2376\"},{\"id\":\"2380\"},{\"id\":\"2420\"}],\"left\":[{\"id\":\"2377\"}],\"plot_height\":300,\"plot_width\":500,\"renderers\":[{\"id\":\"2398\"},{\"id\":\"2425\"}],\"title\":{\"id\":\"2363\"},\"toolbar\":{\"id\":\"2388\"},\"x_range\":{\"id\":\"2365\"},\"x_scale\":{\"id\":\"2369\"},\"y_range\":{\"id\":\"2367\"},\"y_scale\":{\"id\":\"2371\"}},\"id\":\"2362\",\"subtype\":\"Figure\",\"type\":\"Plot\"},{\"attributes\":{},\"id\":\"2386\",\"type\":\"HelpTool\"},{\"attributes\":{\"axis\":{\"id\":\"2373\"},\"ticker\":null},\"id\":\"2376\",\"type\":\"Grid\"},{\"attributes\":{\"days\":[1,4,7,10,13,16,19,22,25,28]},\"id\":\"2410\",\"type\":\"DaysTicker\"},{\"attributes\":{},\"id\":\"2418\",\"type\":\"UnionRenderers\"},{\"attributes\":{},\"id\":\"2365\",\"type\":\"DataRange1d\"},{\"attributes\":{\"overlay\":{\"id\":\"2387\"}},\"id\":\"2383\",\"type\":\"BoxZoomTool\"},{\"attributes\":{},\"id\":\"2404\",\"type\":\"DatetimeTickFormatter\"},{\"attributes\":{},\"id\":\"2384\",\"type\":\"SaveTool\"},{\"attributes\":{},\"id\":\"2385\",\"type\":\"ResetTool\"},{\"attributes\":{\"label\":{\"value\":\"AAPL\"},\"renderers\":[{\"id\":\"2425\"}]},\"id\":\"2449\",\"type\":\"LegendItem\"},{\"attributes\":{\"label\":{\"value\":\"FB\"},\"renderers\":[{\"id\":\"2398\"}]},\"id\":\"2421\",\"type\":\"LegendItem\"},{\"attributes\":{\"axis_label\":\"5. adjusted close - Percentage Change\",\"formatter\":{\"id\":\"2402\"},\"ticker\":{\"id\":\"2378\"}},\"id\":\"2377\",\"type\":\"LinearAxis\"},{\"attributes\":{},\"id\":\"2448\",\"type\":\"Selection\"},{\"attributes\":{\"num_minor_ticks\":5,\"tickers\":[{\"id\":\"2406\"},{\"id\":\"2407\"},{\"id\":\"2408\"},{\"id\":\"2409\"},{\"id\":\"2410\"},{\"id\":\"2411\"},{\"id\":\"2412\"},{\"id\":\"2413\"},{\"id\":\"2414\"},{\"id\":\"2415\"},{\"id\":\"2416\"},{\"id\":\"2417\"}]},\"id\":\"2374\",\"type\":\"DatetimeTicker\"},{\"attributes\":{},\"id\":\"2371\",\"type\":\"LinearScale\"},{\"attributes\":{\"items\":[{\"id\":\"2421\"},{\"id\":\"2449\"}],\"location\":\"top_left\",\"title\":\"Stock\",\"title_text_font_size\":\"15px\",\"title_text_font_style\":\"bold\"},\"id\":\"2420\",\"type\":\"Legend\"},{\"attributes\":{},\"id\":\"2367\",\"type\":\"DataRange1d\"},{\"attributes\":{},\"id\":\"2447\",\"type\":\"UnionRenderers\"},{\"attributes\":{},\"id\":\"2382\",\"type\":\"WheelZoomTool\"},{\"attributes\":{\"axis\":{\"id\":\"2377\"},\"dimension\":1,\"ticker\":null},\"id\":\"2380\",\"type\":\"Grid\"},{\"attributes\":{\"data_source\":{\"id\":\"2422\"},\"glyph\":{\"id\":\"2423\"},\"hover_glyph\":null,\"muted_glyph\":null,\"nonselection_glyph\":{\"id\":\"2424\"},\"selection_glyph\":null,\"view\":{\"id\":\"2426\"}},\"id\":\"2425\",\"type\":\"GlyphRenderer\"},{\"attributes\":{\"line_width\":2,\"x\":{\"field\":\"x\"},\"y\":{\"field\":\"y\"}},\"id\":\"2423\",\"type\":\"Line\"},{\"attributes\":{\"formatter\":{\"id\":\"2404\"},\"ticker\":{\"id\":\"2374\"}},\"id\":\"2373\",\"type\":\"DatetimeAxis\"},{\"attributes\":{},\"id\":\"2381\",\"type\":\"PanTool\"},{\"attributes\":{\"days\":[1,15]},\"id\":\"2412\",\"type\":\"DaysTicker\"},{\"attributes\":{},\"id\":\"2369\",\"type\":\"LinearScale\"},{\"attributes\":{\"data\":{\"x\":{\"__ndarray__\":\"AADAZ1yRd0IAAIDNrpF3QgAAQDMBkndCAACAZPiSd0IAAEDKSpN3QgAAADCdk3dCAADAle+Td0IAAID7QZR3QgAAwCw5lXdCAACAkouVd0IAAED43ZV3QgAAAF4wlndCAADAw4KWd0IAAAD1eZd3QgAAwFrMl3dCAACAwB6Yd0IAAEAmcZh3QgAAAIzDmHdCAABAvbqZd0IAAAAjDZp3QgAAwIhfmndCAACA7rGad0IAAEBUBJt3QgAAQOtNnHdCAAAAUaCcd0IAAMC28px3QgAAgBxFnXdCAADATTyed0IAAICzjp53QgAAQBnhnndCAAAAfzOfd0IAAMDkhZ93QgAAABZ9oHdCAADAe8+gd0IAAIDhIaF3QgAAQEd0oXdCAAAArcahd0IAAEDevaJ3QgAAAEQQo3dCAADAqWKjd0IAAIAPtaN3QgAAQHUHpHdCAACApv6kd0IAAEAMUaV3QgAAAHKjpXdCAADA1/Wld0IAAIA9SKZ3QgAAgNSRp3dCAABAOuSnd0IAAACgNqh3QgAAwAWJqHdCAAAAN4Cpd0IAAMCc0ql3QgAAgAIlqndCAABAaHeqd0IAAADOyap3QgAAQP/Aq3dCAAAAZROsd0IAAMDKZax3QgAAgDC4rHdCAABAlgqtd0IAAIDHAa53QgAAQC1UrndCAAAAk6aud0IAAMD4+K53QgAAgF5Lr3dCAADAj0Kwd0IAAID1lLB3QgAAQFvnsHdCAAAAwTmxd0IAAMAmjLF3QgAAAFiDsndCAADAvdWyd0IAAIAjKLN3QgAAQIl6s3dCAAAA78yzd0IAAEAgxLR3QgAAAIYWtXdCAADA62i1d0IAAIBRu7V3QgAAQLcNtndCAACA6AS3d0IAAEBOV7d3QgAAALSpt3dCAADAGfy3d0IAAIB/Trh3QgAAwLBFuXdCAACAFpi5d0IAAEB86rl3QgAAAOI8undCAADAR4+6d0IAAMDe2Lt3QgAAgEQrvHdCAABAqn28d0IAAAAQ0Lx3QgAAQEHHvXdCAAAApxm+d0IAAMAMbL53QgAAgHK+vndCAABA2BC/d0I=\",\"dtype\":\"float64\",\"order\":\"little\",\"shape\":[100]},\"y\":{\"__ndarray__\":\"AAAAAAAAAACJat6qHyqzvzsoTSadZPm/4xVk9fXp6L8FkqmLgygRwEI8EE/eaBDAqfYkMVn/BsA3kFUqd90CwEDk6K7MghPA6Do8nJpUFsB3IoLgvL8fwJ2Rj4loJhnA0y6/xRK2EcDkqU4QK0AVwE4wJ7iNghnAhXxg9mn9GcBHpCd8kyESwKlqwVYvxRfAgVTEjdTCEsBNmXjbZ1wTwEDk6K7MghPAf0sS0V04GMCyO3AV2DoawI1xsVU+OBvAH4CKpkzhGMBtnEP1eHAdwL0qACT2YxbASqYkYEhcFsCG5bEZRNcTwFf5F0LLqxLAHPaHTge7FcC2xJ9s3AISwDPDatjPPgHApURQZdhIBsDQLu1YnDkDwLnVY7zyxfK/q6Ly54ZdAcAdVDtH9U7pv2Nw4T+eAt4/38HScoeS0D/Y4+o5ozylP5aeIMR1fMe//URwa9wZ8T+GEYNqWdkBQJsyL9TfoAVA4PAPRfV8B0BpC/V3EdATQM8mfxjl/RlAKuLBm/3RIEBsaKNytKYdQDTVsERRoSFAzMQnbh23IECIkqsLzmwiQAoRs9VtsCdA/RiEszCvJkCp3Wg9wowjQJryoP8USBtA/VfEDp0wI0DbDAfdqBAiQCxYEW0sKiRABWwSw+fNJkBy3py2/3InQJcqO8enHiRArlxqy2dvIUCIkqsLzmwiQN2sZ3ZFwSJAt09ZdLs+IkAhQ+LZLQElQJ3IOarDYyRAwtWXX/+NJEATsJKXPYEjQIb+68cDbiNAAf8jCJqxIkBDZyBzkxUjQBfXYjSpoidAwI24z2jzJ0CuLTr7IfwqQD/gUEuIlilAFVejj9XVI0DNQXfgkVgkQPcgRdl/lSZAE9FD6PbdKEA4XrGlW7soQF4WrwHe1iZAYxzOTZCbJUDunTWzJjMnQPfsRW0q/S1AKdQSsyMNLECkqbpUnBItQLyt+Z/1yC5AUbJwK+XCL0D1hvve8awxQPldS0EtfTBAAhul1nRqL0ClWToabMEnQAXMlBxxoChAwo4oUJV6JkCM+5tGftgnQPBzFZU1fCdAky27sXpiI0A=\",\"dtype\":\"float64\",\"order\":\"little\",\"shape\":[100]}},\"selected\":{\"id\":\"2448\"},\"selection_policy\":{\"id\":\"2447\"}},\"id\":\"2422\",\"type\":\"ColumnDataSource\"},{\"attributes\":{},\"id\":\"2419\",\"type\":\"Selection\"},{\"attributes\":{\"bottom_units\":\"screen\",\"fill_alpha\":0.5,\"fill_color\":\"lightgrey\",\"left_units\":\"screen\",\"level\":\"overlay\",\"line_alpha\":1.0,\"line_color\":\"black\",\"line_dash\":[4,4],\"line_width\":2,\"right_units\":\"screen\",\"top_units\":\"screen\"},\"id\":\"2387\",\"type\":\"BoxAnnotation\"},{\"attributes\":{\"line_alpha\":0.1,\"line_width\":2,\"x\":{\"field\":\"x\"},\"y\":{\"field\":\"y\"}},\"id\":\"2424\",\"type\":\"Line\"},{\"attributes\":{\"months\":[0,4,8]},\"id\":\"2415\",\"type\":\"MonthsTicker\"},{\"attributes\":{\"mantissas\":[1,2,5],\"max_interval\":500.0,\"num_minor_ticks\":0},\"id\":\"2406\",\"type\":\"AdaptiveTicker\"},{\"attributes\":{\"source\":{\"id\":\"2422\"}},\"id\":\"2426\",\"type\":\"CDSView\"},{\"attributes\":{\"active_drag\":\"auto\",\"active_inspect\":\"auto\",\"active_multi\":null,\"active_scroll\":\"auto\",\"active_tap\":\"auto\",\"tools\":[{\"id\":\"2381\"},{\"id\":\"2382\"},{\"id\":\"2383\"},{\"id\":\"2384\"},{\"id\":\"2385\"},{\"id\":\"2386\"}]},\"id\":\"2388\",\"type\":\"Toolbar\"},{\"attributes\":{\"base\":24,\"mantissas\":[1,2,4,6,8,12],\"max_interval\":43200000.0,\"min_interval\":3600000.0,\"num_minor_ticks\":0},\"id\":\"2408\",\"type\":\"AdaptiveTicker\"},{\"attributes\":{\"base\":60,\"mantissas\":[1,2,5,10,15,20,30],\"max_interval\":1800000.0,\"min_interval\":1000.0,\"num_minor_ticks\":0},\"id\":\"2407\",\"type\":\"AdaptiveTicker\"},{\"attributes\":{\"data\":{\"x\":{\"__ndarray__\":\"AADAZ1yRd0IAAIDNrpF3QgAAQDMBkndCAACAZPiSd0IAAEDKSpN3QgAAADCdk3dCAADAle+Td0IAAID7QZR3QgAAwCw5lXdCAACAkouVd0IAAED43ZV3QgAAAF4wlndCAADAw4KWd0IAAAD1eZd3QgAAwFrMl3dCAACAwB6Yd0IAAEAmcZh3QgAAAIzDmHdCAABAvbqZd0IAAAAjDZp3QgAAwIhfmndCAACA7rGad0IAAEBUBJt3QgAAQOtNnHdCAAAAUaCcd0IAAMC28px3QgAAgBxFnXdCAADATTyed0IAAICzjp53QgAAQBnhnndCAAAAfzOfd0IAAMDkhZ93QgAAABZ9oHdCAADAe8+gd0IAAIDhIaF3QgAAQEd0oXdCAAAArcahd0IAAEDevaJ3QgAAAEQQo3dCAADAqWKjd0IAAIAPtaN3QgAAQHUHpHdCAACApv6kd0IAAEAMUaV3QgAAAHKjpXdCAADA1/Wld0IAAIA9SKZ3QgAAgNSRp3dCAABAOuSnd0IAAACgNqh3QgAAwAWJqHdCAAAAN4Cpd0IAAMCc0ql3QgAAgAIlqndCAABAaHeqd0IAAADOyap3QgAAQP/Aq3dCAAAAZROsd0IAAMDKZax3QgAAgDC4rHdCAABAlgqtd0IAAIDHAa53QgAAQC1UrndCAAAAk6aud0IAAMD4+K53QgAAgF5Lr3dCAADAj0Kwd0IAAID1lLB3QgAAQFvnsHdCAAAAwTmxd0IAAMAmjLF3QgAAAFiDsndCAADAvdWyd0IAAIAjKLN3QgAAQIl6s3dCAAAA78yzd0IAAEAgxLR3QgAAAIYWtXdCAADA62i1d0IAAIBRu7V3QgAAQLcNtndCAACA6AS3d0IAAEBOV7d3QgAAALSpt3dCAADAGfy3d0IAAIB/Trh3QgAAwLBFuXdCAACAFpi5d0IAAEB86rl3QgAAAOI8undCAADAR4+6d0IAAMDe2Lt3QgAAgEQrvHdCAABAqn28d0IAAAAQ0Lx3QgAAQEHHvXdCAAAApxm+d0IAAMAMbL53QgAAgHK+vndCAABA2BC/d0I=\",\"dtype\":\"float64\",\"order\":\"little\",\"shape\":[100]},\"y\":{\"__ndarray__\":\"AAAAAAAAAAD7UuSzbjAdQIG6vvBIaxdA+FHYI64pFEAQFgltHFUNQAa5rSS4oQRAlK0jrBHUEEBysl5wRDUPQODIaw2hjNe/jBXn1PrBx7/AQAhjpLT3v5axTrBDLOO/OY+3mkAHB0CH0dPtJccFQLZ83m0mze0/W+nxVhPoAEArXmr81PsNQId81g2myAdAoPmzbzzVFkCU9HaT6fIaQDvIYqGQxxpAhnmyXWS0IEDuSGsHWSwcQJaCH3q5sRxA2OsOs2S4HEAzeKKdY6sYQPeYKwuGSB5Aexo+6e4yI0BiyXBJcU8hQIOKfu4tJx5AMr7qAAuEIEBaz7ip9HcfQJROrzecUiNA85k3m0ZPI0DKG06p7zsfQD0im0VDJyNAqOjn3nJiHUDFPvFOs2cgQCILhkhmyyRAORX/9HvPJUBm9oybSn8nQEmaO8uGUSZAcJLdYqKcL0AJxDBJbistQNNJdouJcipATfijrzvMLkBBaOOo6v8uQJmq//vPvy1AGV91gAVCLECvm0yXFxspQNxm0txZNixA1hLimCr/LUBz0t1lxkwtQER3lxkzZSpAeh96ubFUKECOsVLggy4mQFyo5LeecCNAnFUDKOCBJkBVEtxQynspQJER0+S5tixAY6fYJ95pNEA7AQ+0cEg1QJg5s2bQxDNAZfiku8uMNUA/EMMkua0wQNPtJcdVBTBA9uGXHm81LUAuVf7rD78sQOKlxk+93zBA59ceclkxMkCP3m4yXV4yQBHaOKr6vzFAW2KcVPeXMUCR/u4zbzYxQMAyYY6sFjJAREyT59pCMkCHbBYNnVwzQFQbSGGPuDBAVl5sFPV8L0DBObV+8EUvQBpWCXBABTFAAQyQwAZRMkCqJtDBFQUzQOb0esMp9TNAh3eaPeOmMkD4wAuNnFY1QOOo6v/+8zdAVBT0cEuJN0Azbir93Wc4QIBABkuEMzZAPQp7xDWFNkBIea85tHI4QEZmy4hp8jZALjzS2kEWN0BAKOOlxk83QEAzZ9YMmjZAkQ2jpLebNkCvQiCDJcI1QOCWEt90ejVA//aT7zrDMkA=\",\"dtype\":\"float64\",\"order\":\"little\",\"shape\":[100]}},\"selected\":{\"id\":\"2419\"},\"selection_policy\":{\"id\":\"2418\"}},\"id\":\"2395\",\"type\":\"ColumnDataSource\"},{\"attributes\":{\"line_color\":\"blue\",\"line_width\":2,\"x\":{\"field\":\"x\"},\"y\":{\"field\":\"y\"}},\"id\":\"2396\",\"type\":\"Line\"},{\"attributes\":{\"months\":[0,1,2,3,4,5,6,7,8,9,10,11]},\"id\":\"2413\",\"type\":\"MonthsTicker\"},{\"attributes\":{\"months\":[0,6]},\"id\":\"2416\",\"type\":\"MonthsTicker\"},{\"attributes\":{\"months\":[0,2,4,6,8,10]},\"id\":\"2414\",\"type\":\"MonthsTicker\"},{\"attributes\":{\"days\":[1,8,15,22]},\"id\":\"2411\",\"type\":\"DaysTicker\"},{\"attributes\":{},\"id\":\"2417\",\"type\":\"YearsTicker\"},{\"attributes\":{},\"id\":\"2402\",\"type\":\"BasicTickFormatter\"},{\"attributes\":{\"line_alpha\":0.1,\"line_color\":\"blue\",\"line_width\":2,\"x\":{\"field\":\"x\"},\"y\":{\"field\":\"y\"}},\"id\":\"2397\",\"type\":\"Line\"},{\"attributes\":{\"days\":[1,2,3,4,5,6,7,8,9,10,11,12,13,14,15,16,17,18,19,20,21,22,23,24,25,26,27,28,29,30,31]},\"id\":\"2409\",\"type\":\"DaysTicker\"},{\"attributes\":{\"source\":{\"id\":\"2395\"}},\"id\":\"2399\",\"type\":\"CDSView\"},{\"attributes\":{\"data_source\":{\"id\":\"2395\"},\"glyph\":{\"id\":\"2396\"},\"hover_glyph\":null,\"muted_glyph\":null,\"nonselection_glyph\":{\"id\":\"2397\"},\"selection_glyph\":null,\"view\":{\"id\":\"2399\"}},\"id\":\"2398\",\"type\":\"GlyphRenderer\"},{\"attributes\":{},\"id\":\"2378\",\"type\":\"BasicTicker\"},{\"attributes\":{\"text\":\"Stock performance from Alpha Vantage API\"},\"id\":\"2363\",\"type\":\"Title\"}],\"root_ids\":[\"2362\"]},\"title\":\"Bokeh Application\",\"version\":\"2.2.3\"}};\n",
       "  var render_items = [{\"docid\":\"2532196c-24fa-4fbd-be84-ef8e54b2be4a\",\"root_ids\":[\"2362\"],\"roots\":{\"2362\":\"4ed26779-e4b3-4e02-a93d-91bbaf2fa664\"}}];\n",
       "  root.Bokeh.embed.embed_items_notebook(docs_json, render_items);\n",
       "\n",
       "  }\n",
       "  if (root.Bokeh !== undefined) {\n",
       "    embed_document(root);\n",
       "  } else {\n",
       "    var attempts = 0;\n",
       "    var timer = setInterval(function(root) {\n",
       "      if (root.Bokeh !== undefined) {\n",
       "        clearInterval(timer);\n",
       "        embed_document(root);\n",
       "      } else {\n",
       "        attempts++;\n",
       "        if (attempts > 100) {\n",
       "          clearInterval(timer);\n",
       "          console.log(\"Bokeh: ERROR: Unable to run BokehJS code because BokehJS library is missing\");\n",
       "        }\n",
       "      }\n",
       "    }, 10, root)\n",
       "  }\n",
       "})(window);"
      ],
      "application/vnd.bokehjs_exec.v0+json": ""
     },
     "metadata": {
      "application/vnd.bokehjs_exec.v0+json": {
       "id": "2362"
      }
     },
     "output_type": "display_data"
    }
   ],
   "source": [
    "#Let's try with Bokeh instead\n",
    "\n",
    "from bokeh.plotting import figure, show\n",
    "from bokeh.io import output_notebook \n",
    "\n",
    "output_notebook()\n",
    "\n",
    "var_to_show = '5. adjusted close' #'4. close' #'1. open' #'5. adjusted close'\n",
    "\n",
    "tickers_all = ['FB','AAPL']\n",
    "\n",
    "#optional figure arguments:\n",
    "kw = dict()\n",
    "#kw['tools'] = 'pan,box_zoom,hover,reset'\n",
    "kw['title'] = 'Stock performance from Alpha Vantage API'\n",
    "\n",
    "colors_list = {'AAPL':'black','GOOG':'red','MSFT':'green','FB':'blue','PFE':'orange','MRNA':'pink','JNJ':'purple','AZN':'grey'}\n",
    "\n",
    "p = figure(width=500, height=300, x_axis_type=\"datetime\",**kw) \n",
    "p.yaxis.axis_label = var_to_show + ' - Percentage Change' \n",
    "\n",
    "for ticker in tickers_all:\n",
    "    series_to_show = ticker_df_all[ticker,var_to_show] \n",
    "\n",
    "    #normalization\n",
    "    series_to_show = 100*(series_to_show - series_to_show[0])/series_to_show[0]\n",
    "\n",
    "    # add a line renderer\n",
    "    p.line(x = ticker_df_all.index, y=series_to_show, line_width=2, legend_label = ticker, color=colors_list[ticker])\n",
    "    #p.line(ticker_df.index, ticker_df['5. adjusted close'], line_width=2)\n",
    "\n",
    "p.legend.location = 'top_left'\n",
    "\n",
    "p.legend.title = 'Stock'\n",
    "p.legend.title_text_font_style = \"bold\"\n",
    "p.legend.title_text_font_size = \"15px\"\n",
    "\n",
    "kw['title'] = 'Stocks performance from Alpha Vantage API'\n",
    "\n",
    "show(p)\n",
    "\n"
   ]
  }
 ],
 "metadata": {
  "kernelspec": {
   "display_name": "Python 3",
   "language": "python",
   "name": "python3"
  },
  "language_info": {
   "codemirror_mode": {
    "name": "ipython",
    "version": 3
   },
   "file_extension": ".py",
   "mimetype": "text/x-python",
   "name": "python",
   "nbconvert_exporter": "python",
   "pygments_lexer": "ipython3",
   "version": "3.8.5"
  }
 },
 "nbformat": 4,
 "nbformat_minor": 4
}
