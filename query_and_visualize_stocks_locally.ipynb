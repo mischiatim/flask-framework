{
 "cells": [
  {
   "cell_type": "code",
   "execution_count": 1,
   "metadata": {},
   "outputs": [],
   "source": [
    "import requests\n",
    "import json "
   ]
  },
  {
   "cell_type": "code",
   "execution_count": 2,
   "metadata": {},
   "outputs": [],
   "source": [
    "from dotenv import dotenv_values"
   ]
  },
  {
   "cell_type": "code",
   "execution_count": 3,
   "metadata": {},
   "outputs": [],
   "source": [
    "import pandas as pd"
   ]
  },
  {
   "cell_type": "code",
   "execution_count": 4,
   "metadata": {},
   "outputs": [],
   "source": [
    "#Will need to deal with this with Heroku's config vars for deployment\n",
    "config = dotenv_values('.env')\n",
    "key = config['ALPHA_API_KEY']"
   ]
  },
  {
   "cell_type": "code",
   "execution_count": 5,
   "metadata": {},
   "outputs": [],
   "source": [
    "ticker = 'FB' "
   ]
  },
  {
   "cell_type": "code",
   "execution_count": 6,
   "metadata": {},
   "outputs": [],
   "source": [
    "url = 'https://www.alphavantage.co/query?function=TIME_SERIES_DAILY_ADJUSTED&symbol={}&apikey={}'.format(ticker, key)"
   ]
  },
  {
   "cell_type": "code",
   "execution_count": 7,
   "metadata": {},
   "outputs": [],
   "source": [
    "response = requests.get(url)"
   ]
  },
  {
   "cell_type": "code",
   "execution_count": 8,
   "metadata": {},
   "outputs": [],
   "source": [
    "response_data = response.json() "
   ]
  },
  {
   "cell_type": "code",
   "execution_count": 9,
   "metadata": {},
   "outputs": [
    {
     "data": {
      "text/plain": [
       "2"
      ]
     },
     "execution_count": 9,
     "metadata": {},
     "output_type": "execute_result"
    }
   ],
   "source": [
    "len(response_data)"
   ]
  },
  {
   "cell_type": "code",
   "execution_count": 10,
   "metadata": {},
   "outputs": [
    {
     "data": {
      "text/plain": [
       "dict_keys(['Meta Data', 'Time Series (Daily)'])"
      ]
     },
     "execution_count": 10,
     "metadata": {},
     "output_type": "execute_result"
    }
   ],
   "source": [
    "response_data.keys()"
   ]
  },
  {
   "cell_type": "code",
   "execution_count": 11,
   "metadata": {},
   "outputs": [
    {
     "data": {
      "text/plain": [
       "{'1. Information': 'Daily Time Series with Splits and Dividend Events',\n",
       " '2. Symbol': 'FB',\n",
       " '3. Last Refreshed': '2021-09-21 16:00:01',\n",
       " '4. Output Size': 'Compact',\n",
       " '5. Time Zone': 'US/Eastern'}"
      ]
     },
     "execution_count": 11,
     "metadata": {},
     "output_type": "execute_result"
    }
   ],
   "source": [
    "response_data['Meta Data']"
   ]
  },
  {
   "cell_type": "code",
   "execution_count": 12,
   "metadata": {},
   "outputs": [
    {
     "data": {
      "text/plain": [
       "5"
      ]
     },
     "execution_count": 12,
     "metadata": {},
     "output_type": "execute_result"
    }
   ],
   "source": [
    "len(response_data['Meta Data'])"
   ]
  },
  {
   "cell_type": "code",
   "execution_count": 13,
   "metadata": {},
   "outputs": [
    {
     "data": {
      "text/plain": [
       "100"
      ]
     },
     "execution_count": 13,
     "metadata": {},
     "output_type": "execute_result"
    }
   ],
   "source": [
    "len(response_data['Time Series (Daily)'])"
   ]
  },
  {
   "cell_type": "code",
   "execution_count": 14,
   "metadata": {},
   "outputs": [
    {
     "name": "stdout",
     "output_type": "stream",
     "text": [
      "{'Meta Data': {'1. Information': 'Daily Time Series with Splits and Dividend Events', '2. Symbol': 'FB', '3. Last Refreshed': '2021-09-21 16:00:01', '4. Output Size': 'Compact', '5. Time Zone': 'US/Eastern'}, 'Time Series (Daily)': {'2021-09-21': {'1. open': '358.5', '2. high': '360.04', '3. low': '355.29', '4. close': '357.48', '5. adjusted close': '357.48', '6. volume': '11662545', '7. dividend amount': '0.0000', '8. split coefficient': '1.0'}, '2021-09-20': {'1. open': '359.3', '2. high': '361.03', '3. low': '349.8', '4. close': '355.7', '5. adjusted close': '355.7', '6. volume': '19822772', '7. dividend amount': '0.0000', '8. split coefficient': '1.0'}, '2021-09-17': {'1. open': '371.405', '2. high': '371.41', '3. low': '361.59', '4. close': '364.72', '5. adjusted close': '364.72', '6. volume': '26298966', '7. dividend amount': '0.0000', '8. split coefficient': '1.0'}, '2021-09-16': {'1. open': '372.79', '2. high': '373.56', '3. low': '369.71', '4. close': '373.06', '5. adjusted close': '373.06', '6. volume': '11934217', '7. dividend amount': '0.0000', '8. split coefficient': '1.0'}, '2021-09-15': {'1. open': '377.0', '2. high': '377.555', '3. low': '367.67', '4. close': '373.92', '5. adjusted close': '373.92', '6. volume': '17940297', '7. dividend amount': '0.0000', '8. split coefficient': '1.0'}, '2021-09-14': {'1. open': '377.4', '2. high': '378.59', '3. low': '375.11', '4. close': '376.53', '5. adjusted close': '376.53', '6. volume': '8711569', '7. dividend amount': '0.0000', '8. split coefficient': '1.0'}, '2021-09-13': {'1. open': '381.68', '2. high': '381.75', '3. low': '374.3451', '4. close': '376.51', '5. adjusted close': '376.51', '6. volume': '13026275', '7. dividend amount': '0.0000', '8. split coefficient': '1.0'}, '2021-09-10': {'1. open': '381.361', '2. high': '383.79', '3. low': '378.26', '4. close': '378.69', '5. adjusted close': '378.69', '6. volume': '11549595', '7. dividend amount': '0.0000', '8. split coefficient': '1.0'}, '2021-09-09': {'1. open': '377.64', '2. high': '379.83', '3. low': '376.565', '4. close': '378.0', '5. adjusted close': '378.0', '6. volume': '9098941', '7. dividend amount': '0.0000', '8. split coefficient': '1.0'}, '2021-09-08': {'1. open': '380.16', '2. high': '380.87', '3. low': '374.79', '4. close': '377.57', '5. adjusted close': '377.57', '6. volume': '11067166', '7. dividend amount': '0.0000', '8. split coefficient': '1.0'}, '2021-09-07': {'1. open': '375.88', '2. high': '382.96', '3. low': '373.15', '4. close': '382.18', '5. adjusted close': '382.18', '6. volume': '10798920', '7. dividend amount': '0.0000', '8. split coefficient': '1.0'}, '2021-09-03': {'1. open': '374.75', '2. high': '377.16', '3. low': '373.11', '4. close': '376.26', '5. adjusted close': '376.26', '6. volume': '7511356', '7. dividend amount': '0.0000', '8. split coefficient': '1.0'}, '2021-09-02': {'1. open': '381.5', '2. high': '381.75', '3. low': '374.06', '4. close': '375.28', '5. adjusted close': '375.28', '6. volume': '14838274', '7. dividend amount': '0.0000', '8. split coefficient': '1.0'}, '2021-09-01': {'1. open': '379.59', '2. high': '384.33', '3. low': '378.81', '4. close': '382.05', '5. adjusted close': '382.05', '6. volume': '11567163', '7. dividend amount': '0.0000', '8. split coefficient': '1.0'}, '2021-08-31': {'1. open': '379.95', '2. high': '382.759', '3. low': '378.8', '4. close': '379.38', '5. adjusted close': '379.38', '6. volume': '12345350', '7. dividend amount': '0.0000', '8. split coefficient': '1.0'}, '2021-08-30': {'1. open': '372.56', '2. high': '381.49', '3. low': '370.52', '4. close': '380.66', '5. adjusted close': '380.66', '6. volume': '13547261', '7. dividend amount': '0.0000', '8. split coefficient': '1.0'}, '2021-08-27': {'1. open': '365.1', '2. high': '373.74', '3. low': '364.08', '4. close': '372.63', '5. adjusted close': '372.63', '6. volume': '11219142', '7. dividend amount': '0.0000', '8. split coefficient': '1.0'}, '2021-08-26': {'1. open': '368.375', '2. high': '369.44', '3. low': '364.13', '4. close': '364.38', '5. adjusted close': '364.38', '6. volume': '7888683', '7. dividend amount': '0.0000', '8. split coefficient': '1.0'}, '2021-08-25': {'1. open': '365.6', '2. high': '370.86', '3. low': '365.4', '4. close': '368.39', '5. adjusted close': '368.39', '6. volume': '9684519', '7. dividend amount': '0.0000', '8. split coefficient': '1.0'}, '2021-08-24': {'1. open': '363.66', '2. high': '367.9559', '3. low': '361.84', '4. close': '365.51', '5. adjusted close': '365.51', '6. volume': '9235148', '7. dividend amount': '0.0000', '8. split coefficient': '1.0'}, '2021-08-23': {'1. open': '359.44', '2. high': '365.69', '3. low': '359.1', '4. close': '363.35', '5. adjusted close': '363.35', '6. volume': '10942007', '7. dividend amount': '0.0000', '8. split coefficient': '1.0'}, '2021-08-20': {'1. open': '354.6', '2. high': '359.9898', '3. low': '353.31', '4. close': '359.37', '5. adjusted close': '359.37', '6. volume': '8697667', '7. dividend amount': '0.0000', '8. split coefficient': '1.0'}, '2021-08-19': {'1. open': '351.345', '2. high': '357.57', '3. low': '351.0', '4. close': '355.12', '5. adjusted close': '355.12', '6. volume': '12004535', '7. dividend amount': '0.0000', '8. split coefficient': '1.0'}, '2021-08-18': {'1. open': '356.25', '2. high': '359.86', '3. low': '355.15', '4. close': '355.45', '5. adjusted close': '355.45', '6. volume': '10042381', '7. dividend amount': '0.0000', '8. split coefficient': '1.0'}, '2021-08-17': {'1. open': '362.98', '2. high': '364.67', '3. low': '355.07', '4. close': '358.45', '5. adjusted close': '358.45', '6. volume': '12328737', '7. dividend amount': '0.0000', '8. split coefficient': '1.0'}, '2021-08-16': {'1. open': '362.52', '2. high': '366.95', '3. low': '357.38', '4. close': '366.56', '5. adjusted close': '366.56', '6. volume': '11232269', '7. dividend amount': '0.0000', '8. split coefficient': '1.0'}, '2021-08-13': {'1. open': '362.97', '2. high': '364.6607', '3. low': '361.48', '4. close': '363.18', '5. adjusted close': '363.18', '6. volume': '7184414', '7. dividend amount': '0.0000', '8. split coefficient': '1.0'}, '2021-08-12': {'1. open': '358.45', '2. high': '363.0', '3. low': '357.11', '4. close': '362.65', '5. adjusted close': '362.65', '6. volume': '7175206', '7. dividend amount': '0.0000', '8. split coefficient': '1.0'}, '2021-08-11': {'1. open': '362.1', '2. high': '362.36', '3. low': '357.81', '4. close': '359.96', '5. adjusted close': '359.96', '6. volume': '8400332', '7. dividend amount': '0.0000', '8. split coefficient': '1.0'}, '2021-08-10': {'1. open': '361.825', '2. high': '364.1', '3. low': '359.0435', '4. close': '361.13', '5. adjusted close': '361.13', '6. volume': '7469878', '7. dividend amount': '0.0000', '8. split coefficient': '1.0'}, '2021-08-09': {'1. open': '363.7623', '2. high': '365.775', '3. low': '360.75', '4. close': '361.61', '5. adjusted close': '361.61', '6. volume': '7798872', '7. dividend amount': '0.0000', '8. split coefficient': '1.0'}, '2021-08-06': {'1. open': '361.4', '2. high': '365.15', '3. low': '361.395', '4. close': '363.51', '5. adjusted close': '363.51', '6. volume': '8925017', '7. dividend amount': '0.0000', '8. split coefficient': '1.0'}, '2021-08-05': {'1. open': '359.64', '2. high': '363.9', '3. low': '356.9', '4. close': '362.97', '5. adjusted close': '362.97', '6. volume': '10247207', '7. dividend amount': '0.0000', '8. split coefficient': '1.0'}, '2021-08-04': {'1. open': '352.42', '2. high': '360.48', '3. low': '351.51', '4. close': '358.92', '5. adjusted close': '358.92', '6. volume': '14180572', '7. dividend amount': '0.0000', '8. split coefficient': '1.0'}, '2021-08-03': {'1. open': '352.73', '2. high': '353.7699', '3. low': '347.7', '4. close': '351.24', '5. adjusted close': '351.24', '6. volume': '12406054', '7. dividend amount': '0.0000', '8. split coefficient': '1.0'}, '2021-08-02': {'1. open': '358.1', '2. high': '359.4', '3. low': '350.74', '4. close': '351.95', '5. adjusted close': '351.95', '6. volume': '13180439', '7. dividend amount': '0.0000', '8. split coefficient': '1.0'}, '2021-07-30': {'1. open': '354.0', '2. high': '360.73', '3. low': '352.94', '4. close': '356.3', '5. adjusted close': '356.3', '6. volume': '15976179', '7. dividend amount': '0.0000', '8. split coefficient': '1.0'}, '2021-07-29': {'1. open': '361.0', '2. high': '365.52', '3. low': '356.74', '4. close': '358.32', '5. adjusted close': '358.32', '6. volume': '32210926', '7. dividend amount': '0.0000', '8. split coefficient': '1.0'}, '2021-07-28': {'1. open': '374.56', '2. high': '377.5499', '3. low': '366.93', '4. close': '373.28', '5. adjusted close': '373.28', '6. volume': '29676910', '7. dividend amount': '0.0000', '8. split coefficient': '1.0'}, '2021-07-27': {'1. open': '371.91', '2. high': '373.15', '3. low': '364.55', '4. close': '367.81', '5. adjusted close': '367.81', '6. volume': '15705447', '7. dividend amount': '0.0000', '8. split coefficient': '1.0'}, '2021-07-26': {'1. open': '369.58', '2. high': '374.44', '3. low': '368.22', '4. close': '372.46', '5. adjusted close': '372.46', '6. volume': '14925222', '7. dividend amount': '0.0000', '8. split coefficient': '1.0'}, '2021-07-23': {'1. open': '360.91', '2. high': '375.33', '3. low': '357.19', '4. close': '369.79', '5. adjusted close': '369.79', '6. volume': '33694328', '7. dividend amount': '0.0000', '8. split coefficient': '1.0'}, '2021-07-22': {'1. open': '346.68', '2. high': '351.54', '3. low': '345.21', '4. close': '351.19', '5. adjusted close': '351.19', '6. volume': '12385441', '7. dividend amount': '0.0000', '8. split coefficient': '1.0'}, '2021-07-21': {'1. open': '341.5', '2. high': '346.52', '3. low': '341.25', '4. close': '346.23', '5. adjusted close': '346.23', '6. volume': '9279657', '7. dividend amount': '0.0000', '8. split coefficient': '1.0'}, '2021-07-20': {'1. open': '338.8', '2. high': '343.45', '3. low': '334.5', '4. close': '341.66', '5. adjusted close': '341.66', '6. volume': '11024277', '7. dividend amount': '0.0000', '8. split coefficient': '1.0'}, '2021-07-19': {'1. open': '337.57', '2. high': '339.79', '3. low': '334.54', '4. close': '336.95', '5. adjusted close': '336.95', '6. volume': '14372345', '7. dividend amount': '0.0000', '8. split coefficient': '1.0'}, '2021-07-16': {'1. open': '344.91', '2. high': '345.9899', '3. low': '340.14', '4. close': '341.16', '5. adjusted close': '341.16', '6. volume': '11026093', '7. dividend amount': '0.0000', '8. split coefficient': '1.0'}, '2021-07-15': {'1. open': '349.2348', '2. high': '349.2348', '3. low': '340.22', '4. close': '344.46', '5. adjusted close': '344.46', '6. volume': '14781594', '7. dividend amount': '0.0000', '8. split coefficient': '1.0'}, '2021-07-14': {'1. open': '354.56', '2. high': '355.2', '3. low': '346.73', '4. close': '347.63', '5. adjusted close': '347.63', '6. volume': '13894221', '7. dividend amount': '0.0000', '8. split coefficient': '1.0'}, '2021-07-13': {'1. open': '351.5', '2. high': '358.49', '3. low': '348.8', '4. close': '352.09', '5. adjusted close': '352.09', '6. volume': '11455963', '7. dividend amount': '0.0000', '8. split coefficient': '1.0'}, '2021-07-12': {'1. open': '351.23', '2. high': '354.19', '3. low': '349.64', '4. close': '353.16', '5. adjusted close': '353.16', '6. volume': '10018624', '7. dividend amount': '0.0000', '8. split coefficient': '1.0'}, '2021-07-09': {'1. open': '345.32', '2. high': '350.71', '3. low': '345.265', '4. close': '350.42', '5. adjusted close': '350.42', '6. volume': '13018694', '7. dividend amount': '0.0000', '8. split coefficient': '1.0'}, '2021-07-08': {'1. open': '345.73', '2. high': '348.33', '3. low': '342.56', '4. close': '345.65', '5. adjusted close': '345.65', '6. volume': '14406457', '7. dividend amount': '0.0000', '8. split coefficient': '1.0'}, '2021-07-07': {'1. open': '355.26', '2. high': '356.49', '3. low': '350.0', '4. close': '350.49', '5. adjusted close': '350.49', '6. volume': '14218866', '7. dividend amount': '0.0000', '8. split coefficient': '1.0'}, '2021-07-06': {'1. open': '356.5', '2. high': '358.79', '3. low': '349.18', '4. close': '352.78', '5. adjusted close': '352.78', '6. volume': '13488455', '7. dividend amount': '0.0000', '8. split coefficient': '1.0'}, '2021-07-02': {'1. open': '355.1', '2. high': '356.44', '3. low': '352.62', '4. close': '354.7', '5. adjusted close': '354.7', '6. volume': '11524614', '7. dividend amount': '0.0000', '8. split coefficient': '1.0'}, '2021-07-01': {'1. open': '346.82', '2. high': '354.6699', '3. low': '346.5', '4. close': '354.39', '5. adjusted close': '354.39', '6. volume': '17137021', '7. dividend amount': '0.0000', '8. split coefficient': '1.0'}, '2021-06-30': {'1. open': '352.165', '2. high': '352.92', '3. low': '347.17', '4. close': '347.71', '5. adjusted close': '347.71', '6. volume': '15107514', '7. dividend amount': '0.0000', '8. split coefficient': '1.0'}, '2021-06-29': {'1. open': '356.27', '2. high': '356.74', '3. low': '349.05', '4. close': '351.89', '5. adjusted close': '351.89', '6. volume': '21417305', '7. dividend amount': '0.0000', '8. split coefficient': '1.0'}, '2021-06-28': {'1. open': '342.46', '2. high': '358.14', '3. low': '341.77', '4. close': '355.64', '5. adjusted close': '355.64', '6. volume': '29156132', '7. dividend amount': '0.0000', '8. split coefficient': '1.0'}, '2021-06-25': {'1. open': '342.59', '2. high': '344.12', '3. low': '339.68', '4. close': '341.37', '5. adjusted close': '341.37', '6. volume': '14594444', '7. dividend amount': '0.0000', '8. split coefficient': '1.0'}, '2021-06-24': {'1. open': '341.85', '2. high': '344.9', '3. low': '341.79', '4. close': '343.18', '5. adjusted close': '343.18', '6. volume': '12329096', '7. dividend amount': '0.0000', '8. split coefficient': '1.0'}, '2021-06-23': {'1. open': '339.35', '2. high': '343.4199', '3. low': '338.2', '4. close': '340.59', '5. adjusted close': '340.59', '6. volume': '14817824', '7. dividend amount': '0.0000', '8. split coefficient': '1.0'}, '2021-06-22': {'1. open': '332.685', '2. high': '339.92', '3. low': '332.6', '4. close': '339.03', '5. adjusted close': '339.03', '6. volume': '15345299', '7. dividend amount': '0.0000', '8. split coefficient': '1.0'}, '2021-06-21': {'1. open': '331.09', '2. high': '332.92', '3. low': '327.65', '4. close': '332.29', '5. adjusted close': '332.29', '6. volume': '11337522', '7. dividend amount': '0.0000', '8. split coefficient': '1.0'}, '2021-06-18': {'1. open': '334.53', '2. high': '336.15', '3. low': '329.0', '4. close': '329.66', '5. adjusted close': '329.66', '6. volume': '23039457', '7. dividend amount': '0.0000', '8. split coefficient': '1.0'}, '2021-06-17': {'1. open': '330.49', '2. high': '337.98', '3. low': '330.15', '4. close': '336.51', '5. adjusted close': '336.51', '6. volume': '17794080', '7. dividend amount': '0.0000', '8. split coefficient': '1.0'}, '2021-06-16': {'1. open': '336.695', '2. high': '337.55', '3. low': '328.72', '4. close': '331.08', '5. adjusted close': '331.08', '6. volume': '17031281', '7. dividend amount': '0.0000', '8. split coefficient': '1.0'}, '2021-06-15': {'1. open': '336.99', '2. high': '339.92', '3. low': '335.03', '4. close': '336.75', '5. adjusted close': '336.75', '6. volume': '15795226', '7. dividend amount': '0.0000', '8. split coefficient': '1.0'}, '2021-06-14': {'1. open': '331.9', '2. high': '336.82', '3. low': '329.81', '4. close': '336.77', '5. adjusted close': '336.77', '6. volume': '12250799', '7. dividend amount': '0.0000', '8. split coefficient': '1.0'}, '2021-06-11': {'1. open': '332.58', '2. high': '332.83', '3. low': '328.93', '4. close': '331.26', '5. adjusted close': '331.26', '6. volume': '13587916', '7. dividend amount': '0.0000', '8. split coefficient': '1.0'}, '2021-06-10': {'1. open': '330.785', '2. high': '333.94', '3. low': '328.545', '4. close': '332.46', '5. adjusted close': '332.46', '6. volume': '13240229', '7. dividend amount': '0.0000', '8. split coefficient': '1.0'}, '2021-06-09': {'1. open': '335.74', '2. high': '336.8', '3. low': '330.0', '4. close': '330.25', '5. adjusted close': '330.25', '6. volume': '13727946', '7. dividend amount': '0.0000', '8. split coefficient': '1.0'}, '2021-06-08': {'1. open': '336.7', '2. high': '338.2999', '3. low': '332.24', '4. close': '333.68', '5. adjusted close': '333.68', '6. volume': '14580464', '7. dividend amount': '0.0000', '8. split coefficient': '1.0'}, '2021-06-07': {'1. open': '329.48', '2. high': '337.69', '3. low': '328.93', '4. close': '336.58', '5. adjusted close': '336.58', '6. volume': '20136707', '7. dividend amount': '0.0000', '8. split coefficient': '1.0'}, '2021-06-04': {'1. open': '325.9', '2. high': '332.455', '3. low': '325.18', '4. close': '330.35', '5. adjusted close': '330.35', '6. volume': '13289383', '7. dividend amount': '0.0000', '8. split coefficient': '1.0'}, '2021-06-03': {'1. open': '325.78', '2. high': '327.375', '3. low': '323.48', '4. close': '326.04', '5. adjusted close': '326.04', '6. volume': '12610788', '7. dividend amount': '0.0000', '8. split coefficient': '1.0'}, '2021-06-02': {'1. open': '330.38', '2. high': '331.87', '3. low': '327.1215', '4. close': '329.15', '5. adjusted close': '329.15', '6. volume': '11654275', '7. dividend amount': '0.0000', '8. split coefficient': '1.0'}, '2021-06-01': {'1. open': '330.15', '2. high': '331.42', '3. low': '326.64', '4. close': '329.13', '5. adjusted close': '329.13', '6. volume': '11765906', '7. dividend amount': '0.0000', '8. split coefficient': '1.0'}, '2021-05-28': {'1. open': '331.0', '2. high': '332.8684', '3. low': '328.33', '4. close': '328.73', '5. adjusted close': '328.73', '6. volume': '12037430', '7. dividend amount': '0.0000', '8. split coefficient': '1.0'}, '2021-05-27': {'1. open': '328.0', '2. high': '333.78', '3. low': '326.76', '4. close': '332.75', '5. adjusted close': '332.75', '6. volume': '20477726', '7. dividend amount': '0.0000', '8. split coefficient': '1.0'}, '2021-05-26': {'1. open': '328.35', '2. high': '329.8299', '3. low': '325.82', '4. close': '327.66', '5. adjusted close': '327.66', '6. volume': '9686917', '7. dividend amount': '0.0000', '8. split coefficient': '1.0'}, '2021-05-25': {'1. open': '327.08', '2. high': '329.18', '3. low': '324.8', '4. close': '327.79', '5. adjusted close': '327.79', '6. volume': '16436965', '7. dividend amount': '0.0000', '8. split coefficient': '1.0'}, '2021-05-24': {'1. open': '318.21', '2. high': '325.95', '3. low': '318.03', '4. close': '324.63', '5. adjusted close': '324.63', '6. volume': '16445356', '7. dividend amount': '0.0000', '8. split coefficient': '1.0'}, '2021-05-21': {'1. open': '319.29', '2. high': '319.93', '3. low': '315.8101', '4. close': '316.23', '5. adjusted close': '316.23', '6. volume': '13600901', '7. dividend amount': '0.0000', '8. split coefficient': '1.0'}, '2021-05-20': {'1. open': '313.58', '2. high': '319.25', '3. low': '313.16', '4. close': '318.61', '5. adjusted close': '318.61', '6. volume': '17320241', '7. dividend amount': '0.0000', '8. split coefficient': '1.0'}, '2021-05-19': {'1. open': '304.185', '2. high': '314.66', '3. low': '303.57', '4. close': '313.59', '5. adjusted close': '313.59', '6. volume': '19106244', '7. dividend amount': '0.0000', '8. split coefficient': '1.0'}, '2021-05-18': {'1. open': '315.59', '2. high': '316.5', '3. low': '309.81', '4. close': '309.96', '5. adjusted close': '309.96', '6. volume': '14522403', '7. dividend amount': '0.0000', '8. split coefficient': '1.0'}, '2021-05-17': {'1. open': '313.55', '2. high': '315.68', '3. low': '311.58', '4. close': '315.46', '5. adjusted close': '315.46', '6. volume': '15401343', '7. dividend amount': '0.0000', '8. split coefficient': '1.0'}, '2021-05-14': {'1. open': '309.54', '2. high': '316.85', '3. low': '309.08', '4. close': '315.94', '5. adjusted close': '315.94', '6. volume': '19245724', '7. dividend amount': '0.0000', '8. split coefficient': '1.0'}, '2021-05-13': {'1. open': '306.0833', '2. high': '308.86', '3. low': '302.7701', '4. close': '305.26', '5. adjusted close': '305.26', '6. volume': '18079160', '7. dividend amount': '0.0000', '8. split coefficient': '1.0'}, '2021-05-12': {'1. open': '301.13', '2. high': '304.96', '3. low': '298.19', '4. close': '302.55', '5. adjusted close': '302.55', '6. volume': '24641010', '7. dividend amount': '0.0000', '8. split coefficient': '1.0'}, '2021-05-11': {'1. open': '300.75', '2. high': '306.84', '3. low': '299.69', '4. close': '306.53', '5. adjusted close': '306.53', '6. volume': '18920086', '7. dividend amount': '0.0000', '8. split coefficient': '1.0'}, '2021-05-10': {'1. open': '314.35', '2. high': '314.5786', '3. low': '304.83', '4. close': '305.97', '5. adjusted close': '305.97', '6. volume': '24239170', '7. dividend amount': '0.0000', '8. split coefficient': '1.0'}, '2021-05-07': {'1. open': '322.38', '2. high': '322.935', '3. low': '318.75', '4. close': '319.08', '5. adjusted close': '319.08', '6. volume': '15916743', '7. dividend amount': '0.0000', '8. split coefficient': '1.0'}, '2021-05-06': {'1. open': '314.52', '2. high': '320.24', '3. low': '313.275', '4. close': '320.02', '5. adjusted close': '320.02', '6. volume': '19012241', '7. dividend amount': '0.0000', '8. split coefficient': '1.0'}, '2021-05-05': {'1. open': '318.19', '2. high': '321.06', '3. low': '314.49', '4. close': '315.02', '5. adjusted close': '315.02', '6. volume': '15577605', '7. dividend amount': '0.0000', '8. split coefficient': '1.0'}, '2021-05-04': {'1. open': '320.025', '2. high': '322.19', '3. low': '313.12', '4. close': '318.36', '5. adjusted close': '318.36', '6. volume': '24032557', '7. dividend amount': '0.0000', '8. split coefficient': '1.0'}, '2021-05-03': {'1. open': '326.17', '2. high': '328.55', '3. low': '321.84', '4. close': '322.58', '5. adjusted close': '322.58', '6. volume': '18719462', '7. dividend amount': '0.0000', '8. split coefficient': '1.0'}, '2021-04-30': {'1. open': '326.1435', '2. high': '329.82', '3. low': '324.5', '4. close': '325.08', '5. adjusted close': '325.08', '6. volume': '26332423', '7. dividend amount': '0.0000', '8. split coefficient': '1.0'}}}\n"
     ]
    }
   ],
   "source": [
    "print(response_data)"
   ]
  },
  {
   "cell_type": "code",
   "execution_count": 15,
   "metadata": {},
   "outputs": [],
   "source": [
    "ticker_df = pd.DataFrame.from_dict(response_data['Time Series (Daily)'],orient='index',dtype='float')"
   ]
  },
  {
   "cell_type": "code",
   "execution_count": 16,
   "metadata": {},
   "outputs": [
    {
     "data": {
      "text/html": [
       "<div>\n",
       "<style scoped>\n",
       "    .dataframe tbody tr th:only-of-type {\n",
       "        vertical-align: middle;\n",
       "    }\n",
       "\n",
       "    .dataframe tbody tr th {\n",
       "        vertical-align: top;\n",
       "    }\n",
       "\n",
       "    .dataframe thead th {\n",
       "        text-align: right;\n",
       "    }\n",
       "</style>\n",
       "<table border=\"1\" class=\"dataframe\">\n",
       "  <thead>\n",
       "    <tr style=\"text-align: right;\">\n",
       "      <th></th>\n",
       "      <th>1. open</th>\n",
       "      <th>2. high</th>\n",
       "      <th>3. low</th>\n",
       "      <th>4. close</th>\n",
       "      <th>5. adjusted close</th>\n",
       "      <th>6. volume</th>\n",
       "      <th>7. dividend amount</th>\n",
       "      <th>8. split coefficient</th>\n",
       "    </tr>\n",
       "  </thead>\n",
       "  <tbody>\n",
       "    <tr>\n",
       "      <th>2021-09-21</th>\n",
       "      <td>358.500</td>\n",
       "      <td>360.040</td>\n",
       "      <td>355.29</td>\n",
       "      <td>357.48</td>\n",
       "      <td>357.48</td>\n",
       "      <td>11662545.0</td>\n",
       "      <td>0.0</td>\n",
       "      <td>1.0</td>\n",
       "    </tr>\n",
       "    <tr>\n",
       "      <th>2021-09-20</th>\n",
       "      <td>359.300</td>\n",
       "      <td>361.030</td>\n",
       "      <td>349.80</td>\n",
       "      <td>355.70</td>\n",
       "      <td>355.70</td>\n",
       "      <td>19822772.0</td>\n",
       "      <td>0.0</td>\n",
       "      <td>1.0</td>\n",
       "    </tr>\n",
       "    <tr>\n",
       "      <th>2021-09-17</th>\n",
       "      <td>371.405</td>\n",
       "      <td>371.410</td>\n",
       "      <td>361.59</td>\n",
       "      <td>364.72</td>\n",
       "      <td>364.72</td>\n",
       "      <td>26298966.0</td>\n",
       "      <td>0.0</td>\n",
       "      <td>1.0</td>\n",
       "    </tr>\n",
       "    <tr>\n",
       "      <th>2021-09-16</th>\n",
       "      <td>372.790</td>\n",
       "      <td>373.560</td>\n",
       "      <td>369.71</td>\n",
       "      <td>373.06</td>\n",
       "      <td>373.06</td>\n",
       "      <td>11934217.0</td>\n",
       "      <td>0.0</td>\n",
       "      <td>1.0</td>\n",
       "    </tr>\n",
       "    <tr>\n",
       "      <th>2021-09-15</th>\n",
       "      <td>377.000</td>\n",
       "      <td>377.555</td>\n",
       "      <td>367.67</td>\n",
       "      <td>373.92</td>\n",
       "      <td>373.92</td>\n",
       "      <td>17940297.0</td>\n",
       "      <td>0.0</td>\n",
       "      <td>1.0</td>\n",
       "    </tr>\n",
       "  </tbody>\n",
       "</table>\n",
       "</div>"
      ],
      "text/plain": [
       "            1. open  2. high  3. low  4. close  5. adjusted close   6. volume  \\\n",
       "2021-09-21  358.500  360.040  355.29    357.48             357.48  11662545.0   \n",
       "2021-09-20  359.300  361.030  349.80    355.70             355.70  19822772.0   \n",
       "2021-09-17  371.405  371.410  361.59    364.72             364.72  26298966.0   \n",
       "2021-09-16  372.790  373.560  369.71    373.06             373.06  11934217.0   \n",
       "2021-09-15  377.000  377.555  367.67    373.92             373.92  17940297.0   \n",
       "\n",
       "            7. dividend amount  8. split coefficient  \n",
       "2021-09-21                 0.0                   1.0  \n",
       "2021-09-20                 0.0                   1.0  \n",
       "2021-09-17                 0.0                   1.0  \n",
       "2021-09-16                 0.0                   1.0  \n",
       "2021-09-15                 0.0                   1.0  "
      ]
     },
     "execution_count": 16,
     "metadata": {},
     "output_type": "execute_result"
    }
   ],
   "source": [
    "ticker_df.head()"
   ]
  },
  {
   "cell_type": "code",
   "execution_count": 17,
   "metadata": {},
   "outputs": [
    {
     "data": {
      "text/plain": [
       "Index(['1. open', '2. high', '3. low', '4. close', '5. adjusted close',\n",
       "       '6. volume', '7. dividend amount', '8. split coefficient'],\n",
       "      dtype='object')"
      ]
     },
     "execution_count": 17,
     "metadata": {},
     "output_type": "execute_result"
    }
   ],
   "source": [
    "ticker_df.columns"
   ]
  },
  {
   "cell_type": "code",
   "execution_count": 18,
   "metadata": {},
   "outputs": [
    {
     "data": {
      "text/plain": [
       "Index(['2021-09-21', '2021-09-20', '2021-09-17', '2021-09-16', '2021-09-15',\n",
       "       '2021-09-14', '2021-09-13', '2021-09-10', '2021-09-09', '2021-09-08',\n",
       "       '2021-09-07', '2021-09-03', '2021-09-02', '2021-09-01', '2021-08-31',\n",
       "       '2021-08-30', '2021-08-27', '2021-08-26', '2021-08-25', '2021-08-24',\n",
       "       '2021-08-23', '2021-08-20', '2021-08-19', '2021-08-18', '2021-08-17',\n",
       "       '2021-08-16', '2021-08-13', '2021-08-12', '2021-08-11', '2021-08-10',\n",
       "       '2021-08-09', '2021-08-06', '2021-08-05', '2021-08-04', '2021-08-03',\n",
       "       '2021-08-02', '2021-07-30', '2021-07-29', '2021-07-28', '2021-07-27',\n",
       "       '2021-07-26', '2021-07-23', '2021-07-22', '2021-07-21', '2021-07-20',\n",
       "       '2021-07-19', '2021-07-16', '2021-07-15', '2021-07-14', '2021-07-13',\n",
       "       '2021-07-12', '2021-07-09', '2021-07-08', '2021-07-07', '2021-07-06',\n",
       "       '2021-07-02', '2021-07-01', '2021-06-30', '2021-06-29', '2021-06-28',\n",
       "       '2021-06-25', '2021-06-24', '2021-06-23', '2021-06-22', '2021-06-21',\n",
       "       '2021-06-18', '2021-06-17', '2021-06-16', '2021-06-15', '2021-06-14',\n",
       "       '2021-06-11', '2021-06-10', '2021-06-09', '2021-06-08', '2021-06-07',\n",
       "       '2021-06-04', '2021-06-03', '2021-06-02', '2021-06-01', '2021-05-28',\n",
       "       '2021-05-27', '2021-05-26', '2021-05-25', '2021-05-24', '2021-05-21',\n",
       "       '2021-05-20', '2021-05-19', '2021-05-18', '2021-05-17', '2021-05-14',\n",
       "       '2021-05-13', '2021-05-12', '2021-05-11', '2021-05-10', '2021-05-07',\n",
       "       '2021-05-06', '2021-05-05', '2021-05-04', '2021-05-03', '2021-04-30'],\n",
       "      dtype='object')"
      ]
     },
     "execution_count": 18,
     "metadata": {},
     "output_type": "execute_result"
    }
   ],
   "source": [
    "ticker_df.index"
   ]
  },
  {
   "cell_type": "code",
   "execution_count": 19,
   "metadata": {},
   "outputs": [],
   "source": [
    "#switch to increasing chronological order and to datetime format\n",
    "ticker_df = ticker_df.iloc[::-1]"
   ]
  },
  {
   "cell_type": "code",
   "execution_count": 20,
   "metadata": {},
   "outputs": [],
   "source": [
    "ticker_df.index = pd.to_datetime(ticker_df.index)"
   ]
  },
  {
   "cell_type": "code",
   "execution_count": 21,
   "metadata": {},
   "outputs": [],
   "source": [
    "#try a different ticker\n",
    "ticker_new = 'AAPL'\n",
    "url = 'https://www.alphavantage.co/query?function=TIME_SERIES_DAILY_ADJUSTED&symbol={}&apikey={}'.format(ticker_new, key)\n",
    "response_new = requests.get(url)\n",
    "response_data_new = response_new.json() "
   ]
  },
  {
   "cell_type": "code",
   "execution_count": 22,
   "metadata": {},
   "outputs": [
    {
     "data": {
      "text/plain": [
       "2"
      ]
     },
     "execution_count": 22,
     "metadata": {},
     "output_type": "execute_result"
    }
   ],
   "source": [
    "len(response_data_new)"
   ]
  },
  {
   "cell_type": "code",
   "execution_count": 23,
   "metadata": {},
   "outputs": [
    {
     "data": {
      "text/plain": [
       "5"
      ]
     },
     "execution_count": 23,
     "metadata": {},
     "output_type": "execute_result"
    }
   ],
   "source": [
    "len(response_data_new['Meta Data'])"
   ]
  },
  {
   "cell_type": "code",
   "execution_count": 24,
   "metadata": {},
   "outputs": [
    {
     "data": {
      "text/plain": [
       "100"
      ]
     },
     "execution_count": 24,
     "metadata": {},
     "output_type": "execute_result"
    }
   ],
   "source": [
    "len(response_data_new['Time Series (Daily)'])"
   ]
  },
  {
   "cell_type": "code",
   "execution_count": 25,
   "metadata": {},
   "outputs": [
    {
     "data": {
      "text/plain": [
       "{'1. Information': 'Daily Time Series with Splits and Dividend Events',\n",
       " '2. Symbol': 'AAPL',\n",
       " '3. Last Refreshed': '2021-09-21 16:00:01',\n",
       " '4. Output Size': 'Compact',\n",
       " '5. Time Zone': 'US/Eastern'}"
      ]
     },
     "execution_count": 25,
     "metadata": {},
     "output_type": "execute_result"
    }
   ],
   "source": [
    "response_data_new['Meta Data']"
   ]
  },
  {
   "cell_type": "code",
   "execution_count": 26,
   "metadata": {},
   "outputs": [
    {
     "data": {
      "text/plain": [
       "{'1. open': '150.35',\n",
       " '2. high': '151.07',\n",
       " '3. low': '146.91',\n",
       " '4. close': '148.12',\n",
       " '5. adjusted close': '148.12',\n",
       " '6. volume': '109296295',\n",
       " '7. dividend amount': '0.0000',\n",
       " '8. split coefficient': '1.0'}"
      ]
     },
     "execution_count": 26,
     "metadata": {},
     "output_type": "execute_result"
    }
   ],
   "source": [
    "response_data_new['Time Series (Daily)']['2021-09-14']"
   ]
  },
  {
   "cell_type": "code",
   "execution_count": 27,
   "metadata": {},
   "outputs": [],
   "source": [
    "ticker_df_new = pd.DataFrame.from_dict(response_data_new['Time Series (Daily)'],orient='index',dtype='float')"
   ]
  },
  {
   "cell_type": "code",
   "execution_count": 28,
   "metadata": {},
   "outputs": [
    {
     "data": {
      "text/html": [
       "<div>\n",
       "<style scoped>\n",
       "    .dataframe tbody tr th:only-of-type {\n",
       "        vertical-align: middle;\n",
       "    }\n",
       "\n",
       "    .dataframe tbody tr th {\n",
       "        vertical-align: top;\n",
       "    }\n",
       "\n",
       "    .dataframe thead th {\n",
       "        text-align: right;\n",
       "    }\n",
       "</style>\n",
       "<table border=\"1\" class=\"dataframe\">\n",
       "  <thead>\n",
       "    <tr style=\"text-align: right;\">\n",
       "      <th></th>\n",
       "      <th>1. open</th>\n",
       "      <th>2. high</th>\n",
       "      <th>3. low</th>\n",
       "      <th>4. close</th>\n",
       "      <th>5. adjusted close</th>\n",
       "      <th>6. volume</th>\n",
       "      <th>7. dividend amount</th>\n",
       "      <th>8. split coefficient</th>\n",
       "    </tr>\n",
       "  </thead>\n",
       "  <tbody>\n",
       "    <tr>\n",
       "      <th>2021-09-21</th>\n",
       "      <td>143.93</td>\n",
       "      <td>144.60</td>\n",
       "      <td>142.780</td>\n",
       "      <td>143.43</td>\n",
       "      <td>143.43</td>\n",
       "      <td>75217936.0</td>\n",
       "      <td>0.0</td>\n",
       "      <td>1.0</td>\n",
       "    </tr>\n",
       "    <tr>\n",
       "      <th>2021-09-20</th>\n",
       "      <td>143.80</td>\n",
       "      <td>144.84</td>\n",
       "      <td>141.270</td>\n",
       "      <td>142.94</td>\n",
       "      <td>142.94</td>\n",
       "      <td>123478863.0</td>\n",
       "      <td>0.0</td>\n",
       "      <td>1.0</td>\n",
       "    </tr>\n",
       "    <tr>\n",
       "      <th>2021-09-17</th>\n",
       "      <td>148.82</td>\n",
       "      <td>148.82</td>\n",
       "      <td>145.760</td>\n",
       "      <td>146.06</td>\n",
       "      <td>146.06</td>\n",
       "      <td>129868824.0</td>\n",
       "      <td>0.0</td>\n",
       "      <td>1.0</td>\n",
       "    </tr>\n",
       "    <tr>\n",
       "      <th>2021-09-16</th>\n",
       "      <td>148.44</td>\n",
       "      <td>148.97</td>\n",
       "      <td>147.221</td>\n",
       "      <td>148.79</td>\n",
       "      <td>148.79</td>\n",
       "      <td>68034149.0</td>\n",
       "      <td>0.0</td>\n",
       "      <td>1.0</td>\n",
       "    </tr>\n",
       "    <tr>\n",
       "      <th>2021-09-15</th>\n",
       "      <td>148.56</td>\n",
       "      <td>149.44</td>\n",
       "      <td>146.370</td>\n",
       "      <td>149.03</td>\n",
       "      <td>149.03</td>\n",
       "      <td>83281315.0</td>\n",
       "      <td>0.0</td>\n",
       "      <td>1.0</td>\n",
       "    </tr>\n",
       "  </tbody>\n",
       "</table>\n",
       "</div>"
      ],
      "text/plain": [
       "            1. open  2. high   3. low  4. close  5. adjusted close  \\\n",
       "2021-09-21   143.93   144.60  142.780    143.43             143.43   \n",
       "2021-09-20   143.80   144.84  141.270    142.94             142.94   \n",
       "2021-09-17   148.82   148.82  145.760    146.06             146.06   \n",
       "2021-09-16   148.44   148.97  147.221    148.79             148.79   \n",
       "2021-09-15   148.56   149.44  146.370    149.03             149.03   \n",
       "\n",
       "              6. volume  7. dividend amount  8. split coefficient  \n",
       "2021-09-21   75217936.0                 0.0                   1.0  \n",
       "2021-09-20  123478863.0                 0.0                   1.0  \n",
       "2021-09-17  129868824.0                 0.0                   1.0  \n",
       "2021-09-16   68034149.0                 0.0                   1.0  \n",
       "2021-09-15   83281315.0                 0.0                   1.0  "
      ]
     },
     "execution_count": 28,
     "metadata": {},
     "output_type": "execute_result"
    }
   ],
   "source": [
    "ticker_df_new.head()"
   ]
  },
  {
   "cell_type": "code",
   "execution_count": 29,
   "metadata": {},
   "outputs": [
    {
     "data": {
      "text/plain": [
       "Index(['2021-09-21', '2021-09-20', '2021-09-17', '2021-09-16', '2021-09-15',\n",
       "       '2021-09-14', '2021-09-13', '2021-09-10', '2021-09-09', '2021-09-08',\n",
       "       '2021-09-07', '2021-09-03', '2021-09-02', '2021-09-01', '2021-08-31',\n",
       "       '2021-08-30', '2021-08-27', '2021-08-26', '2021-08-25', '2021-08-24',\n",
       "       '2021-08-23', '2021-08-20', '2021-08-19', '2021-08-18', '2021-08-17',\n",
       "       '2021-08-16', '2021-08-13', '2021-08-12', '2021-08-11', '2021-08-10',\n",
       "       '2021-08-09', '2021-08-06', '2021-08-05', '2021-08-04', '2021-08-03',\n",
       "       '2021-08-02', '2021-07-30', '2021-07-29', '2021-07-28', '2021-07-27',\n",
       "       '2021-07-26', '2021-07-23', '2021-07-22', '2021-07-21', '2021-07-20',\n",
       "       '2021-07-19', '2021-07-16', '2021-07-15', '2021-07-14', '2021-07-13',\n",
       "       '2021-07-12', '2021-07-09', '2021-07-08', '2021-07-07', '2021-07-06',\n",
       "       '2021-07-02', '2021-07-01', '2021-06-30', '2021-06-29', '2021-06-28',\n",
       "       '2021-06-25', '2021-06-24', '2021-06-23', '2021-06-22', '2021-06-21',\n",
       "       '2021-06-18', '2021-06-17', '2021-06-16', '2021-06-15', '2021-06-14',\n",
       "       '2021-06-11', '2021-06-10', '2021-06-09', '2021-06-08', '2021-06-07',\n",
       "       '2021-06-04', '2021-06-03', '2021-06-02', '2021-06-01', '2021-05-28',\n",
       "       '2021-05-27', '2021-05-26', '2021-05-25', '2021-05-24', '2021-05-21',\n",
       "       '2021-05-20', '2021-05-19', '2021-05-18', '2021-05-17', '2021-05-14',\n",
       "       '2021-05-13', '2021-05-12', '2021-05-11', '2021-05-10', '2021-05-07',\n",
       "       '2021-05-06', '2021-05-05', '2021-05-04', '2021-05-03', '2021-04-30'],\n",
       "      dtype='object')"
      ]
     },
     "execution_count": 29,
     "metadata": {},
     "output_type": "execute_result"
    }
   ],
   "source": [
    "ticker_df_new.index"
   ]
  },
  {
   "cell_type": "code",
   "execution_count": 30,
   "metadata": {},
   "outputs": [],
   "source": [
    "#switch to increasing chronological order and to datetime format\n",
    "ticker_df_new = ticker_df_new.iloc[::-1]"
   ]
  },
  {
   "cell_type": "code",
   "execution_count": 31,
   "metadata": {},
   "outputs": [],
   "source": [
    "ticker_df_new.index = pd.to_datetime(ticker_df_new.index)"
   ]
  },
  {
   "cell_type": "code",
   "execution_count": 32,
   "metadata": {},
   "outputs": [],
   "source": [
    "##Optional: specify the timezone\n",
    "#ticker_df_new.index.tz_localize(\"US/Eastern\")"
   ]
  },
  {
   "cell_type": "code",
   "execution_count": 33,
   "metadata": {},
   "outputs": [],
   "source": [
    "#Try to concatenate the two dataframes:"
   ]
  },
  {
   "cell_type": "code",
   "execution_count": 34,
   "metadata": {},
   "outputs": [
    {
     "data": {
      "text/html": [
       "<div>\n",
       "<style scoped>\n",
       "    .dataframe tbody tr th:only-of-type {\n",
       "        vertical-align: middle;\n",
       "    }\n",
       "\n",
       "    .dataframe tbody tr th {\n",
       "        vertical-align: top;\n",
       "    }\n",
       "\n",
       "    .dataframe thead th {\n",
       "        text-align: right;\n",
       "    }\n",
       "</style>\n",
       "<table border=\"1\" class=\"dataframe\">\n",
       "  <thead>\n",
       "    <tr style=\"text-align: right;\">\n",
       "      <th></th>\n",
       "      <th>1. open</th>\n",
       "      <th>2. high</th>\n",
       "      <th>3. low</th>\n",
       "      <th>4. close</th>\n",
       "      <th>5. adjusted close</th>\n",
       "      <th>6. volume</th>\n",
       "      <th>7. dividend amount</th>\n",
       "      <th>8. split coefficient</th>\n",
       "    </tr>\n",
       "  </thead>\n",
       "  <tbody>\n",
       "    <tr>\n",
       "      <th>2021-04-30</th>\n",
       "      <td>131.78</td>\n",
       "      <td>133.5600</td>\n",
       "      <td>131.065</td>\n",
       "      <td>131.46</td>\n",
       "      <td>131.040993</td>\n",
       "      <td>109839466.0</td>\n",
       "      <td>0.0</td>\n",
       "      <td>1.0</td>\n",
       "    </tr>\n",
       "    <tr>\n",
       "      <th>2021-05-03</th>\n",
       "      <td>132.04</td>\n",
       "      <td>134.0700</td>\n",
       "      <td>131.830</td>\n",
       "      <td>132.54</td>\n",
       "      <td>132.117550</td>\n",
       "      <td>75135100.0</td>\n",
       "      <td>0.0</td>\n",
       "      <td>1.0</td>\n",
       "    </tr>\n",
       "    <tr>\n",
       "      <th>2021-05-04</th>\n",
       "      <td>131.19</td>\n",
       "      <td>131.4899</td>\n",
       "      <td>126.700</td>\n",
       "      <td>127.85</td>\n",
       "      <td>127.442499</td>\n",
       "      <td>137564718.0</td>\n",
       "      <td>0.0</td>\n",
       "      <td>1.0</td>\n",
       "    </tr>\n",
       "    <tr>\n",
       "      <th>2021-05-05</th>\n",
       "      <td>129.20</td>\n",
       "      <td>130.4500</td>\n",
       "      <td>127.970</td>\n",
       "      <td>128.10</td>\n",
       "      <td>127.691702</td>\n",
       "      <td>84000900.0</td>\n",
       "      <td>0.0</td>\n",
       "      <td>1.0</td>\n",
       "    </tr>\n",
       "    <tr>\n",
       "      <th>2021-05-06</th>\n",
       "      <td>127.89</td>\n",
       "      <td>129.7500</td>\n",
       "      <td>127.130</td>\n",
       "      <td>129.74</td>\n",
       "      <td>129.326475</td>\n",
       "      <td>78128334.0</td>\n",
       "      <td>0.0</td>\n",
       "      <td>1.0</td>\n",
       "    </tr>\n",
       "  </tbody>\n",
       "</table>\n",
       "</div>"
      ],
      "text/plain": [
       "            1. open   2. high   3. low  4. close  5. adjusted close  \\\n",
       "2021-04-30   131.78  133.5600  131.065    131.46         131.040993   \n",
       "2021-05-03   132.04  134.0700  131.830    132.54         132.117550   \n",
       "2021-05-04   131.19  131.4899  126.700    127.85         127.442499   \n",
       "2021-05-05   129.20  130.4500  127.970    128.10         127.691702   \n",
       "2021-05-06   127.89  129.7500  127.130    129.74         129.326475   \n",
       "\n",
       "              6. volume  7. dividend amount  8. split coefficient  \n",
       "2021-04-30  109839466.0                 0.0                   1.0  \n",
       "2021-05-03   75135100.0                 0.0                   1.0  \n",
       "2021-05-04  137564718.0                 0.0                   1.0  \n",
       "2021-05-05   84000900.0                 0.0                   1.0  \n",
       "2021-05-06   78128334.0                 0.0                   1.0  "
      ]
     },
     "execution_count": 34,
     "metadata": {},
     "output_type": "execute_result"
    }
   ],
   "source": [
    "ticker_df_new.head()"
   ]
  },
  {
   "cell_type": "code",
   "execution_count": 35,
   "metadata": {},
   "outputs": [
    {
     "data": {
      "text/html": [
       "<div>\n",
       "<style scoped>\n",
       "    .dataframe tbody tr th:only-of-type {\n",
       "        vertical-align: middle;\n",
       "    }\n",
       "\n",
       "    .dataframe tbody tr th {\n",
       "        vertical-align: top;\n",
       "    }\n",
       "\n",
       "    .dataframe thead th {\n",
       "        text-align: right;\n",
       "    }\n",
       "</style>\n",
       "<table border=\"1\" class=\"dataframe\">\n",
       "  <thead>\n",
       "    <tr style=\"text-align: right;\">\n",
       "      <th></th>\n",
       "      <th>1. open</th>\n",
       "      <th>2. high</th>\n",
       "      <th>3. low</th>\n",
       "      <th>4. close</th>\n",
       "      <th>5. adjusted close</th>\n",
       "      <th>6. volume</th>\n",
       "      <th>7. dividend amount</th>\n",
       "      <th>8. split coefficient</th>\n",
       "    </tr>\n",
       "  </thead>\n",
       "  <tbody>\n",
       "    <tr>\n",
       "      <th>2021-04-30</th>\n",
       "      <td>326.1435</td>\n",
       "      <td>329.82</td>\n",
       "      <td>324.500</td>\n",
       "      <td>325.08</td>\n",
       "      <td>325.08</td>\n",
       "      <td>26332423.0</td>\n",
       "      <td>0.0</td>\n",
       "      <td>1.0</td>\n",
       "    </tr>\n",
       "    <tr>\n",
       "      <th>2021-05-03</th>\n",
       "      <td>326.1700</td>\n",
       "      <td>328.55</td>\n",
       "      <td>321.840</td>\n",
       "      <td>322.58</td>\n",
       "      <td>322.58</td>\n",
       "      <td>18719462.0</td>\n",
       "      <td>0.0</td>\n",
       "      <td>1.0</td>\n",
       "    </tr>\n",
       "    <tr>\n",
       "      <th>2021-05-04</th>\n",
       "      <td>320.0250</td>\n",
       "      <td>322.19</td>\n",
       "      <td>313.120</td>\n",
       "      <td>318.36</td>\n",
       "      <td>318.36</td>\n",
       "      <td>24032557.0</td>\n",
       "      <td>0.0</td>\n",
       "      <td>1.0</td>\n",
       "    </tr>\n",
       "    <tr>\n",
       "      <th>2021-05-05</th>\n",
       "      <td>318.1900</td>\n",
       "      <td>321.06</td>\n",
       "      <td>314.490</td>\n",
       "      <td>315.02</td>\n",
       "      <td>315.02</td>\n",
       "      <td>15577605.0</td>\n",
       "      <td>0.0</td>\n",
       "      <td>1.0</td>\n",
       "    </tr>\n",
       "    <tr>\n",
       "      <th>2021-05-06</th>\n",
       "      <td>314.5200</td>\n",
       "      <td>320.24</td>\n",
       "      <td>313.275</td>\n",
       "      <td>320.02</td>\n",
       "      <td>320.02</td>\n",
       "      <td>19012241.0</td>\n",
       "      <td>0.0</td>\n",
       "      <td>1.0</td>\n",
       "    </tr>\n",
       "  </tbody>\n",
       "</table>\n",
       "</div>"
      ],
      "text/plain": [
       "             1. open  2. high   3. low  4. close  5. adjusted close  \\\n",
       "2021-04-30  326.1435   329.82  324.500    325.08             325.08   \n",
       "2021-05-03  326.1700   328.55  321.840    322.58             322.58   \n",
       "2021-05-04  320.0250   322.19  313.120    318.36             318.36   \n",
       "2021-05-05  318.1900   321.06  314.490    315.02             315.02   \n",
       "2021-05-06  314.5200   320.24  313.275    320.02             320.02   \n",
       "\n",
       "             6. volume  7. dividend amount  8. split coefficient  \n",
       "2021-04-30  26332423.0                 0.0                   1.0  \n",
       "2021-05-03  18719462.0                 0.0                   1.0  \n",
       "2021-05-04  24032557.0                 0.0                   1.0  \n",
       "2021-05-05  15577605.0                 0.0                   1.0  \n",
       "2021-05-06  19012241.0                 0.0                   1.0  "
      ]
     },
     "execution_count": 35,
     "metadata": {},
     "output_type": "execute_result"
    }
   ],
   "source": [
    "ticker_df.head()"
   ]
  },
  {
   "cell_type": "code",
   "execution_count": 36,
   "metadata": {},
   "outputs": [],
   "source": [
    "ticker_df_all = {}"
   ]
  },
  {
   "cell_type": "code",
   "execution_count": 37,
   "metadata": {},
   "outputs": [],
   "source": [
    "ticker_df_all['FB']=ticker_df"
   ]
  },
  {
   "cell_type": "code",
   "execution_count": 38,
   "metadata": {},
   "outputs": [],
   "source": [
    "ticker_df_all['AAPL']=ticker_df_new"
   ]
  },
  {
   "cell_type": "code",
   "execution_count": 39,
   "metadata": {},
   "outputs": [],
   "source": [
    "ticker_df_all = pd.concat(ticker_df_all,axis=1)"
   ]
  },
  {
   "cell_type": "code",
   "execution_count": 40,
   "metadata": {},
   "outputs": [
    {
     "data": {
      "text/html": [
       "<div>\n",
       "<style scoped>\n",
       "    .dataframe tbody tr th:only-of-type {\n",
       "        vertical-align: middle;\n",
       "    }\n",
       "\n",
       "    .dataframe tbody tr th {\n",
       "        vertical-align: top;\n",
       "    }\n",
       "\n",
       "    .dataframe thead tr th {\n",
       "        text-align: left;\n",
       "    }\n",
       "</style>\n",
       "<table border=\"1\" class=\"dataframe\">\n",
       "  <thead>\n",
       "    <tr>\n",
       "      <th></th>\n",
       "      <th colspan=\"8\" halign=\"left\">FB</th>\n",
       "      <th colspan=\"8\" halign=\"left\">AAPL</th>\n",
       "    </tr>\n",
       "    <tr>\n",
       "      <th></th>\n",
       "      <th>1. open</th>\n",
       "      <th>2. high</th>\n",
       "      <th>3. low</th>\n",
       "      <th>4. close</th>\n",
       "      <th>5. adjusted close</th>\n",
       "      <th>6. volume</th>\n",
       "      <th>7. dividend amount</th>\n",
       "      <th>8. split coefficient</th>\n",
       "      <th>1. open</th>\n",
       "      <th>2. high</th>\n",
       "      <th>3. low</th>\n",
       "      <th>4. close</th>\n",
       "      <th>5. adjusted close</th>\n",
       "      <th>6. volume</th>\n",
       "      <th>7. dividend amount</th>\n",
       "      <th>8. split coefficient</th>\n",
       "    </tr>\n",
       "  </thead>\n",
       "  <tbody>\n",
       "    <tr>\n",
       "      <th>2021-04-30</th>\n",
       "      <td>326.1435</td>\n",
       "      <td>329.82</td>\n",
       "      <td>324.500</td>\n",
       "      <td>325.08</td>\n",
       "      <td>325.08</td>\n",
       "      <td>26332423.0</td>\n",
       "      <td>0.0</td>\n",
       "      <td>1.0</td>\n",
       "      <td>131.78</td>\n",
       "      <td>133.5600</td>\n",
       "      <td>131.065</td>\n",
       "      <td>131.46</td>\n",
       "      <td>131.040993</td>\n",
       "      <td>109839466.0</td>\n",
       "      <td>0.0</td>\n",
       "      <td>1.0</td>\n",
       "    </tr>\n",
       "    <tr>\n",
       "      <th>2021-05-03</th>\n",
       "      <td>326.1700</td>\n",
       "      <td>328.55</td>\n",
       "      <td>321.840</td>\n",
       "      <td>322.58</td>\n",
       "      <td>322.58</td>\n",
       "      <td>18719462.0</td>\n",
       "      <td>0.0</td>\n",
       "      <td>1.0</td>\n",
       "      <td>132.04</td>\n",
       "      <td>134.0700</td>\n",
       "      <td>131.830</td>\n",
       "      <td>132.54</td>\n",
       "      <td>132.117550</td>\n",
       "      <td>75135100.0</td>\n",
       "      <td>0.0</td>\n",
       "      <td>1.0</td>\n",
       "    </tr>\n",
       "    <tr>\n",
       "      <th>2021-05-04</th>\n",
       "      <td>320.0250</td>\n",
       "      <td>322.19</td>\n",
       "      <td>313.120</td>\n",
       "      <td>318.36</td>\n",
       "      <td>318.36</td>\n",
       "      <td>24032557.0</td>\n",
       "      <td>0.0</td>\n",
       "      <td>1.0</td>\n",
       "      <td>131.19</td>\n",
       "      <td>131.4899</td>\n",
       "      <td>126.700</td>\n",
       "      <td>127.85</td>\n",
       "      <td>127.442499</td>\n",
       "      <td>137564718.0</td>\n",
       "      <td>0.0</td>\n",
       "      <td>1.0</td>\n",
       "    </tr>\n",
       "    <tr>\n",
       "      <th>2021-05-05</th>\n",
       "      <td>318.1900</td>\n",
       "      <td>321.06</td>\n",
       "      <td>314.490</td>\n",
       "      <td>315.02</td>\n",
       "      <td>315.02</td>\n",
       "      <td>15577605.0</td>\n",
       "      <td>0.0</td>\n",
       "      <td>1.0</td>\n",
       "      <td>129.20</td>\n",
       "      <td>130.4500</td>\n",
       "      <td>127.970</td>\n",
       "      <td>128.10</td>\n",
       "      <td>127.691702</td>\n",
       "      <td>84000900.0</td>\n",
       "      <td>0.0</td>\n",
       "      <td>1.0</td>\n",
       "    </tr>\n",
       "    <tr>\n",
       "      <th>2021-05-06</th>\n",
       "      <td>314.5200</td>\n",
       "      <td>320.24</td>\n",
       "      <td>313.275</td>\n",
       "      <td>320.02</td>\n",
       "      <td>320.02</td>\n",
       "      <td>19012241.0</td>\n",
       "      <td>0.0</td>\n",
       "      <td>1.0</td>\n",
       "      <td>127.89</td>\n",
       "      <td>129.7500</td>\n",
       "      <td>127.130</td>\n",
       "      <td>129.74</td>\n",
       "      <td>129.326475</td>\n",
       "      <td>78128334.0</td>\n",
       "      <td>0.0</td>\n",
       "      <td>1.0</td>\n",
       "    </tr>\n",
       "  </tbody>\n",
       "</table>\n",
       "</div>"
      ],
      "text/plain": [
       "                  FB                                                          \\\n",
       "             1. open 2. high   3. low 4. close 5. adjusted close   6. volume   \n",
       "2021-04-30  326.1435  329.82  324.500   325.08            325.08  26332423.0   \n",
       "2021-05-03  326.1700  328.55  321.840   322.58            322.58  18719462.0   \n",
       "2021-05-04  320.0250  322.19  313.120   318.36            318.36  24032557.0   \n",
       "2021-05-05  318.1900  321.06  314.490   315.02            315.02  15577605.0   \n",
       "2021-05-06  314.5200  320.24  313.275   320.02            320.02  19012241.0   \n",
       "\n",
       "                                                      AAPL                     \\\n",
       "           7. dividend amount 8. split coefficient 1. open   2. high   3. low   \n",
       "2021-04-30                0.0                  1.0  131.78  133.5600  131.065   \n",
       "2021-05-03                0.0                  1.0  132.04  134.0700  131.830   \n",
       "2021-05-04                0.0                  1.0  131.19  131.4899  126.700   \n",
       "2021-05-05                0.0                  1.0  129.20  130.4500  127.970   \n",
       "2021-05-06                0.0                  1.0  127.89  129.7500  127.130   \n",
       "\n",
       "                                                                       \\\n",
       "           4. close 5. adjusted close    6. volume 7. dividend amount   \n",
       "2021-04-30   131.46        131.040993  109839466.0                0.0   \n",
       "2021-05-03   132.54        132.117550   75135100.0                0.0   \n",
       "2021-05-04   127.85        127.442499  137564718.0                0.0   \n",
       "2021-05-05   128.10        127.691702   84000900.0                0.0   \n",
       "2021-05-06   129.74        129.326475   78128334.0                0.0   \n",
       "\n",
       "                                 \n",
       "           8. split coefficient  \n",
       "2021-04-30                  1.0  \n",
       "2021-05-03                  1.0  \n",
       "2021-05-04                  1.0  \n",
       "2021-05-05                  1.0  \n",
       "2021-05-06                  1.0  "
      ]
     },
     "execution_count": 40,
     "metadata": {},
     "output_type": "execute_result"
    }
   ],
   "source": [
    "ticker_df_all.head()"
   ]
  },
  {
   "cell_type": "code",
   "execution_count": 41,
   "metadata": {},
   "outputs": [
    {
     "data": {
      "text/plain": [
       "2021-04-30    326.1435\n",
       "2021-05-03    326.1700\n",
       "2021-05-04    320.0250\n",
       "2021-05-05    318.1900\n",
       "2021-05-06    314.5200\n",
       "                ...   \n",
       "2021-09-15    377.0000\n",
       "2021-09-16    372.7900\n",
       "2021-09-17    371.4050\n",
       "2021-09-20    359.3000\n",
       "2021-09-21    358.5000\n",
       "Name: (FB, 1. open), Length: 100, dtype: float64"
      ]
     },
     "execution_count": 41,
     "metadata": {},
     "output_type": "execute_result"
    }
   ],
   "source": [
    "ticker_df_all['FB','1. open']"
   ]
  },
  {
   "cell_type": "code",
   "execution_count": 42,
   "metadata": {},
   "outputs": [
    {
     "data": {
      "text/plain": [
       "Index(['FB', 'AAPL'], dtype='object')"
      ]
     },
     "execution_count": 42,
     "metadata": {},
     "output_type": "execute_result"
    }
   ],
   "source": [
    "ticker_df_all.columns.get_level_values(0).drop_duplicates()"
   ]
  },
  {
   "cell_type": "code",
   "execution_count": 43,
   "metadata": {},
   "outputs": [
    {
     "data": {
      "text/plain": [
       "False"
      ]
     },
     "execution_count": 43,
     "metadata": {},
     "output_type": "execute_result"
    }
   ],
   "source": [
    "'GOOG' in ticker_df_all.columns.get_level_values(0).drop_duplicates()"
   ]
  },
  {
   "cell_type": "code",
   "execution_count": 44,
   "metadata": {},
   "outputs": [],
   "source": [
    "#Create custom business day frequency based on Federal holidays in the US\n",
    "from pandas.tseries.holiday import USFederalHolidayCalendar\n",
    "\n",
    "bday_us = pd.offsets.CustomBusinessDay(calendar=USFederalHolidayCalendar())\n"
   ]
  },
  {
   "cell_type": "code",
   "execution_count": 45,
   "metadata": {},
   "outputs": [
    {
     "data": {
      "text/plain": [
       "DatetimeIndex(['2021-04-28', '2021-04-29', '2021-04-30', '2021-05-03',\n",
       "               '2021-05-04', '2021-05-05', '2021-05-06', '2021-05-07',\n",
       "               '2021-05-10', '2021-05-11', '2021-05-12', '2021-05-13',\n",
       "               '2021-05-14', '2021-05-17', '2021-05-18', '2021-05-19',\n",
       "               '2021-05-20', '2021-05-21', '2021-05-24', '2021-05-25',\n",
       "               '2021-05-26', '2021-05-27', '2021-05-28', '2021-06-01',\n",
       "               '2021-06-02', '2021-06-03', '2021-06-04', '2021-06-07',\n",
       "               '2021-06-08', '2021-06-09', '2021-06-10', '2021-06-11',\n",
       "               '2021-06-14', '2021-06-15', '2021-06-16', '2021-06-17',\n",
       "               '2021-06-18', '2021-06-21', '2021-06-22', '2021-06-23',\n",
       "               '2021-06-24', '2021-06-25', '2021-06-28', '2021-06-29',\n",
       "               '2021-06-30', '2021-07-01', '2021-07-02', '2021-07-06',\n",
       "               '2021-07-07', '2021-07-08', '2021-07-09', '2021-07-12',\n",
       "               '2021-07-13', '2021-07-14', '2021-07-15', '2021-07-16',\n",
       "               '2021-07-19', '2021-07-20', '2021-07-21', '2021-07-22',\n",
       "               '2021-07-23', '2021-07-26', '2021-07-27', '2021-07-28',\n",
       "               '2021-07-29', '2021-07-30', '2021-08-02', '2021-08-03',\n",
       "               '2021-08-04', '2021-08-05', '2021-08-06', '2021-08-09',\n",
       "               '2021-08-10', '2021-08-11', '2021-08-12', '2021-08-13',\n",
       "               '2021-08-16', '2021-08-17', '2021-08-18', '2021-08-19',\n",
       "               '2021-08-20', '2021-08-23', '2021-08-24', '2021-08-25',\n",
       "               '2021-08-26', '2021-08-27', '2021-08-30', '2021-08-31',\n",
       "               '2021-09-01', '2021-09-02', '2021-09-03', '2021-09-07',\n",
       "               '2021-09-08', '2021-09-09', '2021-09-10', '2021-09-13',\n",
       "               '2021-09-14', '2021-09-15', '2021-09-16', '2021-09-17'],\n",
       "              dtype='datetime64[ns]', freq='C')"
      ]
     },
     "execution_count": 45,
     "metadata": {},
     "output_type": "execute_result"
    }
   ],
   "source": [
    "check_dates = pd.date_range(start=\"20210428\", end=\"20210917\", freq=bday_us)\n",
    "check_dates"
   ]
  },
  {
   "cell_type": "code",
   "execution_count": 46,
   "metadata": {},
   "outputs": [
    {
     "data": {
      "text/plain": [
       "DatetimeIndex(['2021-04-30', '2021-05-03', '2021-05-04', '2021-05-05',\n",
       "               '2021-05-06', '2021-05-07', '2021-05-10', '2021-05-11',\n",
       "               '2021-05-12', '2021-05-13', '2021-05-14', '2021-05-17',\n",
       "               '2021-05-18', '2021-05-19', '2021-05-20', '2021-05-21',\n",
       "               '2021-05-24', '2021-05-25', '2021-05-26', '2021-05-27',\n",
       "               '2021-05-28', '2021-06-01', '2021-06-02', '2021-06-03',\n",
       "               '2021-06-04', '2021-06-07', '2021-06-08', '2021-06-09',\n",
       "               '2021-06-10', '2021-06-11', '2021-06-14', '2021-06-15',\n",
       "               '2021-06-16', '2021-06-17', '2021-06-18', '2021-06-21',\n",
       "               '2021-06-22', '2021-06-23', '2021-06-24', '2021-06-25',\n",
       "               '2021-06-28', '2021-06-29', '2021-06-30', '2021-07-01',\n",
       "               '2021-07-02', '2021-07-06', '2021-07-07', '2021-07-08',\n",
       "               '2021-07-09', '2021-07-12', '2021-07-13', '2021-07-14',\n",
       "               '2021-07-15', '2021-07-16', '2021-07-19', '2021-07-20',\n",
       "               '2021-07-21', '2021-07-22', '2021-07-23', '2021-07-26',\n",
       "               '2021-07-27', '2021-07-28', '2021-07-29', '2021-07-30',\n",
       "               '2021-08-02', '2021-08-03', '2021-08-04', '2021-08-05',\n",
       "               '2021-08-06', '2021-08-09', '2021-08-10', '2021-08-11',\n",
       "               '2021-08-12', '2021-08-13', '2021-08-16', '2021-08-17',\n",
       "               '2021-08-18', '2021-08-19', '2021-08-20', '2021-08-23',\n",
       "               '2021-08-24', '2021-08-25', '2021-08-26', '2021-08-27',\n",
       "               '2021-08-30', '2021-08-31', '2021-09-01', '2021-09-02',\n",
       "               '2021-09-03', '2021-09-07', '2021-09-08', '2021-09-09',\n",
       "               '2021-09-10', '2021-09-13', '2021-09-14', '2021-09-15',\n",
       "               '2021-09-16', '2021-09-17', '2021-09-20', '2021-09-21'],\n",
       "              dtype='datetime64[ns]', freq=None)"
      ]
     },
     "execution_count": 46,
     "metadata": {},
     "output_type": "execute_result"
    }
   ],
   "source": [
    "ticker_df_all.index"
   ]
  },
  {
   "cell_type": "code",
   "execution_count": 47,
   "metadata": {},
   "outputs": [
    {
     "data": {
      "text/plain": [
       "array([False, False, False, False, False, False, False, False, False,\n",
       "       False, False, False, False, False, False, False, False, False,\n",
       "       False, False, False, False, False, False, False, False, False,\n",
       "       False, False, False, False, False, False, False, False, False,\n",
       "       False, False, False, False, False, False, False, False, False,\n",
       "       False, False, False, False, False, False, False, False, False,\n",
       "       False, False, False, False, False, False, False, False, False,\n",
       "       False, False, False, False, False, False, False, False, False,\n",
       "       False, False, False, False, False, False, False, False, False,\n",
       "       False, False, False, False, False, False, False, False, False,\n",
       "       False, False, False, False, False, False, False, False, False,\n",
       "       False])"
      ]
     },
     "execution_count": 47,
     "metadata": {},
     "output_type": "execute_result"
    }
   ],
   "source": [
    "check_dates == ticker_df_all.index"
   ]
  },
  {
   "cell_type": "code",
   "execution_count": 48,
   "metadata": {},
   "outputs": [],
   "source": [
    "#So now I can officially specify that the data is sampled every business (US-based) day   \n",
    "ticker_df_all.index.freq=bday_us"
   ]
  },
  {
   "cell_type": "code",
   "execution_count": 49,
   "metadata": {},
   "outputs": [
    {
     "data": {
      "text/plain": [
       "DatetimeIndex(['2021-04-30', '2021-05-03', '2021-05-04', '2021-05-05',\n",
       "               '2021-05-06', '2021-05-07', '2021-05-10', '2021-05-11',\n",
       "               '2021-05-12', '2021-05-13', '2021-05-14', '2021-05-17',\n",
       "               '2021-05-18', '2021-05-19', '2021-05-20', '2021-05-21',\n",
       "               '2021-05-24', '2021-05-25', '2021-05-26', '2021-05-27',\n",
       "               '2021-05-28', '2021-06-01', '2021-06-02', '2021-06-03',\n",
       "               '2021-06-04', '2021-06-07', '2021-06-08', '2021-06-09',\n",
       "               '2021-06-10', '2021-06-11', '2021-06-14', '2021-06-15',\n",
       "               '2021-06-16', '2021-06-17', '2021-06-18', '2021-06-21',\n",
       "               '2021-06-22', '2021-06-23', '2021-06-24', '2021-06-25',\n",
       "               '2021-06-28', '2021-06-29', '2021-06-30', '2021-07-01',\n",
       "               '2021-07-02', '2021-07-06', '2021-07-07', '2021-07-08',\n",
       "               '2021-07-09', '2021-07-12', '2021-07-13', '2021-07-14',\n",
       "               '2021-07-15', '2021-07-16', '2021-07-19', '2021-07-20',\n",
       "               '2021-07-21', '2021-07-22', '2021-07-23', '2021-07-26',\n",
       "               '2021-07-27', '2021-07-28', '2021-07-29', '2021-07-30',\n",
       "               '2021-08-02', '2021-08-03', '2021-08-04', '2021-08-05',\n",
       "               '2021-08-06', '2021-08-09', '2021-08-10', '2021-08-11',\n",
       "               '2021-08-12', '2021-08-13', '2021-08-16', '2021-08-17',\n",
       "               '2021-08-18', '2021-08-19', '2021-08-20', '2021-08-23',\n",
       "               '2021-08-24', '2021-08-25', '2021-08-26', '2021-08-27',\n",
       "               '2021-08-30', '2021-08-31', '2021-09-01', '2021-09-02',\n",
       "               '2021-09-03', '2021-09-07', '2021-09-08', '2021-09-09',\n",
       "               '2021-09-10', '2021-09-13', '2021-09-14', '2021-09-15',\n",
       "               '2021-09-16', '2021-09-17', '2021-09-20', '2021-09-21'],\n",
       "              dtype='datetime64[ns]', freq='C')"
      ]
     },
     "execution_count": 49,
     "metadata": {},
     "output_type": "execute_result"
    }
   ],
   "source": [
    "ticker_df_all.index"
   ]
  },
  {
   "cell_type": "code",
   "execution_count": 50,
   "metadata": {},
   "outputs": [
    {
     "name": "stdout",
     "output_type": "stream",
     "text": [
      "<class 'pandas.core.frame.DataFrame'>\n",
      "DatetimeIndex: 100 entries, 2021-04-30 to 2021-09-21\n",
      "Freq: C\n",
      "Data columns (total 16 columns):\n",
      " #   Column                        Non-Null Count  Dtype  \n",
      "---  ------                        --------------  -----  \n",
      " 0   (FB, 1. open)                 100 non-null    float64\n",
      " 1   (FB, 2. high)                 100 non-null    float64\n",
      " 2   (FB, 3. low)                  100 non-null    float64\n",
      " 3   (FB, 4. close)                100 non-null    float64\n",
      " 4   (FB, 5. adjusted close)       100 non-null    float64\n",
      " 5   (FB, 6. volume)               100 non-null    float64\n",
      " 6   (FB, 7. dividend amount)      100 non-null    float64\n",
      " 7   (FB, 8. split coefficient)    100 non-null    float64\n",
      " 8   (AAPL, 1. open)               100 non-null    float64\n",
      " 9   (AAPL, 2. high)               100 non-null    float64\n",
      " 10  (AAPL, 3. low)                100 non-null    float64\n",
      " 11  (AAPL, 4. close)              100 non-null    float64\n",
      " 12  (AAPL, 5. adjusted close)     100 non-null    float64\n",
      " 13  (AAPL, 6. volume)             100 non-null    float64\n",
      " 14  (AAPL, 7. dividend amount)    100 non-null    float64\n",
      " 15  (AAPL, 8. split coefficient)  100 non-null    float64\n",
      "dtypes: float64(16)\n",
      "memory usage: 13.3 KB\n"
     ]
    }
   ],
   "source": [
    "ticker_df_all.info()"
   ]
  },
  {
   "cell_type": "code",
   "execution_count": 51,
   "metadata": {},
   "outputs": [
    {
     "data": {
      "text/plain": [
       "FB    1. open                 3.041850e+02\n",
       "      2. high                 3.146600e+02\n",
       "      3. low                  3.035700e+02\n",
       "      4. close                3.135900e+02\n",
       "      5. adjusted close       3.135900e+02\n",
       "      6. volume               1.910624e+07\n",
       "      7. dividend amount      0.000000e+00\n",
       "      8. split coefficient    1.000000e+00\n",
       "AAPL  1. open                 1.231600e+02\n",
       "      2. high                 1.249150e+02\n",
       "      3. low                  1.228600e+02\n",
       "      4. close                1.246900e+02\n",
       "      5. adjusted close       1.245026e+02\n",
       "      6. volume               9.261199e+07\n",
       "      7. dividend amount      0.000000e+00\n",
       "      8. split coefficient    1.000000e+00\n",
       "Name: 2021-05-19 00:00:00, dtype: float64"
      ]
     },
     "execution_count": 51,
     "metadata": {},
     "output_type": "execute_result"
    }
   ],
   "source": [
    "ticker_df_all.loc['2021-05-19']"
   ]
  },
  {
   "cell_type": "code",
   "execution_count": 52,
   "metadata": {},
   "outputs": [
    {
     "data": {
      "image/png": "[encoded data removed]",
      "text/plain": [
       "<Figure size 1728x864 with 1 Axes>"
      ]
     },
     "metadata": {
      "needs_background": "light"
     },
     "output_type": "display_data"
    }
   ],
   "source": [
    "import matplotlib.pyplot as plt\n",
    "%matplotlib inline\n",
    "\n",
    "fig = plt.figure(figsize=[24,12])\n",
    "\n",
    "var_to_show = '5. adjusted close' #'4. close' #'1. open' #'5. adjusted close'\n",
    "\n",
    "tickers_all = ['FB','AAPL']\n",
    "\n",
    "for ticker in tickers_all:\n",
    "    series_to_show = ticker_df_all[ticker,var_to_show] \n",
    "\n",
    "    #normalization\n",
    "    series_to_show = 100*(series_to_show - series_to_show[0])/series_to_show[0]\n",
    "\n",
    "    plt.plot(series_to_show, label=ticker)\n",
    "    \n",
    "plt.xlabel('Month')\n",
    "plt.grid(axis='x', color='0.75')\n",
    "plt.legend()\n",
    "\n",
    "plt.title('{} values for stock tickers {}'.format(var_to_show.split()[1],tickers_all),y=1.00);\n"
   ]
  },
  {
   "cell_type": "code",
   "execution_count": 53,
   "metadata": {},
   "outputs": [
    {
     "data": {
      "text/html": [
       "\n",
       "    <div class=\"bk-root\">\n",
       "        <a href=\"https://bokeh.org\" target=\"_blank\" class=\"bk-logo bk-logo-small bk-logo-notebook\"></a>\n",
       "        <span id=\"1001\">Loading BokehJS ...</span>\n",
       "    </div>"
      ]
     },
     "metadata": {},
     "output_type": "display_data"
    },
    {
     "data": {
      "application/javascript": [
       "\n",
       "(function(root) {\n",
       "  function now() {\n",
       "    return new Date();\n",
       "  }\n",
       "\n",
       "  var force = true;\n",
       "\n",
       "  if (typeof root._bokeh_onload_callbacks === \"undefined\" || force === true) {\n",
       "    root._bokeh_onload_callbacks = [];\n",
       "    root._bokeh_is_loading = undefined;\n",
       "  }\n",
       "\n",
       "  var JS_MIME_TYPE = 'application/javascript';\n",
       "  var HTML_MIME_TYPE = 'text/html';\n",
       "  var EXEC_MIME_TYPE = 'application/vnd.bokehjs_exec.v0+json';\n",
       "  var CLASS_NAME = 'output_bokeh rendered_html';\n",
       "\n",
       "  /**\n",
       "   * Render data to the DOM node\n",
       "   */\n",
       "  function render(props, node) {\n",
       "    var script = document.createElement(\"script\");\n",
       "    node.appendChild(script);\n",
       "  }\n",
       "\n",
       "  /**\n",
       "   * Handle when an output is cleared or removed\n",
       "   */\n",
       "  function handleClearOutput(event, handle) {\n",
       "    var cell = handle.cell;\n",
       "\n",
       "    var id = cell.output_area._bokeh_element_id;\n",
       "    var server_id = cell.output_area._bokeh_server_id;\n",
       "    // Clean up Bokeh references\n",
       "    if (id != null && id in Bokeh.index) {\n",
       "      Bokeh.index[id].model.document.clear();\n",
       "      delete Bokeh.index[id];\n",
       "    }\n",
       "\n",
       "    if (server_id !== undefined) {\n",
       "      // Clean up Bokeh references\n",
       "      var cmd = \"from bokeh.io.state import curstate; print(curstate().uuid_to_server['\" + server_id + \"'].get_sessions()[0].document.roots[0]._id)\";\n",
       "      cell.notebook.kernel.execute(cmd, {\n",
       "        iopub: {\n",
       "          output: function(msg) {\n",
       "            var id = msg.content.text.trim();\n",
       "            if (id in Bokeh.index) {\n",
       "              Bokeh.index[id].model.document.clear();\n",
       "              delete Bokeh.index[id];\n",
       "            }\n",
       "          }\n",
       "        }\n",
       "      });\n",
       "      // Destroy server and session\n",
       "      var cmd = \"import bokeh.io.notebook as ion; ion.destroy_server('\" + server_id + \"')\";\n",
       "      cell.notebook.kernel.execute(cmd);\n",
       "    }\n",
       "  }\n",
       "\n",
       "  /**\n",
       "   * Handle when a new output is added\n",
       "   */\n",
       "  function handleAddOutput(event, handle) {\n",
       "    var output_area = handle.output_area;\n",
       "    var output = handle.output;\n",
       "\n",
       "    // limit handleAddOutput to display_data with EXEC_MIME_TYPE content only\n",
       "    if ((output.output_type != \"display_data\") || (!output.data.hasOwnProperty(EXEC_MIME_TYPE))) {\n",
       "      return\n",
       "    }\n",
       "\n",
       "    var toinsert = output_area.element.find(\".\" + CLASS_NAME.split(' ')[0]);\n",
       "\n",
       "    if (output.metadata[EXEC_MIME_TYPE][\"id\"] !== undefined) {\n",
       "      toinsert[toinsert.length - 1].firstChild.textContent = output.data[JS_MIME_TYPE];\n",
       "      // store reference to embed id on output_area\n",
       "      output_area._bokeh_element_id = output.metadata[EXEC_MIME_TYPE][\"id\"];\n",
       "    }\n",
       "    if (output.metadata[EXEC_MIME_TYPE][\"server_id\"] !== undefined) {\n",
       "      var bk_div = document.createElement(\"div\");\n",
       "      bk_div.innerHTML = output.data[HTML_MIME_TYPE];\n",
       "      var script_attrs = bk_div.children[0].attributes;\n",
       "      for (var i = 0; i < script_attrs.length; i++) {\n",
       "        toinsert[toinsert.length - 1].firstChild.setAttribute(script_attrs[i].name, script_attrs[i].value);\n",
       "        toinsert[toinsert.length - 1].firstChild.textContent = bk_div.children[0].textContent\n",
       "      }\n",
       "      // store reference to server id on output_area\n",
       "      output_area._bokeh_server_id = output.metadata[EXEC_MIME_TYPE][\"server_id\"];\n",
       "    }\n",
       "  }\n",
       "\n",
       "  function register_renderer(events, OutputArea) {\n",
       "\n",
       "    function append_mime(data, metadata, element) {\n",
       "      // create a DOM node to render to\n",
       "      var toinsert = this.create_output_subarea(\n",
       "        metadata,\n",
       "        CLASS_NAME,\n",
       "        EXEC_MIME_TYPE\n",
       "      );\n",
       "      this.keyboard_manager.register_events(toinsert);\n",
       "      // Render to node\n",
       "      var props = {data: data, metadata: metadata[EXEC_MIME_TYPE]};\n",
       "      render(props, toinsert[toinsert.length - 1]);\n",
       "      element.append(toinsert);\n",
       "      return toinsert\n",
       "    }\n",
       "\n",
       "    /* Handle when an output is cleared or removed */\n",
       "    events.on('clear_output.CodeCell', handleClearOutput);\n",
       "    events.on('delete.Cell', handleClearOutput);\n",
       "\n",
       "    /* Handle when a new output is added */\n",
       "    events.on('output_added.OutputArea', handleAddOutput);\n",
       "\n",
       "    /**\n",
       "     * Register the mime type and append_mime function with output_area\n",
       "     */\n",
       "    OutputArea.prototype.register_mime_type(EXEC_MIME_TYPE, append_mime, {\n",
       "      /* Is output safe? */\n",
       "      safe: true,\n",
       "      /* Index of renderer in `output_area.display_order` */\n",
       "      index: 0\n",
       "    });\n",
       "  }\n",
       "\n",
       "  // register the mime type if in Jupyter Notebook environment and previously unregistered\n",
       "  if (root.Jupyter !== undefined) {\n",
       "    var events = require('base/js/events');\n",
       "    var OutputArea = require('notebook/js/outputarea').OutputArea;\n",
       "\n",
       "    if (OutputArea.prototype.mime_types().indexOf(EXEC_MIME_TYPE) == -1) {\n",
       "      register_renderer(events, OutputArea);\n",
       "    }\n",
       "  }\n",
       "\n",
       "  \n",
       "  if (typeof (root._bokeh_timeout) === \"undefined\" || force === true) {\n",
       "    root._bokeh_timeout = Date.now() + 5000;\n",
       "    root._bokeh_failed_load = false;\n",
       "  }\n",
       "\n",
       "  var NB_LOAD_WARNING = {'data': {'text/html':\n",
       "     \"<div style='background-color: #fdd'>\\n\"+\n",
       "     \"<p>\\n\"+\n",
       "     \"BokehJS does not appear to have successfully loaded. If loading BokehJS from CDN, this \\n\"+\n",
       "     \"may be due to a slow or bad network connection. Possible fixes:\\n\"+\n",
       "     \"</p>\\n\"+\n",
       "     \"<ul>\\n\"+\n",
       "     \"<li>re-rerun `output_notebook()` to attempt to load from CDN again, or</li>\\n\"+\n",
       "     \"<li>use INLINE resources instead, as so:</li>\\n\"+\n",
       "     \"</ul>\\n\"+\n",
       "     \"<code>\\n\"+\n",
       "     \"from bokeh.resources import INLINE\\n\"+\n",
       "     \"output_notebook(resources=INLINE)\\n\"+\n",
       "     \"</code>\\n\"+\n",
       "     \"</div>\"}};\n",
       "\n",
       "  function display_loaded() {\n",
       "    var el = document.getElementById(\"1001\");\n",
       "    if (el != null) {\n",
       "      el.textContent = \"BokehJS is loading...\";\n",
       "    }\n",
       "    if (root.Bokeh !== undefined) {\n",
       "      if (el != null) {\n",
       "        el.textContent = \"BokehJS \" + root.Bokeh.version + \" successfully loaded.\";\n",
       "      }\n",
       "    } else if (Date.now() < root._bokeh_timeout) {\n",
       "      setTimeout(display_loaded, 100)\n",
       "    }\n",
       "  }\n",
       "\n",
       "\n",
       "  function run_callbacks() {\n",
       "    try {\n",
       "      root._bokeh_onload_callbacks.forEach(function(callback) {\n",
       "        if (callback != null)\n",
       "          callback();\n",
       "      });\n",
       "    } finally {\n",
       "      delete root._bokeh_onload_callbacks\n",
       "    }\n",
       "    console.debug(\"Bokeh: all callbacks have finished\");\n",
       "  }\n",
       "\n",
       "  function load_libs(css_urls, js_urls, callback) {\n",
       "    if (css_urls == null) css_urls = [];\n",
       "    if (js_urls == null) js_urls = [];\n",
       "\n",
       "    root._bokeh_onload_callbacks.push(callback);\n",
       "    if (root._bokeh_is_loading > 0) {\n",
       "      console.debug(\"Bokeh: BokehJS is being loaded, scheduling callback at\", now());\n",
       "      return null;\n",
       "    }\n",
       "    if (js_urls == null || js_urls.length === 0) {\n",
       "      run_callbacks();\n",
       "      return null;\n",
       "    }\n",
       "    console.debug(\"Bokeh: BokehJS not loaded, scheduling load and callback at\", now());\n",
       "    root._bokeh_is_loading = css_urls.length + js_urls.length;\n",
       "\n",
       "    function on_load() {\n",
       "      root._bokeh_is_loading--;\n",
       "      if (root._bokeh_is_loading === 0) {\n",
       "        console.debug(\"Bokeh: all BokehJS libraries/stylesheets loaded\");\n",
       "        run_callbacks()\n",
       "      }\n",
       "    }\n",
       "\n",
       "    function on_error() {\n",
       "      console.error(\"failed to load \" + url);\n",
       "    }\n",
       "\n",
       "    for (var i = 0; i < css_urls.length; i++) {\n",
       "      var url = css_urls[i];\n",
       "      const element = document.createElement(\"link\");\n",
       "      element.onload = on_load;\n",
       "      element.onerror = on_error;\n",
       "      element.rel = \"stylesheet\";\n",
       "      element.type = \"text/css\";\n",
       "      element.href = url;\n",
       "      console.debug(\"Bokeh: injecting link tag for BokehJS stylesheet: \", url);\n",
       "      document.body.appendChild(element);\n",
       "    }\n",
       "\n",
       "    const hashes = {\"https://cdn.bokeh.org/bokeh/release/bokeh-2.2.3.min.js\": \"T2yuo9Oe71Cz/I4X9Ac5+gpEa5a8PpJCDlqKYO0CfAuEszu1JrXLl8YugMqYe3sM\", \"https://cdn.bokeh.org/bokeh/release/bokeh-widgets-2.2.3.min.js\": \"98GDGJ0kOMCUMUePhksaQ/GYgB3+NH9h996V88sh3aOiUNX3N+fLXAtry6xctSZ6\", \"https://cdn.bokeh.org/bokeh/release/bokeh-tables-2.2.3.min.js\": \"89bArO+nlbP3sgakeHjCo1JYxYR5wufVgA3IbUvDY+K7w4zyxJqssu7wVnfeKCq8\"};\n",
       "\n",
       "    for (var i = 0; i < js_urls.length; i++) {\n",
       "      var url = js_urls[i];\n",
       "      var element = document.createElement('script');\n",
       "      element.onload = on_load;\n",
       "      element.onerror = on_error;\n",
       "      element.async = false;\n",
       "      element.src = url;\n",
       "      if (url in hashes) {\n",
       "        element.crossOrigin = \"anonymous\";\n",
       "        element.integrity = \"sha384-\" + hashes[url];\n",
       "      }\n",
       "      console.debug(\"Bokeh: injecting script tag for BokehJS library: \", url);\n",
       "      document.head.appendChild(element);\n",
       "    }\n",
       "  };\n",
       "\n",
       "  function inject_raw_css(css) {\n",
       "    const element = document.createElement(\"style\");\n",
       "    element.appendChild(document.createTextNode(css));\n",
       "    document.body.appendChild(element);\n",
       "  }\n",
       "\n",
       "  \n",
       "  var js_urls = [\"https://cdn.bokeh.org/bokeh/release/bokeh-2.2.3.min.js\", \"https://cdn.bokeh.org/bokeh/release/bokeh-widgets-2.2.3.min.js\", \"https://cdn.bokeh.org/bokeh/release/bokeh-tables-2.2.3.min.js\"];\n",
       "  var css_urls = [];\n",
       "  \n",
       "\n",
       "  var inline_js = [\n",
       "    function(Bokeh) {\n",
       "      Bokeh.set_log_level(\"info\");\n",
       "    },\n",
       "    function(Bokeh) {\n",
       "    \n",
       "    \n",
       "    }\n",
       "  ];\n",
       "\n",
       "  function run_inline_js() {\n",
       "    \n",
       "    if (root.Bokeh !== undefined || force === true) {\n",
       "      \n",
       "    for (var i = 0; i < inline_js.length; i++) {\n",
       "      inline_js[i].call(root, root.Bokeh);\n",
       "    }\n",
       "    if (force === true) {\n",
       "        display_loaded();\n",
       "      }} else if (Date.now() < root._bokeh_timeout) {\n",
       "      setTimeout(run_inline_js, 100);\n",
       "    } else if (!root._bokeh_failed_load) {\n",
       "      console.log(\"Bokeh: BokehJS failed to load within specified timeout.\");\n",
       "      root._bokeh_failed_load = true;\n",
       "    } else if (force !== true) {\n",
       "      var cell = $(document.getElementById(\"1001\")).parents('.cell').data().cell;\n",
       "      cell.output_area.append_execute_result(NB_LOAD_WARNING)\n",
       "    }\n",
       "\n",
       "  }\n",
       "\n",
       "  if (root._bokeh_is_loading === 0) {\n",
       "    console.debug(\"Bokeh: BokehJS loaded, going straight to plotting\");\n",
       "    run_inline_js();\n",
       "  } else {\n",
       "    load_libs(css_urls, js_urls, function() {\n",
       "      console.debug(\"Bokeh: BokehJS plotting callback run at\", now());\n",
       "      run_inline_js();\n",
       "    });\n",
       "  }\n",
       "}(window));"
      ],
      "application/vnd.bokehjs_load.v0+json": "\n(function(root) {\n  function now() {\n    return new Date();\n  }\n\n  var force = true;\n\n  if (typeof root._bokeh_onload_callbacks === \"undefined\" || force === true) {\n    root._bokeh_onload_callbacks = [];\n    root._bokeh_is_loading = undefined;\n  }\n\n  \n\n  \n  if (typeof (root._bokeh_timeout) === \"undefined\" || force === true) {\n    root._bokeh_timeout = Date.now() + 5000;\n    root._bokeh_failed_load = false;\n  }\n\n  var NB_LOAD_WARNING = {'data': {'text/html':\n     \"<div style='background-color: #fdd'>\\n\"+\n     \"<p>\\n\"+\n     \"BokehJS does not appear to have successfully loaded. If loading BokehJS from CDN, this \\n\"+\n     \"may be due to a slow or bad network connection. Possible fixes:\\n\"+\n     \"</p>\\n\"+\n     \"<ul>\\n\"+\n     \"<li>re-rerun `output_notebook()` to attempt to load from CDN again, or</li>\\n\"+\n     \"<li>use INLINE resources instead, as so:</li>\\n\"+\n     \"</ul>\\n\"+\n     \"<code>\\n\"+\n     \"from bokeh.resources import INLINE\\n\"+\n     \"output_notebook(resources=INLINE)\\n\"+\n     \"</code>\\n\"+\n     \"</div>\"}};\n\n  function display_loaded() {\n    var el = document.getElementById(\"1001\");\n    if (el != null) {\n      el.textContent = \"BokehJS is loading...\";\n    }\n    if (root.Bokeh !== undefined) {\n      if (el != null) {\n        el.textContent = \"BokehJS \" + root.Bokeh.version + \" successfully loaded.\";\n      }\n    } else if (Date.now() < root._bokeh_timeout) {\n      setTimeout(display_loaded, 100)\n    }\n  }\n\n\n  function run_callbacks() {\n    try {\n      root._bokeh_onload_callbacks.forEach(function(callback) {\n        if (callback != null)\n          callback();\n      });\n    } finally {\n      delete root._bokeh_onload_callbacks\n    }\n    console.debug(\"Bokeh: all callbacks have finished\");\n  }\n\n  function load_libs(css_urls, js_urls, callback) {\n    if (css_urls == null) css_urls = [];\n    if (js_urls == null) js_urls = [];\n\n    root._bokeh_onload_callbacks.push(callback);\n    if (root._bokeh_is_loading > 0) {\n      console.debug(\"Bokeh: BokehJS is being loaded, scheduling callback at\", now());\n      return null;\n    }\n    if (js_urls == null || js_urls.length === 0) {\n      run_callbacks();\n      return null;\n    }\n    console.debug(\"Bokeh: BokehJS not loaded, scheduling load and callback at\", now());\n    root._bokeh_is_loading = css_urls.length + js_urls.length;\n\n    function on_load() {\n      root._bokeh_is_loading--;\n      if (root._bokeh_is_loading === 0) {\n        console.debug(\"Bokeh: all BokehJS libraries/stylesheets loaded\");\n        run_callbacks()\n      }\n    }\n\n    function on_error() {\n      console.error(\"failed to load \" + url);\n    }\n\n    for (var i = 0; i < css_urls.length; i++) {\n      var url = css_urls[i];\n      const element = document.createElement(\"link\");\n      element.onload = on_load;\n      element.onerror = on_error;\n      element.rel = \"stylesheet\";\n      element.type = \"text/css\";\n      element.href = url;\n      console.debug(\"Bokeh: injecting link tag for BokehJS stylesheet: \", url);\n      document.body.appendChild(element);\n    }\n\n    const hashes = {\"https://cdn.bokeh.org/bokeh/release/bokeh-2.2.3.min.js\": \"T2yuo9Oe71Cz/I4X9Ac5+gpEa5a8PpJCDlqKYO0CfAuEszu1JrXLl8YugMqYe3sM\", \"https://cdn.bokeh.org/bokeh/release/bokeh-widgets-2.2.3.min.js\": \"98GDGJ0kOMCUMUePhksaQ/GYgB3+NH9h996V88sh3aOiUNX3N+fLXAtry6xctSZ6\", \"https://cdn.bokeh.org/bokeh/release/bokeh-tables-2.2.3.min.js\": \"89bArO+nlbP3sgakeHjCo1JYxYR5wufVgA3IbUvDY+K7w4zyxJqssu7wVnfeKCq8\"};\n\n    for (var i = 0; i < js_urls.length; i++) {\n      var url = js_urls[i];\n      var element = document.createElement('script');\n      element.onload = on_load;\n      element.onerror = on_error;\n      element.async = false;\n      element.src = url;\n      if (url in hashes) {\n        element.crossOrigin = \"anonymous\";\n        element.integrity = \"sha384-\" + hashes[url];\n      }\n      console.debug(\"Bokeh: injecting script tag for BokehJS library: \", url);\n      document.head.appendChild(element);\n    }\n  };\n\n  function inject_raw_css(css) {\n    const element = document.createElement(\"style\");\n    element.appendChild(document.createTextNode(css));\n    document.body.appendChild(element);\n  }\n\n  \n  var js_urls = [\"https://cdn.bokeh.org/bokeh/release/bokeh-2.2.3.min.js\", \"https://cdn.bokeh.org/bokeh/release/bokeh-widgets-2.2.3.min.js\", \"https://cdn.bokeh.org/bokeh/release/bokeh-tables-2.2.3.min.js\"];\n  var css_urls = [];\n  \n\n  var inline_js = [\n    function(Bokeh) {\n      Bokeh.set_log_level(\"info\");\n    },\n    function(Bokeh) {\n    \n    \n    }\n  ];\n\n  function run_inline_js() {\n    \n    if (root.Bokeh !== undefined || force === true) {\n      \n    for (var i = 0; i < inline_js.length; i++) {\n      inline_js[i].call(root, root.Bokeh);\n    }\n    if (force === true) {\n        display_loaded();\n      }} else if (Date.now() < root._bokeh_timeout) {\n      setTimeout(run_inline_js, 100);\n    } else if (!root._bokeh_failed_load) {\n      console.log(\"Bokeh: BokehJS failed to load within specified timeout.\");\n      root._bokeh_failed_load = true;\n    } else if (force !== true) {\n      var cell = $(document.getElementById(\"1001\")).parents('.cell').data().cell;\n      cell.output_area.append_execute_result(NB_LOAD_WARNING)\n    }\n\n  }\n\n  if (root._bokeh_is_loading === 0) {\n    console.debug(\"Bokeh: BokehJS loaded, going straight to plotting\");\n    run_inline_js();\n  } else {\n    load_libs(css_urls, js_urls, function() {\n      console.debug(\"Bokeh: BokehJS plotting callback run at\", now());\n      run_inline_js();\n    });\n  }\n}(window));"
     },
     "metadata": {},
     "output_type": "display_data"
    },
    {
     "data": {
      "text/html": [
       "\n",
       "\n",
       "\n",
       "\n",
       "\n",
       "\n",
       "  <div class=\"bk-root\" id=\"28727466-34fd-44de-a65c-384ab36ed16c\" data-root-id=\"1002\"></div>\n"
      ]
     },
     "metadata": {},
     "output_type": "display_data"
    },
    {
     "data": {
      "application/javascript": [
       "(function(root) {\n",
       "  function embed_document(root) {\n",
       "    \n",
       "  var docs_json = {\"792026c5-c96c-4d7c-afc4-768412375685\":{\"roots\":{\"references\":[{\"attributes\":{\"below\":[{\"id\":\"1013\"}],\"center\":[{\"id\":\"1016\"},{\"id\":\"1020\"},{\"id\":\"1060\"}],\"left\":[{\"id\":\"1017\"}],\"plot_height\":300,\"plot_width\":500,\"renderers\":[{\"id\":\"1038\"},{\"id\":\"1065\"}],\"title\":{\"id\":\"1003\"},\"toolbar\":{\"id\":\"1028\"},\"x_range\":{\"id\":\"1005\"},\"x_scale\":{\"id\":\"1009\"},\"y_range\":{\"id\":\"1007\"},\"y_scale\":{\"id\":\"1011\"}},\"id\":\"1002\",\"subtype\":\"Figure\",\"type\":\"Plot\"},{\"attributes\":{},\"id\":\"1075\",\"type\":\"Selection\"},{\"attributes\":{},\"id\":\"1045\",\"type\":\"UnionRenderers\"},{\"attributes\":{},\"id\":\"1046\",\"type\":\"Selection\"},{\"attributes\":{\"line_alpha\":0.1,\"line_color\":\"blue\",\"line_width\":2,\"x\":{\"field\":\"x\"},\"y\":{\"field\":\"y\"}},\"id\":\"1037\",\"type\":\"Line\"},{\"attributes\":{\"line_color\":\"blue\",\"line_width\":2,\"x\":{\"field\":\"x\"},\"y\":{\"field\":\"y\"}},\"id\":\"1036\",\"type\":\"Line\"},{\"attributes\":{\"source\":{\"id\":\"1035\"}},\"id\":\"1039\",\"type\":\"CDSView\"},{\"attributes\":{\"items\":[{\"id\":\"1061\"},{\"id\":\"1089\"}],\"location\":\"top_left\",\"title\":\"Stock\",\"title_text_font_size\":\"15px\",\"title_text_font_style\":\"bold\"},\"id\":\"1060\",\"type\":\"Legend\"},{\"attributes\":{\"mantissas\":[1,2,5],\"max_interval\":500.0,\"num_minor_ticks\":0},\"id\":\"1048\",\"type\":\"AdaptiveTicker\"},{\"attributes\":{\"base\":60,\"mantissas\":[1,2,5,10,15,20,30],\"max_interval\":1800000.0,\"min_interval\":1000.0,\"num_minor_ticks\":0},\"id\":\"1049\",\"type\":\"AdaptiveTicker\"},{\"attributes\":{\"days\":[1,2,3,4,5,6,7,8,9,10,11,12,13,14,15,16,17,18,19,20,21,22,23,24,25,26,27,28,29,30,31]},\"id\":\"1051\",\"type\":\"DaysTicker\"},{\"attributes\":{\"formatter\":{\"id\":\"1041\"},\"ticker\":{\"id\":\"1014\"}},\"id\":\"1013\",\"type\":\"DatetimeAxis\"},{\"attributes\":{\"base\":24,\"mantissas\":[1,2,4,6,8,12],\"max_interval\":43200000.0,\"min_interval\":3600000.0,\"num_minor_ticks\":0},\"id\":\"1050\",\"type\":\"AdaptiveTicker\"},{\"attributes\":{\"months\":[0,1,2,3,4,5,6,7,8,9,10,11]},\"id\":\"1055\",\"type\":\"MonthsTicker\"},{\"attributes\":{\"data_source\":{\"id\":\"1062\"},\"glyph\":{\"id\":\"1063\"},\"hover_glyph\":null,\"muted_glyph\":null,\"nonselection_glyph\":{\"id\":\"1064\"},\"selection_glyph\":null,\"view\":{\"id\":\"1066\"}},\"id\":\"1065\",\"type\":\"GlyphRenderer\"},{\"attributes\":{\"months\":[0,2,4,6,8,10]},\"id\":\"1056\",\"type\":\"MonthsTicker\"},{\"attributes\":{\"line_width\":2,\"x\":{\"field\":\"x\"},\"y\":{\"field\":\"y\"}},\"id\":\"1063\",\"type\":\"Line\"},{\"attributes\":{\"num_minor_ticks\":5,\"tickers\":[{\"id\":\"1048\"},{\"id\":\"1049\"},{\"id\":\"1050\"},{\"id\":\"1051\"},{\"id\":\"1052\"},{\"id\":\"1053\"},{\"id\":\"1054\"},{\"id\":\"1055\"},{\"id\":\"1056\"},{\"id\":\"1057\"},{\"id\":\"1058\"},{\"id\":\"1059\"}]},\"id\":\"1014\",\"type\":\"DatetimeTicker\"},{\"attributes\":{\"bottom_units\":\"screen\",\"fill_alpha\":0.5,\"fill_color\":\"lightgrey\",\"left_units\":\"screen\",\"level\":\"overlay\",\"line_alpha\":1.0,\"line_color\":\"black\",\"line_dash\":[4,4],\"line_width\":2,\"right_units\":\"screen\",\"top_units\":\"screen\"},\"id\":\"1027\",\"type\":\"BoxAnnotation\"},{\"attributes\":{\"days\":[1,4,7,10,13,16,19,22,25,28]},\"id\":\"1052\",\"type\":\"DaysTicker\"},{\"attributes\":{\"days\":[1,15]},\"id\":\"1054\",\"type\":\"DaysTicker\"},{\"attributes\":{},\"id\":\"1005\",\"type\":\"DataRange1d\"},{\"attributes\":{\"months\":[0,6]},\"id\":\"1058\",\"type\":\"MonthsTicker\"},{\"attributes\":{\"text\":\"Stock performance from Alpha Vantage API\"},\"id\":\"1003\",\"type\":\"Title\"},{\"attributes\":{\"days\":[1,8,15,22]},\"id\":\"1053\",\"type\":\"DaysTicker\"},{\"attributes\":{},\"id\":\"1011\",\"type\":\"LinearScale\"},{\"attributes\":{},\"id\":\"1041\",\"type\":\"DatetimeTickFormatter\"},{\"attributes\":{},\"id\":\"1059\",\"type\":\"YearsTicker\"},{\"attributes\":{},\"id\":\"1007\",\"type\":\"DataRange1d\"},{\"attributes\":{\"data\":{\"x\":{\"__ndarray__\":\"AABAMwGSd0IAAIBk+JJ3QgAAQMpKk3dCAAAAMJ2Td0IAAMCV75N3QgAAgPtBlHdCAADALDmVd0IAAICSi5V3QgAAQPjdlXdCAAAAXjCWd0IAAMDDgpZ3QgAAAPV5l3dCAADAWsyXd0IAAIDAHph3QgAAQCZxmHdCAAAAjMOYd0IAAEC9upl3QgAAACMNmndCAADAiF+ad0IAAIDusZp3QgAAQFQEm3dCAABA602cd0IAAABRoJx3QgAAwLbynHdCAACAHEWdd0IAAMBNPJ53QgAAgLOOnndCAABAGeGed0IAAAB/M593QgAAwOSFn3dCAAAAFn2gd0IAAMB7z6B3QgAAgOEhoXdCAABAR3Shd0IAAACtxqF3QgAAQN69ondCAAAARBCjd0IAAMCpYqN3QgAAgA+1o3dCAABAdQekd0IAAICm/qR3QgAAQAxRpXdCAAAAcqOld0IAAMDX9aV3QgAAgD1IpndCAACA1JGnd0IAAEA65Kd3QgAAAKA2qHdCAADABYmod0IAAAA3gKl3QgAAwJzSqXdCAACAAiWqd0IAAEBod6p3QgAAAM7JqndCAABA/8Crd0IAAABlE6x3QgAAwMplrHdCAACAMLisd0IAAECWCq13QgAAgMcBrndCAABALVSud0IAAACTpq53QgAAwPj4rndCAACAXkuvd0IAAMCPQrB3QgAAgPWUsHdCAABAW+ewd0IAAADBObF3QgAAwCaMsXdCAAAAWIOyd0IAAMC91bJ3QgAAgCMos3dCAABAiXqzd0IAAADvzLN3QgAAQCDEtHdCAAAAhha1d0IAAMDraLV3QgAAgFG7tXdCAABAtw22d0IAAIDoBLd3QgAAQE5Xt3dCAAAAtKm3d0IAAMAZ/Ld3QgAAgH9OuHdCAADAsEW5d0IAAIAWmLl3QgAAQHzquXdCAAAA4jy6d0IAAMBHj7p3QgAAwN7Yu3dCAACARCu8d0IAAECqfbx3QgAAABDQvHdCAABAQce9d0IAAACnGb53QgAAwAxsvndCAACAcr6+d0IAAEDYEL93QgAAgAkIwHdCAABAb1rAd0I=\",\"dtype\":\"float64\",\"order\":\"little\",\"shape\":[100]},\"y\":{\"__ndarray__\":\"AAAAAAAAAADdYuzcE0rqP6nIgBT69wXAYO4VOoFyBMAKnqXHIu/0v4VIEvt/Eum/DqUZUPm/CsA6O9Z7bj0QwJLOoOJyzxnA+aOfT+AaE8CUHgRdqRcHwOwDw2UTSQ7Azxrk54F4E8DD8a5dWfUTwF5sE2si8gfAYWsP3fSzEcAlYSoA2DkJwMYlfqbycQrADqUZUPm/CsBNqnjb/igSwAlBhxjFMxTAd05ke0E1FcB4oFgdp9QSwJm49vuldhfAFE+MaglNEMBB0zfzO0UQwK3TE5KhawvAegn7MwcLCcDTsVhRwkIPwCQdO7C2swfAb7g7RSN94r+xgVVLPnzzv38jJFwGieq/hWyytvrn2j+BVuy6+vnivyUW4JVz4+k/M6svjom2AEA/HyLkLgP+P8mHXs4Uevo/NgFJ28TR9j9P9pgn9JYFQFZ+BLHCCQ9AMq4kuHFwEUCeiz4sU2ISQKSa55c5lRpALI/w0UduIEA9Q0HEHFEkQHDq3EI9SiJAJYf1WsgjJUCDWX+izTUkQAX/+DWN8iVAPeOCiehLK0Drl/tqhUYqQBoA8zEmFydAjdUsWAkWIUAEbaGZhLkmQO5rp53rlCVAc67NQBq3J0ChTW5Iu2UqQOkFpM58DStAitjBDWarJ0CX8RvTEPEkQAX/+DWN8iVAIfroVmFIJkCANdBpvMMlQEr83E6TkShA8U0CQJ/xJ0B4S3pQiRwoQC8q5/5xCydA0tMG0Oj3JkBbuNY3dTgmQNSsy14LniZAzLkZEes9K0DdVy4J+I8rQI5gYtU3pS5ACYDi09k5LUDCDI8zZ2EnQP0kHj8/5idAUQDVgGosKkAVqUV4Tn4sQMRAGFckWyxAeoychtZuKkAynXAfcy4pQO/3ajSczCpAI/A3lFPZMECNXjqioLovQIdHrFwoYjBA0oZ22d1AMUBiuCiK2b8xQI8v59DBkjNAxA11HxdeMkDdJIvR6pIxQKbds/UsXStAbWERr8o/LED6IM7YEBEqQIV4J2GedCtABQ1Zs9gWK0BiBk0aMOwmQA2R0UYmKSJAhawB35noIkA=\",\"dtype\":\"float64\",\"order\":\"little\",\"shape\":[100]}},\"selected\":{\"id\":\"1075\"},\"selection_policy\":{\"id\":\"1074\"}},\"id\":\"1062\",\"type\":\"ColumnDataSource\"},{\"attributes\":{\"months\":[0,4,8]},\"id\":\"1057\",\"type\":\"MonthsTicker\"},{\"attributes\":{},\"id\":\"1009\",\"type\":\"LinearScale\"},{\"attributes\":{\"line_alpha\":0.1,\"line_width\":2,\"x\":{\"field\":\"x\"},\"y\":{\"field\":\"y\"}},\"id\":\"1064\",\"type\":\"Line\"},{\"attributes\":{\"data_source\":{\"id\":\"1035\"},\"glyph\":{\"id\":\"1036\"},\"hover_glyph\":null,\"muted_glyph\":null,\"nonselection_glyph\":{\"id\":\"1037\"},\"selection_glyph\":null,\"view\":{\"id\":\"1039\"}},\"id\":\"1038\",\"type\":\"GlyphRenderer\"},{\"attributes\":{},\"id\":\"1043\",\"type\":\"BasicTickFormatter\"},{\"attributes\":{\"axis\":{\"id\":\"1013\"},\"ticker\":null},\"id\":\"1016\",\"type\":\"Grid\"},{\"attributes\":{\"label\":{\"value\":\"AAPL\"},\"renderers\":[{\"id\":\"1065\"}]},\"id\":\"1089\",\"type\":\"LegendItem\"},{\"attributes\":{\"source\":{\"id\":\"1062\"}},\"id\":\"1066\",\"type\":\"CDSView\"},{\"attributes\":{},\"id\":\"1026\",\"type\":\"HelpTool\"},{\"attributes\":{\"axis_label\":\"5. adjusted close - Percentage Change\",\"formatter\":{\"id\":\"1043\"},\"ticker\":{\"id\":\"1018\"}},\"id\":\"1017\",\"type\":\"LinearAxis\"},{\"attributes\":{\"axis\":{\"id\":\"1017\"},\"dimension\":1,\"ticker\":null},\"id\":\"1020\",\"type\":\"Grid\"},{\"attributes\":{},\"id\":\"1018\",\"type\":\"BasicTicker\"},{\"attributes\":{},\"id\":\"1074\",\"type\":\"UnionRenderers\"},{\"attributes\":{\"data\":{\"x\":{\"__ndarray__\":\"AABAMwGSd0IAAIBk+JJ3QgAAQMpKk3dCAAAAMJ2Td0IAAMCV75N3QgAAgPtBlHdCAADALDmVd0IAAICSi5V3QgAAQPjdlXdCAAAAXjCWd0IAAMDDgpZ3QgAAAPV5l3dCAADAWsyXd0IAAIDAHph3QgAAQCZxmHdCAAAAjMOYd0IAAEC9upl3QgAAACMNmndCAADAiF+ad0IAAIDusZp3QgAAQFQEm3dCAABA602cd0IAAABRoJx3QgAAwLbynHdCAACAHEWdd0IAAMBNPJ53QgAAgLOOnndCAABAGeGed0IAAAB/M593QgAAwOSFn3dCAAAAFn2gd0IAAMB7z6B3QgAAgOEhoXdCAABAR3Shd0IAAACtxqF3QgAAQN69ondCAAAARBCjd0IAAMCpYqN3QgAAgA+1o3dCAABAdQekd0IAAICm/qR3QgAAQAxRpXdCAAAAcqOld0IAAMDX9aV3QgAAgD1IpndCAACA1JGnd0IAAEA65Kd3QgAAAKA2qHdCAADABYmod0IAAAA3gKl3QgAAwJzSqXdCAACAAiWqd0IAAEBod6p3QgAAAM7JqndCAABA/8Crd0IAAABlE6x3QgAAwMplrHdCAACAMLisd0IAAECWCq13QgAAgMcBrndCAABALVSud0IAAACTpq53QgAAwPj4rndCAACAXkuvd0IAAMCPQrB3QgAAgPWUsHdCAABAW+ewd0IAAADBObF3QgAAwCaMsXdCAAAAWIOyd0IAAMC91bJ3QgAAgCMos3dCAABAiXqzd0IAAADvzLN3QgAAQCDEtHdCAAAAhha1d0IAAMDraLV3QgAAgFG7tXdCAABAtw22d0IAAIDoBLd3QgAAQE5Xt3dCAAAAtKm3d0IAAMAZ/Ld3QgAAgH9OuHdCAADAsEW5d0IAAIAWmLl3QgAAQHzquXdCAAAA4jy6d0IAAMBHj7p3QgAAwN7Yu3dCAACARCu8d0IAAECqfbx3QgAAABDQvHdCAABAQce9d0IAAACnGb53QgAAwAxsvndCAACAcr6+d0IAAEDYEL93QgAAgAkIwHdCAABAb1rAd0I=\",\"dtype\":\"float64\",\"order\":\"little\",\"shape\":[100]},\"y\":{\"__ndarray__\":\"AAAAAAAAAADSAJrZ/Jvovw5Es3uXiQDA3SyQocnBCMDoWIZpluf4v2JnUjj8h/2/0uTiY6ODF8AOwhAUPdMWwOXLyqbvuBvAwb6orUljGMDs3iZSMH4GwEQ/2JGWrAfAqawpa8qaEsAY8aWUr0YMwHhuuB8v2P+/W19WNn3HBcDwo2S7/bfBv7tpEMkvreo/y5ZlWZZl6T8ZqBcvF+ACQFhDVLP99vE/DDnRcv3u8z+kq8qiMAj0P4MFFvtj5tI/XY1B4S/w+T++TaRg/EwMQLBSf0r9KQVAyE9i8S9y+T+HKEcTZCkCQKVvF+jIav4/hS6FhK/EDEA5dYjsFbgMQGJnUjj8h/0/DcWvzOIgDECGmCPqyYr2PzQBY4dKvgFAR3+JzT0qEUDDuwn1oxUTQO+cNSZ9RRZACtrJCFcLFEAJkhzLMM0iQPUhthaRfiBASpvCom/YG0ACwk/kUAgiQDoQQxEkOSJA7K+R0b0KIUDb7N5lIkQfQPxRa4+JTxlAgqjkmxUuH0BZIIJjl0YhQFHxrRIRniBAnijJcjy/G0D1x8wlsNgXQAEN26owyRNAprJn3BU2DUDTGbKWsGYUQI/RO6s8BhpAMczSJFEQIEASIdmtz4ErQPXKa95VJi1AwTUqPPZJKkC+Nko0fKctQB/Tri5KcyRAKIsB8SM1I0D4rLNIBIggQAvA0CMxGCBAOkGWIsrRJEBcaPDQqU8nQGtL2pK2pCdAeRkouXZ5JkBjwTsp3S0mQLKqa9qWdSVA8YL9cEMdJ0Dgzuf/vHAnQLplXVUWhSlAToCpxcOHJEDYWSQCRK8iQE3dMW9KeyJAytODGaoYJUC/2OBig4snQA9liGq23yhAf3USyk+lKkANq7bnvC0oQNLUZEEcQS1AdACOnOoYMUCuNajcHbQwQKSK8fRghjFAYlD4C3ziLkDhLtCR1XwvQDvhbsCdkDFA9URNVZQlMEAUd8QdcUcwQGFWNn3HfTBAFvLFjDWkL0BpIMXyW6cvQIoBMPRIDC5ADzlT0tWELUDMvqitSWMoQAwdGv2j1iJAAjnRcv3uI0A=\",\"dtype\":\"float64\",\"order\":\"little\",\"shape\":[100]}},\"selected\":{\"id\":\"1046\"},\"selection_policy\":{\"id\":\"1045\"}},\"id\":\"1035\",\"type\":\"ColumnDataSource\"},{\"attributes\":{\"label\":{\"value\":\"FB\"},\"renderers\":[{\"id\":\"1038\"}]},\"id\":\"1061\",\"type\":\"LegendItem\"},{\"attributes\":{\"active_drag\":\"auto\",\"active_inspect\":\"auto\",\"active_multi\":null,\"active_scroll\":\"auto\",\"active_tap\":\"auto\",\"tools\":[{\"id\":\"1021\"},{\"id\":\"1022\"},{\"id\":\"1023\"},{\"id\":\"1024\"},{\"id\":\"1025\"},{\"id\":\"1026\"}]},\"id\":\"1028\",\"type\":\"Toolbar\"},{\"attributes\":{},\"id\":\"1022\",\"type\":\"WheelZoomTool\"},{\"attributes\":{},\"id\":\"1021\",\"type\":\"PanTool\"},{\"attributes\":{\"overlay\":{\"id\":\"1027\"}},\"id\":\"1023\",\"type\":\"BoxZoomTool\"},{\"attributes\":{},\"id\":\"1024\",\"type\":\"SaveTool\"},{\"attributes\":{},\"id\":\"1025\",\"type\":\"ResetTool\"}],\"root_ids\":[\"1002\"]},\"title\":\"Bokeh Application\",\"version\":\"2.2.3\"}};\n",
       "  var render_items = [{\"docid\":\"792026c5-c96c-4d7c-afc4-768412375685\",\"root_ids\":[\"1002\"],\"roots\":{\"1002\":\"28727466-34fd-44de-a65c-384ab36ed16c\"}}];\n",
       "  root.Bokeh.embed.embed_items_notebook(docs_json, render_items);\n",
       "\n",
       "  }\n",
       "  if (root.Bokeh !== undefined) {\n",
       "    embed_document(root);\n",
       "  } else {\n",
       "    var attempts = 0;\n",
       "    var timer = setInterval(function(root) {\n",
       "      if (root.Bokeh !== undefined) {\n",
       "        clearInterval(timer);\n",
       "        embed_document(root);\n",
       "      } else {\n",
       "        attempts++;\n",
       "        if (attempts > 100) {\n",
       "          clearInterval(timer);\n",
       "          console.log(\"Bokeh: ERROR: Unable to run BokehJS code because BokehJS library is missing\");\n",
       "        }\n",
       "      }\n",
       "    }, 10, root)\n",
       "  }\n",
       "})(window);"
      ],
      "application/vnd.bokehjs_exec.v0+json": ""
     },
     "metadata": {
      "application/vnd.bokehjs_exec.v0+json": {
       "id": "1002"
      }
     },
     "output_type": "display_data"
    }
   ],
   "source": [
    "#Let's try with Bokeh instead\n",
    "\n",
    "from bokeh.plotting import figure, show\n",
    "from bokeh.io import output_notebook \n",
    "\n",
    "output_notebook()\n",
    "\n",
    "var_to_show = '5. adjusted close' #'4. close' #'1. open' #'5. adjusted close'\n",
    "\n",
    "tickers_all = ['FB','AAPL']\n",
    "\n",
    "#optional figure arguments:\n",
    "kw = dict()\n",
    "#kw['tools'] = 'pan,box_zoom,hover,reset'\n",
    "kw['title'] = 'Stock performance from Alpha Vantage API'\n",
    "\n",
    "colors_list = {'AAPL':'black','GOOG':'red','MSFT':'green','FB':'blue','PFE':'orange','MRNA':'pink','JNJ':'purple','AZN':'grey'}\n",
    "\n",
    "p = figure(width=500, height=300, x_axis_type=\"datetime\",**kw) \n",
    "p.yaxis.axis_label = var_to_show + ' - Percentage Change' \n",
    "\n",
    "for ticker in tickers_all:\n",
    "    series_to_show = ticker_df_all[ticker,var_to_show] \n",
    "\n",
    "    #normalization\n",
    "    series_to_show = 100*(series_to_show - series_to_show[0])/series_to_show[0]\n",
    "\n",
    "    # add a line renderer\n",
    "    p.line(x = ticker_df_all.index, y=series_to_show, line_width=2, legend_label = ticker, color=colors_list[ticker])\n",
    "    #p.line(ticker_df.index, ticker_df['5. adjusted close'], line_width=2)\n",
    "\n",
    "p.legend.location = 'top_left'\n",
    "\n",
    "p.legend.title = 'Stock'\n",
    "p.legend.title_text_font_style = \"bold\"\n",
    "p.legend.title_text_font_size = \"15px\"\n",
    "\n",
    "kw['title'] = 'Stocks performance from Alpha Vantage API'\n",
    "\n",
    "show(p)\n",
    "\n"
   ]
  }
 ],
 "metadata": {
  "kernelspec": {
   "display_name": "Python 3",
   "language": "python",
   "name": "python3"
  },
  "language_info": {
   "codemirror_mode": {
    "name": "ipython",
    "version": 3
   },
   "file_extension": ".py",
   "mimetype": "text/x-python",
   "name": "python",
   "nbconvert_exporter": "python",
   "pygments_lexer": "ipython3",
   "version": "3.8.5"
  }
 },
 "nbformat": 4,
 "nbformat_minor": 4
}
