{
 "cells": [
  {
   "cell_type": "code",
   "execution_count": 1,
   "metadata": {},
   "outputs": [],
   "source": [
    "import requests\n",
    "import json "
   ]
  },
  {
   "cell_type": "code",
   "execution_count": 2,
   "metadata": {},
   "outputs": [],
   "source": [
    "from dotenv import dotenv_values"
   ]
  },
  {
   "cell_type": "code",
   "execution_count": 3,
   "metadata": {},
   "outputs": [],
   "source": [
    "#Will need to deal with this with Heroku's config vars for deployment\n",
    "config = dotenv_values('.env')\n",
    "key = config['ALPHA_API_KEY']"
   ]
  },
  {
   "cell_type": "code",
   "execution_count": 4,
   "metadata": {},
   "outputs": [],
   "source": [
    "ticker = 'AAPL'"
   ]
  },
  {
   "cell_type": "code",
   "execution_count": 5,
   "metadata": {},
   "outputs": [],
   "source": [
    "url = 'https://www.alphavantage.co/query?function=TIME_SERIES_DAILY_ADJUSTED&symbol={}&apikey={}'.format(ticker, key)"
   ]
  },
  {
   "cell_type": "code",
   "execution_count": 6,
   "metadata": {},
   "outputs": [],
   "source": [
    "response = requests.get(url)"
   ]
  },
  {
   "cell_type": "code",
   "execution_count": 7,
   "metadata": {},
   "outputs": [],
   "source": [
    "response_data = response.json() "
   ]
  },
  {
   "cell_type": "code",
   "execution_count": 8,
   "metadata": {},
   "outputs": [
    {
     "name": "stdout",
     "output_type": "stream",
     "text": [
      "{'Meta Data': {'1. Information': 'Daily Time Series with Splits and Dividend Events', '2. Symbol': 'AAPL', '3. Last Refreshed': '2021-09-14', '4. Output Size': 'Compact', '5. Time Zone': 'US/Eastern'}, 'Time Series (Daily)': {'2021-09-14': {'1. open': '150.35', '2. high': '151.07', '3. low': '146.91', '4. close': '148.12', '5. adjusted close': '148.12', '6. volume': '109296295', '7. dividend amount': '0.0000', '8. split coefficient': '1.0'}, '2021-09-13': {'1. open': '150.63', '2. high': '151.42', '3. low': '148.75', '4. close': '149.55', '5. adjusted close': '149.55', '6. volume': '102404329', '7. dividend amount': '0.0000', '8. split coefficient': '1.0'}, '2021-09-10': {'1. open': '155.0', '2. high': '155.48', '3. low': '148.7', '4. close': '148.97', '5. adjusted close': '148.97', '6. volume': '140893235', '7. dividend amount': '0.0000', '8. split coefficient': '1.0'}, '2021-09-09': {'1. open': '155.49', '2. high': '156.11', '3. low': '153.95', '4. close': '154.07', '5. adjusted close': '154.07', '6. volume': '57305730', '7. dividend amount': '0.0000', '8. split coefficient': '1.0'}, '2021-09-08': {'1. open': '156.98', '2. high': '157.04', '3. low': '153.975', '4. close': '155.11', '5. adjusted close': '155.11', '6. volume': '74420207', '7. dividend amount': '0.0000', '8. split coefficient': '1.0'}, '2021-09-07': {'1. open': '154.97', '2. high': '157.26', '3. low': '154.39', '4. close': '156.69', '5. adjusted close': '156.69', '6. volume': '82278261', '7. dividend amount': '0.0000', '8. split coefficient': '1.0'}, '2021-09-03': {'1. open': '153.76', '2. high': '154.63', '3. low': '153.09', '4. close': '154.3', '5. adjusted close': '154.3', '6. volume': '57866066', '7. dividend amount': '0.0000', '8. split coefficient': '1.0'}, '2021-09-02': {'1. open': '153.87', '2. high': '154.72', '3. low': '152.4', '4. close': '153.65', '5. adjusted close': '153.65', '6. volume': '71171317', '7. dividend amount': '0.0000', '8. split coefficient': '1.0'}, '2021-09-01': {'1. open': '152.83', '2. high': '154.98', '3. low': '152.34', '4. close': '152.51', '5. adjusted close': '152.51', '6. volume': '80313711', '7. dividend amount': '0.0000', '8. split coefficient': '1.0'}, '2021-08-31': {'1. open': '152.66', '2. high': '152.8', '3. low': '151.29', '4. close': '151.83', '5. adjusted close': '151.83', '6. volume': '86453117', '7. dividend amount': '0.0000', '8. split coefficient': '1.0'}, '2021-08-30': {'1. open': '149.0', '2. high': '153.49', '3. low': '148.61', '4. close': '153.12', '5. adjusted close': '153.12', '6. volume': '90956723', '7. dividend amount': '0.0000', '8. split coefficient': '1.0'}, '2021-08-27': {'1. open': '147.48', '2. high': '148.75', '3. low': '146.83', '4. close': '148.6', '5. adjusted close': '148.6', '6. volume': '55802388', '7. dividend amount': '0.0000', '8. split coefficient': '1.0'}, '2021-08-26': {'1. open': '148.35', '2. high': '149.12', '3. low': '147.51', '4. close': '147.54', '5. adjusted close': '147.54', '6. volume': '48597195', '7. dividend amount': '0.0000', '8. split coefficient': '1.0'}, '2021-08-25': {'1. open': '149.81', '2. high': '150.32', '3. low': '147.8', '4. close': '148.36', '5. adjusted close': '148.36', '6. volume': '58991297', '7. dividend amount': '0.0000', '8. split coefficient': '1.0'}, '2021-08-24': {'1. open': '149.45', '2. high': '150.86', '3. low': '149.15', '4. close': '149.62', '5. adjusted close': '149.62', '6. volume': '48606428', '7. dividend amount': '0.0000', '8. split coefficient': '1.0'}, '2021-08-23': {'1. open': '148.31', '2. high': '150.19', '3. low': '147.89', '4. close': '149.71', '5. adjusted close': '149.71', '6. volume': '60131810', '7. dividend amount': '0.0000', '8. split coefficient': '1.0'}, '2021-08-20': {'1. open': '147.44', '2. high': '148.5', '3. low': '146.78', '4. close': '148.19', '5. adjusted close': '148.19', '6. volume': '60549630', '7. dividend amount': '0.0000', '8. split coefficient': '1.0'}, '2021-08-19': {'1. open': '145.03', '2. high': '148.0', '3. low': '144.5', '4. close': '146.7', '5. adjusted close': '146.7', '6. volume': '86960310', '7. dividend amount': '0.0000', '8. split coefficient': '1.0'}, '2021-08-18': {'1. open': '149.8', '2. high': '150.72', '3. low': '146.15', '4. close': '146.36', '5. adjusted close': '146.36', '6. volume': '86325990', '7. dividend amount': '0.0000', '8. split coefficient': '1.0'}, '2021-08-17': {'1. open': '150.23', '2. high': '151.68', '3. low': '149.09', '4. close': '150.19', '5. adjusted close': '150.19', '6. volume': '92229735', '7. dividend amount': '0.0000', '8. split coefficient': '1.0'}, '2021-08-16': {'1. open': '148.535', '2. high': '151.19', '3. low': '146.47', '4. close': '151.12', '5. adjusted close': '151.12', '6. volume': '103558782', '7. dividend amount': '0.0000', '8. split coefficient': '1.0'}, '2021-08-13': {'1. open': '148.97', '2. high': '149.4444', '3. low': '148.27', '4. close': '149.1', '5. adjusted close': '149.1', '6. volume': '58846293', '7. dividend amount': '0.0000', '8. split coefficient': '1.0'}, '2021-08-12': {'1. open': '146.19', '2. high': '149.05', '3. low': '145.84', '4. close': '148.89', '5. adjusted close': '148.89', '6. volume': '73779113', '7. dividend amount': '0.0000', '8. split coefficient': '1.0'}, '2021-08-11': {'1. open': '146.05', '2. high': '146.72', '3. low': '145.53', '4. close': '145.86', '5. adjusted close': '145.86', '6. volume': '48493463', '7. dividend amount': '0.0000', '8. split coefficient': '1.0'}, '2021-08-10': {'1. open': '146.44', '2. high': '147.71', '3. low': '145.3', '4. close': '145.6', '5. adjusted close': '145.6', '6. volume': '69023081', '7. dividend amount': '0.0000', '8. split coefficient': '1.0'}, '2021-08-09': {'1. open': '146.2', '2. high': '146.7', '3. low': '145.52', '4. close': '146.09', '5. adjusted close': '146.09', '6. volume': '48908689', '7. dividend amount': '0.0000', '8. split coefficient': '1.0'}, '2021-08-06': {'1. open': '146.35', '2. high': '147.11', '3. low': '145.63', '4. close': '146.14', '5. adjusted close': '146.14', '6. volume': '54126813', '7. dividend amount': '0.2200', '8. split coefficient': '1.0'}, '2021-08-05': {'1. open': '146.98', '2. high': '147.84', '3. low': '146.17', '4. close': '147.06', '5. adjusted close': '146.8389478', '6. volume': '46397674', '7. dividend amount': '0.0000', '8. split coefficient': '1.0'}, '2021-08-04': {'1. open': '147.27', '2. high': '147.79', '3. low': '146.28', '4. close': '146.95', '5. adjusted close': '146.729113146', '6. volume': '56368271', '7. dividend amount': '0.0000', '8. split coefficient': '1.0'}, '2021-08-03': {'1. open': '145.81', '2. high': '148.045', '3. low': '145.18', '4. close': '147.36', '5. adjusted close': '147.138496857', '6. volume': '64786618', '7. dividend amount': '0.0000', '8. split coefficient': '1.0'}, '2021-08-02': {'1. open': '146.36', '2. high': '146.95', '3. low': '145.25', '4. close': '145.52', '5. adjusted close': '145.30126264', '6. volume': '62879961', '7. dividend amount': '0.0000', '8. split coefficient': '1.0'}, '2021-07-30': {'1. open': '144.38', '2. high': '146.33', '3. low': '144.11', '4. close': '145.86', '5. adjusted close': '145.640751571', '6. volume': '70440626', '7. dividend amount': '0.0000', '8. split coefficient': '1.0'}, '2021-07-29': {'1. open': '144.685', '2. high': '146.55', '3. low': '144.58', '4. close': '145.64', '5. adjusted close': '145.421082263', '6. volume': '54323047', '7. dividend amount': '0.0000', '8. split coefficient': '1.0'}, '2021-07-28': {'1. open': '144.81', '2. high': '146.97', '3. low': '142.54', '4. close': '144.98', '5. adjusted close': '144.762074337', '6. volume': '118931191', '7. dividend amount': '0.0000', '8. split coefficient': '1.0'}, '2021-07-27': {'1. open': '149.12', '2. high': '149.21', '3. low': '145.55', '4. close': '146.77', '5. adjusted close': '146.549383711', '6. volume': '104818578', '7. dividend amount': '0.0000', '8. split coefficient': '1.0'}, '2021-07-26': {'1. open': '148.27', '2. high': '149.83', '3. low': '147.7', '4. close': '148.99', '5. adjusted close': '148.766046734', '6. volume': '72434089', '7. dividend amount': '0.0000', '8. split coefficient': '1.0'}, '2021-07-23': {'1. open': '147.55', '2. high': '148.7177', '3. low': '146.92', '4. close': '148.56', '5. adjusted close': '148.336693086', '6. volume': '71447416', '7. dividend amount': '0.0000', '8. split coefficient': '1.0'}, '2021-07-22': {'1. open': '145.935', '2. high': '148.195', '3. low': '145.81', '4. close': '146.8', '5. adjusted close': '146.579338617', '6. volume': '77338156', '7. dividend amount': '0.0000', '8. split coefficient': '1.0'}, '2021-07-21': {'1. open': '145.53', '2. high': '146.13', '3. low': '144.63', '4. close': '145.4', '5. adjusted close': '145.181443017', '6. volume': '74993460', '7. dividend amount': '0.0000', '8. split coefficient': '1.0'}, '2021-07-20': {'1. open': '143.46', '2. high': '147.0997', '3. low': '142.96', '4. close': '146.15', '5. adjusted close': '145.93031566', '6. volume': '96350036', '7. dividend amount': '0.0000', '8. split coefficient': '1.0'}, '2021-07-19': {'1. open': '143.75', '2. high': '144.07', '3. low': '141.67', '4. close': '142.45', '5. adjusted close': '142.235877289', '6. volume': '121434571', '7. dividend amount': '0.0000', '8. split coefficient': '1.0'}, '2021-07-16': {'1. open': '148.46', '2. high': '149.76', '3. low': '145.88', '4. close': '146.39', '5. adjusted close': '146.169954906', '6. volume': '93251426', '7. dividend amount': '0.0000', '8. split coefficient': '1.0'}, '2021-07-15': {'1. open': '149.24', '2. high': '150.0', '3. low': '147.09', '4. close': '148.48', '5. adjusted close': '148.256813337', '6. volume': '106820297', '7. dividend amount': '0.0000', '8. split coefficient': '1.0'}, '2021-07-14': {'1. open': '148.1', '2. high': '149.57', '3. low': '147.68', '4. close': '149.15', '5. adjusted close': '148.925806231', '6. volume': '127050785', '7. dividend amount': '0.0000', '8. split coefficient': '1.0'}, '2021-07-13': {'1. open': '144.03', '2. high': '147.46', '3. low': '143.63', '4. close': '145.64', '5. adjusted close': '145.421082263', '6. volume': '100827099', '7. dividend amount': '0.0000', '8. split coefficient': '1.0'}, '2021-07-12': {'1. open': '146.21', '2. high': '146.32', '3. low': '144.0', '4. close': '144.5', '5. adjusted close': '144.282795846', '6. volume': '76299719', '7. dividend amount': '0.0000', '8. split coefficient': '1.0'}, '2021-07-09': {'1. open': '142.75', '2. high': '145.65', '3. low': '142.6522', '4. close': '145.11', '5. adjusted close': '144.891878929', '6. volume': '99890800', '7. dividend amount': '0.0000', '8. split coefficient': '1.0'}, '2021-07-08': {'1. open': '141.58', '2. high': '144.06', '3. low': '140.665', '4. close': '143.24', '5. adjusted close': '143.024689806', '6. volume': '105575458', '7. dividend amount': '0.0000', '8. split coefficient': '1.0'}, '2021-07-07': {'1. open': '143.535', '2. high': '144.89', '3. low': '142.66', '4. close': '144.57', '5. adjusted close': '144.352690626', '6. volume': '104911589', '7. dividend amount': '0.0000', '8. split coefficient': '1.0'}, '2021-07-06': {'1. open': '140.07', '2. high': '143.15', '3. low': '140.07', '4. close': '142.02', '5. adjusted close': '141.80652364', '6. volume': '108181793', '7. dividend amount': '0.0000', '8. split coefficient': '1.0'}, '2021-07-02': {'1. open': '137.9', '2. high': '140.0', '3. low': '137.745', '4. close': '139.96', '5. adjusted close': '139.749620115', '6. volume': '78945572', '7. dividend amount': '0.0000', '8. split coefficient': '1.0'}, '2021-07-01': {'1. open': '136.6', '2. high': '137.33', '3. low': '135.76', '4. close': '137.27', '5. adjusted close': '137.063663569', '6. volume': '52485781', '7. dividend amount': '0.0000', '8. split coefficient': '1.0'}, '2021-06-30': {'1. open': '136.17', '2. high': '137.41', '3. low': '135.87', '4. close': '136.96', '5. adjusted close': '136.754129544', '6. volume': '63261393', '7. dividend amount': '0.0000', '8. split coefficient': '1.0'}, '2021-06-29': {'1. open': '134.8', '2. high': '136.49', '3. low': '134.35', '4. close': '136.33', '5. adjusted close': '136.125076524', '6. volume': '64556081', '7. dividend amount': '0.0000', '8. split coefficient': '1.0'}, '2021-06-28': {'1. open': '133.41', '2. high': '135.245', '3. low': '133.35', '4. close': '134.78', '5. adjusted close': '134.577406395', '6. volume': '62111303', '7. dividend amount': '0.0000', '8. split coefficient': '1.0'}, '2021-06-25': {'1. open': '133.46', '2. high': '133.89', '3. low': '132.81', '4. close': '133.11', '5. adjusted close': '132.909916644', '6. volume': '70783746', '7. dividend amount': '0.0000', '8. split coefficient': '1.0'}, '2021-06-24': {'1. open': '134.45', '2. high': '134.64', '3. low': '132.93', '4. close': '133.41', '5. adjusted close': '133.209465701', '6. volume': '68710998', '7. dividend amount': '0.0000', '8. split coefficient': '1.0'}, '2021-06-23': {'1. open': '133.77', '2. high': '134.32', '3. low': '133.23', '4. close': '133.7', '5. adjusted close': '133.49902979', '6. volume': '60214200', '7. dividend amount': '0.0000', '8. split coefficient': '1.0'}, '2021-06-22': {'1. open': '132.13', '2. high': '134.08', '3. low': '131.62', '4. close': '133.98', '5. adjusted close': '133.77860891', '6. volume': '74783618', '7. dividend amount': '0.0000', '8. split coefficient': '1.0'}, '2021-06-21': {'1. open': '130.3', '2. high': '132.41', '3. low': '129.21', '4. close': '132.3', '5. adjusted close': '132.10113419', '6. volume': '79663316', '7. dividend amount': '0.0000', '8. split coefficient': '1.0'}, '2021-06-18': {'1. open': '130.71', '2. high': '131.51', '3. low': '130.24', '4. close': '130.46', '5. adjusted close': '130.263899973', '6. volume': '108953309', '7. dividend amount': '0.0000', '8. split coefficient': '1.0'}, '2021-06-17': {'1. open': '129.8', '2. high': '132.55', '3. low': '129.65', '4. close': '131.79', '5. adjusted close': '131.591900793', '6. volume': '96721669', '7. dividend amount': '0.0000', '8. split coefficient': '1.0'}, '2021-06-16': {'1. open': '130.37', '2. high': '130.89', '3. low': '128.461', '4. close': '130.15', '5. adjusted close': '129.954365947', '6. volume': '91339351', '7. dividend amount': '0.0000', '8. split coefficient': '1.0'}, '2021-06-15': {'1. open': '129.94', '2. high': '130.6', '3. low': '129.39', '4. close': '129.64', '5. adjusted close': '129.44513255', '6. volume': '62746332', '7. dividend amount': '0.0000', '8. split coefficient': '1.0'}, '2021-06-14': {'1. open': '127.82', '2. high': '130.54', '3. low': '127.07', '4. close': '130.48', '5. adjusted close': '130.28386991', '6. volume': '96906490', '7. dividend amount': '0.0000', '8. split coefficient': '1.0'}, '2021-06-11': {'1. open': '126.53', '2. high': '127.44', '3. low': '126.1', '4. close': '127.35', '5. adjusted close': '127.158574747', '6. volume': '53522373', '7. dividend amount': '0.0000', '8. split coefficient': '1.0'}, '2021-06-10': {'1. open': '127.02', '2. high': '128.19', '3. low': '125.94', '4. close': '126.11', '5. adjusted close': '125.920438644', '6. volume': '71186421', '7. dividend amount': '0.0000', '8. split coefficient': '1.0'}, '2021-06-09': {'1. open': '127.21', '2. high': '127.75', '3. low': '126.52', '4. close': '127.13', '5. adjusted close': '126.938905439', '6. volume': '56877937', '7. dividend amount': '0.0000', '8. split coefficient': '1.0'}, '2021-06-08': {'1. open': '126.6', '2. high': '128.46', '3. low': '126.2101', '4. close': '126.74', '5. adjusted close': '126.549491664', '6. volume': '74403774', '7. dividend amount': '0.0000', '8. split coefficient': '1.0'}, '2021-06-07': {'1. open': '126.17', '2. high': '126.32', '3. low': '124.8321', '4. close': '125.9', '5. adjusted close': '125.710754304', '6. volume': '71057550', '7. dividend amount': '0.0000', '8. split coefficient': '1.0'}, '2021-06-04': {'1. open': '124.07', '2. high': '126.16', '3. low': '123.85', '4. close': '125.89', '5. adjusted close': '125.700769336', '6. volume': '75169343', '7. dividend amount': '0.0000', '8. split coefficient': '1.0'}, '2021-06-03': {'1. open': '124.68', '2. high': '124.85', '3. low': '123.13', '4. close': '123.54', '5. adjusted close': '123.354301722', '6. volume': '76229170', '7. dividend amount': '0.0000', '8. split coefficient': '1.0'}, '2021-06-02': {'1. open': '124.28', '2. high': '125.24', '3. low': '124.05', '4. close': '125.06', '5. adjusted close': '124.872016945', '6. volume': '59278862', '7. dividend amount': '0.0000', '8. split coefficient': '1.0'}, '2021-06-01': {'1. open': '125.08', '2. high': '125.35', '3. low': '123.94', '4. close': '124.28', '5. adjusted close': '124.093189396', '6. volume': '67637118', '7. dividend amount': '0.0000', '8. split coefficient': '1.0'}, '2021-05-28': {'1. open': '125.57', '2. high': '125.8', '3. low': '124.55', '4. close': '124.61', '5. adjusted close': '124.422693359', '6. volume': '71311109', '7. dividend amount': '0.0000', '8. split coefficient': '1.0'}, '2021-05-27': {'1. open': '126.44', '2. high': '127.64', '3. low': '125.08', '4. close': '125.28', '5. adjusted close': '125.091686253', '6. volume': '94625601', '7. dividend amount': '0.0000', '8. split coefficient': '1.0'}, '2021-05-26': {'1. open': '126.955', '2. high': '127.39', '3. low': '126.42', '4. close': '126.85', '5. adjusted close': '126.659326319', '6. volume': '56575920', '7. dividend amount': '0.0000', '8. split coefficient': '1.0'}, '2021-05-25': {'1. open': '127.82', '2. high': '128.32', '3. low': '126.32', '4. close': '126.9', '5. adjusted close': '126.709251162', '6. volume': '72009482', '7. dividend amount': '0.0000', '8. split coefficient': '1.0'}, '2021-05-24': {'1. open': '126.01', '2. high': '127.94', '3. low': '125.94', '4. close': '127.1', '5. adjusted close': '126.908950533', '6. volume': '63092945', '7. dividend amount': '0.0000', '8. split coefficient': '1.0'}, '2021-05-21': {'1. open': '127.82', '2. high': '128.0', '3. low': '125.21', '4. close': '125.43', '5. adjusted close': '125.241460782', '6. volume': '79295436', '7. dividend amount': '0.0000', '8. split coefficient': '1.0'}, '2021-05-20': {'1. open': '125.23', '2. high': '127.72', '3. low': '125.1', '4. close': '127.31', '5. adjusted close': '127.118634873', '6. volume': '76857123', '7. dividend amount': '0.0000', '8. split coefficient': '1.0'}, '2021-05-19': {'1. open': '123.16', '2. high': '124.915', '3. low': '122.86', '4. close': '124.69', '5. adjusted close': '124.502573107', '6. volume': '92611989', '7. dividend amount': '0.0000', '8. split coefficient': '1.0'}, '2021-05-18': {'1. open': '126.56', '2. high': '126.99', '3. low': '124.78', '4. close': '124.85', '5. adjusted close': '124.662332605', '6. volume': '63342929', '7. dividend amount': '0.0000', '8. split coefficient': '1.0'}, '2021-05-17': {'1. open': '126.82', '2. high': '126.93', '3. low': '125.17', '4. close': '126.27', '5. adjusted close': '126.080198142', '6. volume': '74244624', '7. dividend amount': '0.0000', '8. split coefficient': '1.0'}, '2021-05-14': {'1. open': '126.25', '2. high': '127.89', '3. low': '125.85', '4. close': '127.45', '5. adjusted close': '127.258424433', '6. volume': '81917951', '7. dividend amount': '0.0000', '8. split coefficient': '1.0'}, '2021-05-13': {'1. open': '124.58', '2. high': '126.15', '3. low': '124.26', '4. close': '124.97', '5. adjusted close': '124.782152227', '6. volume': '105861339', '7. dividend amount': '0.0000', '8. split coefficient': '1.0'}, '2021-05-12': {'1. open': '123.4', '2. high': '124.64', '3. low': '122.25', '4. close': '122.77', '5. adjusted close': '122.585459142', '6. volume': '112172282', '7. dividend amount': '0.0000', '8. split coefficient': '1.0'}, '2021-05-11': {'1. open': '123.5', '2. high': '126.27', '3. low': '122.77', '4. close': '125.91', '5. adjusted close': '125.720739273', '6. volume': '126142826', '7. dividend amount': '0.0000', '8. split coefficient': '1.0'}, '2021-05-10': {'1. open': '129.41', '2. high': '129.54', '3. low': '126.81', '4. close': '126.85', '5. adjusted close': '126.659326319', '6. volume': '88071229', '7. dividend amount': '0.0000', '8. split coefficient': '1.0'}, '2021-05-07': {'1. open': '130.85', '2. high': '131.2582', '3. low': '129.475', '4. close': '130.21', '5. adjusted close': '130.014275758', '6. volume': '78973273', '7. dividend amount': '0.2200', '8. split coefficient': '1.0'}, '2021-05-06': {'1. open': '127.89', '2. high': '129.75', '3. low': '127.13', '4. close': '129.74', '5. adjusted close': '129.32647502', '6. volume': '78128334', '7. dividend amount': '0.0000', '8. split coefficient': '1.0'}, '2021-05-05': {'1. open': '129.2', '2. high': '130.45', '3. low': '127.97', '4. close': '128.1', '5. adjusted close': '127.691702251', '6. volume': '84000900', '7. dividend amount': '0.0000', '8. split coefficient': '1.0'}, '2021-05-04': {'1. open': '131.19', '2. high': '131.4899', '3. low': '126.7', '4. close': '127.85', '5. adjusted close': '127.442499085', '6. volume': '137564718', '7. dividend amount': '0.0000', '8. split coefficient': '1.0'}, '2021-05-03': {'1. open': '132.04', '2. high': '134.07', '3. low': '131.83', '4. close': '132.54', '5. adjusted close': '132.117550479', '6. volume': '75135100', '7. dividend amount': '0.0000', '8. split coefficient': '1.0'}, '2021-04-30': {'1. open': '131.78', '2. high': '133.56', '3. low': '131.065', '4. close': '131.46', '5. adjusted close': '131.040992802', '6. volume': '109839466', '7. dividend amount': '0.0000', '8. split coefficient': '1.0'}, '2021-04-29': {'1. open': '136.47', '2. high': '137.07', '3. low': '132.45', '4. close': '133.48', '5. adjusted close': '133.054554383', '6. volume': '151100953', '7. dividend amount': '0.0000', '8. split coefficient': '1.0'}, '2021-04-28': {'1. open': '134.31', '2. high': '135.02', '3. low': '133.08', '4. close': '133.58', '5. adjusted close': '133.15423565', '6. volume': '107760097', '7. dividend amount': '0.0000', '8. split coefficient': '1.0'}, '2021-04-27': {'1. open': '135.01', '2. high': '135.41', '3. low': '134.11', '4. close': '134.39', '5. adjusted close': '133.961653908', '6. volume': '66015804', '7. dividend amount': '0.0000', '8. split coefficient': '1.0'}, '2021-04-26': {'1. open': '134.83', '2. high': '135.06', '3. low': '133.56', '4. close': '134.72', '5. adjusted close': '134.290602087', '6. volume': '66905069', '7. dividend amount': '0.0000', '8. split coefficient': '1.0'}, '2021-04-23': {'1. open': '132.16', '2. high': '135.12', '3. low': '132.16', '4. close': '134.32', '5. adjusted close': '133.891877021', '6. volume': '78756779', '7. dividend amount': '0.0000', '8. split coefficient': '1.0'}}}\n"
     ]
    }
   ],
   "source": [
    "print(response_data)"
   ]
  },
  {
   "cell_type": "code",
   "execution_count": 9,
   "metadata": {},
   "outputs": [
    {
     "data": {
      "text/plain": [
       "dict_keys(['Meta Data', 'Time Series (Daily)'])"
      ]
     },
     "execution_count": 9,
     "metadata": {},
     "output_type": "execute_result"
    }
   ],
   "source": [
    "response_data.keys()"
   ]
  },
  {
   "cell_type": "code",
   "execution_count": 10,
   "metadata": {},
   "outputs": [
    {
     "data": {
      "text/plain": [
       "{'1. Information': 'Daily Time Series with Splits and Dividend Events',\n",
       " '2. Symbol': 'AAPL',\n",
       " '3. Last Refreshed': '2021-09-14',\n",
       " '4. Output Size': 'Compact',\n",
       " '5. Time Zone': 'US/Eastern'}"
      ]
     },
     "execution_count": 10,
     "metadata": {},
     "output_type": "execute_result"
    }
   ],
   "source": [
    "response_data['Meta Data']"
   ]
  },
  {
   "cell_type": "code",
   "execution_count": 11,
   "metadata": {},
   "outputs": [
    {
     "data": {
      "text/plain": [
       "{'1. open': '150.35',\n",
       " '2. high': '151.07',\n",
       " '3. low': '146.91',\n",
       " '4. close': '148.12',\n",
       " '5. adjusted close': '148.12',\n",
       " '6. volume': '109296295',\n",
       " '7. dividend amount': '0.0000',\n",
       " '8. split coefficient': '1.0'}"
      ]
     },
     "execution_count": 11,
     "metadata": {},
     "output_type": "execute_result"
    }
   ],
   "source": [
    "response_data['Time Series (Daily)']['2021-09-14']"
   ]
  },
  {
   "cell_type": "code",
   "execution_count": 12,
   "metadata": {},
   "outputs": [],
   "source": [
    "import pandas as pd"
   ]
  },
  {
   "cell_type": "code",
   "execution_count": 13,
   "metadata": {},
   "outputs": [],
   "source": [
    "ticker_df = pd.DataFrame.from_dict(response_data['Time Series (Daily)'],orient='index')"
   ]
  },
  {
   "cell_type": "code",
   "execution_count": 14,
   "metadata": {},
   "outputs": [
    {
     "data": {
      "text/html": [
       "<div>\n",
       "<style scoped>\n",
       "    .dataframe tbody tr th:only-of-type {\n",
       "        vertical-align: middle;\n",
       "    }\n",
       "\n",
       "    .dataframe tbody tr th {\n",
       "        vertical-align: top;\n",
       "    }\n",
       "\n",
       "    .dataframe thead th {\n",
       "        text-align: right;\n",
       "    }\n",
       "</style>\n",
       "<table border=\"1\" class=\"dataframe\">\n",
       "  <thead>\n",
       "    <tr style=\"text-align: right;\">\n",
       "      <th></th>\n",
       "      <th>1. open</th>\n",
       "      <th>2. high</th>\n",
       "      <th>3. low</th>\n",
       "      <th>4. close</th>\n",
       "      <th>5. adjusted close</th>\n",
       "      <th>6. volume</th>\n",
       "      <th>7. dividend amount</th>\n",
       "      <th>8. split coefficient</th>\n",
       "    </tr>\n",
       "  </thead>\n",
       "  <tbody>\n",
       "    <tr>\n",
       "      <th>2021-09-14</th>\n",
       "      <td>150.35</td>\n",
       "      <td>151.07</td>\n",
       "      <td>146.91</td>\n",
       "      <td>148.12</td>\n",
       "      <td>148.12</td>\n",
       "      <td>109296295</td>\n",
       "      <td>0.0000</td>\n",
       "      <td>1.0</td>\n",
       "    </tr>\n",
       "    <tr>\n",
       "      <th>2021-09-13</th>\n",
       "      <td>150.63</td>\n",
       "      <td>151.42</td>\n",
       "      <td>148.75</td>\n",
       "      <td>149.55</td>\n",
       "      <td>149.55</td>\n",
       "      <td>102404329</td>\n",
       "      <td>0.0000</td>\n",
       "      <td>1.0</td>\n",
       "    </tr>\n",
       "    <tr>\n",
       "      <th>2021-09-10</th>\n",
       "      <td>155.0</td>\n",
       "      <td>155.48</td>\n",
       "      <td>148.7</td>\n",
       "      <td>148.97</td>\n",
       "      <td>148.97</td>\n",
       "      <td>140893235</td>\n",
       "      <td>0.0000</td>\n",
       "      <td>1.0</td>\n",
       "    </tr>\n",
       "    <tr>\n",
       "      <th>2021-09-09</th>\n",
       "      <td>155.49</td>\n",
       "      <td>156.11</td>\n",
       "      <td>153.95</td>\n",
       "      <td>154.07</td>\n",
       "      <td>154.07</td>\n",
       "      <td>57305730</td>\n",
       "      <td>0.0000</td>\n",
       "      <td>1.0</td>\n",
       "    </tr>\n",
       "    <tr>\n",
       "      <th>2021-09-08</th>\n",
       "      <td>156.98</td>\n",
       "      <td>157.04</td>\n",
       "      <td>153.975</td>\n",
       "      <td>155.11</td>\n",
       "      <td>155.11</td>\n",
       "      <td>74420207</td>\n",
       "      <td>0.0000</td>\n",
       "      <td>1.0</td>\n",
       "    </tr>\n",
       "  </tbody>\n",
       "</table>\n",
       "</div>"
      ],
      "text/plain": [
       "           1. open 2. high   3. low 4. close 5. adjusted close  6. volume  \\\n",
       "2021-09-14  150.35  151.07   146.91   148.12            148.12  109296295   \n",
       "2021-09-13  150.63  151.42   148.75   149.55            149.55  102404329   \n",
       "2021-09-10   155.0  155.48    148.7   148.97            148.97  140893235   \n",
       "2021-09-09  155.49  156.11   153.95   154.07            154.07   57305730   \n",
       "2021-09-08  156.98  157.04  153.975   155.11            155.11   74420207   \n",
       "\n",
       "           7. dividend amount 8. split coefficient  \n",
       "2021-09-14             0.0000                  1.0  \n",
       "2021-09-13             0.0000                  1.0  \n",
       "2021-09-10             0.0000                  1.0  \n",
       "2021-09-09             0.0000                  1.0  \n",
       "2021-09-08             0.0000                  1.0  "
      ]
     },
     "execution_count": 14,
     "metadata": {},
     "output_type": "execute_result"
    }
   ],
   "source": [
    "ticker_df.head()"
   ]
  },
  {
   "cell_type": "code",
   "execution_count": 15,
   "metadata": {},
   "outputs": [
    {
     "data": {
      "text/plain": [
       "Index(['2021-09-14', '2021-09-13', '2021-09-10', '2021-09-09', '2021-09-08',\n",
       "       '2021-09-07', '2021-09-03', '2021-09-02', '2021-09-01', '2021-08-31',\n",
       "       '2021-08-30', '2021-08-27', '2021-08-26', '2021-08-25', '2021-08-24',\n",
       "       '2021-08-23', '2021-08-20', '2021-08-19', '2021-08-18', '2021-08-17',\n",
       "       '2021-08-16', '2021-08-13', '2021-08-12', '2021-08-11', '2021-08-10',\n",
       "       '2021-08-09', '2021-08-06', '2021-08-05', '2021-08-04', '2021-08-03',\n",
       "       '2021-08-02', '2021-07-30', '2021-07-29', '2021-07-28', '2021-07-27',\n",
       "       '2021-07-26', '2021-07-23', '2021-07-22', '2021-07-21', '2021-07-20',\n",
       "       '2021-07-19', '2021-07-16', '2021-07-15', '2021-07-14', '2021-07-13',\n",
       "       '2021-07-12', '2021-07-09', '2021-07-08', '2021-07-07', '2021-07-06',\n",
       "       '2021-07-02', '2021-07-01', '2021-06-30', '2021-06-29', '2021-06-28',\n",
       "       '2021-06-25', '2021-06-24', '2021-06-23', '2021-06-22', '2021-06-21',\n",
       "       '2021-06-18', '2021-06-17', '2021-06-16', '2021-06-15', '2021-06-14',\n",
       "       '2021-06-11', '2021-06-10', '2021-06-09', '2021-06-08', '2021-06-07',\n",
       "       '2021-06-04', '2021-06-03', '2021-06-02', '2021-06-01', '2021-05-28',\n",
       "       '2021-05-27', '2021-05-26', '2021-05-25', '2021-05-24', '2021-05-21',\n",
       "       '2021-05-20', '2021-05-19', '2021-05-18', '2021-05-17', '2021-05-14',\n",
       "       '2021-05-13', '2021-05-12', '2021-05-11', '2021-05-10', '2021-05-07',\n",
       "       '2021-05-06', '2021-05-05', '2021-05-04', '2021-05-03', '2021-04-30',\n",
       "       '2021-04-29', '2021-04-28', '2021-04-27', '2021-04-26', '2021-04-23'],\n",
       "      dtype='object')"
      ]
     },
     "execution_count": 15,
     "metadata": {},
     "output_type": "execute_result"
    }
   ],
   "source": [
    "ticker_df.index"
   ]
  },
  {
   "cell_type": "code",
   "execution_count": 16,
   "metadata": {},
   "outputs": [],
   "source": [
    "#switch to increasing chronological order and to datetime format\n",
    "ticker_df = ticker_df.iloc[::-1]"
   ]
  },
  {
   "cell_type": "code",
   "execution_count": 17,
   "metadata": {},
   "outputs": [],
   "source": [
    "ticker_df.index = pd.to_datetime(ticker_df.index)"
   ]
  },
  {
   "cell_type": "code",
   "execution_count": 18,
   "metadata": {},
   "outputs": [],
   "source": [
    "##Optional: specify the timezone\n",
    "#ticker_df.index.tz_localize(\"US/Eastern\")"
   ]
  },
  {
   "cell_type": "code",
   "execution_count": 19,
   "metadata": {},
   "outputs": [],
   "source": [
    "#Create custom business day frequency based on Federal holidays in the US\n",
    "from pandas.tseries.holiday import USFederalHolidayCalendar\n",
    "\n",
    "bday_us = pd.offsets.CustomBusinessDay(calendar=USFederalHolidayCalendar())\n"
   ]
  },
  {
   "cell_type": "code",
   "execution_count": 20,
   "metadata": {},
   "outputs": [
    {
     "data": {
      "text/plain": [
       "DatetimeIndex(['2021-04-23', '2021-04-26', '2021-04-27', '2021-04-28',\n",
       "               '2021-04-29', '2021-04-30', '2021-05-03', '2021-05-04',\n",
       "               '2021-05-05', '2021-05-06', '2021-05-07', '2021-05-10',\n",
       "               '2021-05-11', '2021-05-12', '2021-05-13', '2021-05-14',\n",
       "               '2021-05-17', '2021-05-18', '2021-05-19', '2021-05-20',\n",
       "               '2021-05-21', '2021-05-24', '2021-05-25', '2021-05-26',\n",
       "               '2021-05-27', '2021-05-28', '2021-06-01', '2021-06-02',\n",
       "               '2021-06-03', '2021-06-04', '2021-06-07', '2021-06-08',\n",
       "               '2021-06-09', '2021-06-10', '2021-06-11', '2021-06-14',\n",
       "               '2021-06-15', '2021-06-16', '2021-06-17', '2021-06-18',\n",
       "               '2021-06-21', '2021-06-22', '2021-06-23', '2021-06-24',\n",
       "               '2021-06-25', '2021-06-28', '2021-06-29', '2021-06-30',\n",
       "               '2021-07-01', '2021-07-02', '2021-07-06', '2021-07-07',\n",
       "               '2021-07-08', '2021-07-09', '2021-07-12', '2021-07-13',\n",
       "               '2021-07-14', '2021-07-15', '2021-07-16', '2021-07-19',\n",
       "               '2021-07-20', '2021-07-21', '2021-07-22', '2021-07-23',\n",
       "               '2021-07-26', '2021-07-27', '2021-07-28', '2021-07-29',\n",
       "               '2021-07-30', '2021-08-02', '2021-08-03', '2021-08-04',\n",
       "               '2021-08-05', '2021-08-06', '2021-08-09', '2021-08-10',\n",
       "               '2021-08-11', '2021-08-12', '2021-08-13', '2021-08-16',\n",
       "               '2021-08-17', '2021-08-18', '2021-08-19', '2021-08-20',\n",
       "               '2021-08-23', '2021-08-24', '2021-08-25', '2021-08-26',\n",
       "               '2021-08-27', '2021-08-30', '2021-08-31', '2021-09-01',\n",
       "               '2021-09-02', '2021-09-03', '2021-09-07', '2021-09-08',\n",
       "               '2021-09-09', '2021-09-10', '2021-09-13', '2021-09-14'],\n",
       "              dtype='datetime64[ns]', freq='C')"
      ]
     },
     "execution_count": 20,
     "metadata": {},
     "output_type": "execute_result"
    }
   ],
   "source": [
    "check_dates = pd.date_range(start=\"20210423\", end=\"20210914\", freq=bday_us)\n",
    "check_dates"
   ]
  },
  {
   "cell_type": "code",
   "execution_count": 21,
   "metadata": {},
   "outputs": [
    {
     "data": {
      "text/plain": [
       "array([ True,  True,  True,  True,  True,  True,  True,  True,  True,\n",
       "        True,  True,  True,  True,  True,  True,  True,  True,  True,\n",
       "        True,  True,  True,  True,  True,  True,  True,  True,  True,\n",
       "        True,  True,  True,  True,  True,  True,  True,  True,  True,\n",
       "        True,  True,  True,  True,  True,  True,  True,  True,  True,\n",
       "        True,  True,  True,  True,  True,  True,  True,  True,  True,\n",
       "        True,  True,  True,  True,  True,  True,  True,  True,  True,\n",
       "        True,  True,  True,  True,  True,  True,  True,  True,  True,\n",
       "        True,  True,  True,  True,  True,  True,  True,  True,  True,\n",
       "        True,  True,  True,  True,  True,  True,  True,  True,  True,\n",
       "        True,  True,  True,  True,  True,  True,  True,  True,  True,\n",
       "        True])"
      ]
     },
     "execution_count": 21,
     "metadata": {},
     "output_type": "execute_result"
    }
   ],
   "source": [
    "check_dates == ticker_df.index"
   ]
  },
  {
   "cell_type": "code",
   "execution_count": 22,
   "metadata": {},
   "outputs": [],
   "source": [
    "#So now I can officially specify that the data is sampled every business (US-based) day   \n",
    "ticker_df.index.freq=bday_us"
   ]
  },
  {
   "cell_type": "code",
   "execution_count": 23,
   "metadata": {},
   "outputs": [
    {
     "data": {
      "text/plain": [
       "DatetimeIndex(['2021-04-23', '2021-04-26', '2021-04-27', '2021-04-28',\n",
       "               '2021-04-29', '2021-04-30', '2021-05-03', '2021-05-04',\n",
       "               '2021-05-05', '2021-05-06', '2021-05-07', '2021-05-10',\n",
       "               '2021-05-11', '2021-05-12', '2021-05-13', '2021-05-14',\n",
       "               '2021-05-17', '2021-05-18', '2021-05-19', '2021-05-20',\n",
       "               '2021-05-21', '2021-05-24', '2021-05-25', '2021-05-26',\n",
       "               '2021-05-27', '2021-05-28', '2021-06-01', '2021-06-02',\n",
       "               '2021-06-03', '2021-06-04', '2021-06-07', '2021-06-08',\n",
       "               '2021-06-09', '2021-06-10', '2021-06-11', '2021-06-14',\n",
       "               '2021-06-15', '2021-06-16', '2021-06-17', '2021-06-18',\n",
       "               '2021-06-21', '2021-06-22', '2021-06-23', '2021-06-24',\n",
       "               '2021-06-25', '2021-06-28', '2021-06-29', '2021-06-30',\n",
       "               '2021-07-01', '2021-07-02', '2021-07-06', '2021-07-07',\n",
       "               '2021-07-08', '2021-07-09', '2021-07-12', '2021-07-13',\n",
       "               '2021-07-14', '2021-07-15', '2021-07-16', '2021-07-19',\n",
       "               '2021-07-20', '2021-07-21', '2021-07-22', '2021-07-23',\n",
       "               '2021-07-26', '2021-07-27', '2021-07-28', '2021-07-29',\n",
       "               '2021-07-30', '2021-08-02', '2021-08-03', '2021-08-04',\n",
       "               '2021-08-05', '2021-08-06', '2021-08-09', '2021-08-10',\n",
       "               '2021-08-11', '2021-08-12', '2021-08-13', '2021-08-16',\n",
       "               '2021-08-17', '2021-08-18', '2021-08-19', '2021-08-20',\n",
       "               '2021-08-23', '2021-08-24', '2021-08-25', '2021-08-26',\n",
       "               '2021-08-27', '2021-08-30', '2021-08-31', '2021-09-01',\n",
       "               '2021-09-02', '2021-09-03', '2021-09-07', '2021-09-08',\n",
       "               '2021-09-09', '2021-09-10', '2021-09-13', '2021-09-14'],\n",
       "              dtype='datetime64[ns]', freq='C')"
      ]
     },
     "execution_count": 23,
     "metadata": {},
     "output_type": "execute_result"
    }
   ],
   "source": [
    "ticker_df.index"
   ]
  },
  {
   "cell_type": "code",
   "execution_count": null,
   "metadata": {},
   "outputs": [],
   "source": []
  }
 ],
 "metadata": {
  "kernelspec": {
   "display_name": "Python 3",
   "language": "python",
   "name": "python3"
  },
  "language_info": {
   "codemirror_mode": {
    "name": "ipython",
    "version": 3
   },
   "file_extension": ".py",
   "mimetype": "text/x-python",
   "name": "python",
   "nbconvert_exporter": "python",
   "pygments_lexer": "ipython3",
   "version": "3.8.5"
  }
 },
 "nbformat": 4,
 "nbformat_minor": 4
}
